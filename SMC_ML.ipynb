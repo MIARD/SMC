{
  "nbformat": 4,
  "nbformat_minor": 0,
  "metadata": {
    "colab": {
      "provenance": [],
      "gpuType": "T4",
      "collapsed_sections": [
        "aPJREcWCli0C",
        "dTVksY0OCWka"
      ],
      "include_colab_link": true
    },
    "kernelspec": {
      "name": "python3",
      "display_name": "Python 3"
    },
    "language_info": {
      "name": "python"
    },
    "accelerator": "GPU"
  },
  "cells": [
    {
      "cell_type": "markdown",
      "metadata": {
        "id": "view-in-github",
        "colab_type": "text"
      },
      "source": [
        "<a href=\"https://colab.research.google.com/github/MIARD/SMC/blob/main/SMC_ML.ipynb\" target=\"_parent\"><img src=\"https://colab.research.google.com/assets/colab-badge.svg\" alt=\"Open In Colab\"/></a>"
      ]
    },
    {
      "cell_type": "code",
      "execution_count": null,
      "metadata": {
        "id": "HYRo15yGj33S"
      },
      "outputs": [],
      "source": [
        "import os\n",
        "import time\n",
        "import joblib\n",
        "from datetime import datetime, timezone\n",
        "import pandas as pd\n",
        "import numpy as np\n",
        "import matplotlib.pyplot as plt\n",
        "import seaborn as sns\n",
        "import plotly.express as px\n",
        "import plotly.graph_objects as go\n",
        "from tabulate import tabulate"
      ]
    },
    {
      "cell_type": "code",
      "source": [
        "from sklearn.model_selection import train_test_split\n",
        "from sklearn.metrics import accuracy_score, classification_report, confusion_matrix\n",
        "from sklearn.ensemble import RandomForestClassifier\n",
        "from xgboost import XGBClassifier\n",
        "from sklearn.preprocessing import StandardScaler\n",
        "from sklearn.linear_model import LogisticRegression\n",
        "from sklearn.feature_selection import RFE\n",
        "from sklearn.ensemble import VotingClassifier\n",
        "from sklearn.ensemble import StackingClassifier\n",
        "from sklearn.pipeline import Pipeline\n",
        "from sklearn.pipeline import make_pipeline\n",
        "from sklearn.preprocessing import LabelEncoder"
      ],
      "metadata": {
        "id": "3hvUOPHeaAvJ"
      },
      "execution_count": null,
      "outputs": []
    },
    {
      "cell_type": "code",
      "source": [
        "df_main = pd.read_excel('SSL_T.xlsx')\n",
        "# df = pd.read_excel('SSL_T_MR.xlsx')\n",
        "# df = pd.read_excel('SSL_M.xlsx')\n",
        "\n",
        "# df = pd.read_excel('Train.xlsx')\n",
        "# df = pd.read_excel('Test.xlsx')\n",
        "# df = pd.read_excel('Train_Test.xlsx')\n",
        "\n",
        "pd.set_option('display.max_rows', None)"
      ],
      "metadata": {
        "id": "ZZBXo6unBhyQ"
      },
      "execution_count": null,
      "outputs": []
    },
    {
      "cell_type": "markdown",
      "source": [
        "#Creating Train Data Functions"
      ],
      "metadata": {
        "id": "aPJREcWCli0C"
      }
    },
    {
      "cell_type": "code",
      "execution_count": null,
      "metadata": {
        "id": "1Qz3FF7W2SqF"
      },
      "outputs": [],
      "source": [
        "def calculate_metrics(group_df):\n",
        "    total_trades = len(group_df)\n",
        "    if total_trades == 0:\n",
        "        return 0, 0, 0.0  # Trade Count, Profit/Loss, Win Rate\n",
        "\n",
        "    total_pl = group_df['Profit/Loss'].sum()\n",
        "    total_wins = (group_df['Profit/Loss'] > 0).sum()\n",
        "    win_rate = total_wins / total_trades\n",
        "\n",
        "    return total_trades, total_pl, win_rate\n"
      ]
    },
    {
      "cell_type": "code",
      "source": [
        "def get_precomputed_stats(df):\n",
        "    # Pre-calculate all possible feature combinations\n",
        "    unique_15min = df['15Min'].unique()\n",
        "    unique_hours = df['Hour'].unique()\n",
        "    unique_weekdays = df['Start_Weekday'].unique()\n",
        "    unique_months = ['January', 'February', 'March', 'April', 'May', 'June', 'July', 'August', 'September', 'October', 'November', 'December']\n",
        "    unique_criteria = df['Criteria'].unique()\n",
        "\n",
        "    # Extract Day of Month and Week of Month\n",
        "    df['Day_of_Month'] = df['startDateTime'].dt.day\n",
        "    df['Week_of_Month'] = df['startDateTime'].apply(lambda x: (x.day - 1) // 7 + 1)\n",
        "    unique_day_of_month = df['Day_of_Month'].unique()\n",
        "    unique_week_of_month = df['Week_of_Month'].unique()\n",
        "\n",
        "    # Store pre-calculated statistics in a dictionary for efficient lookup\n",
        "    precomputed_stats = {}\n",
        "\n",
        "    # Calculate stats for each individual feature value\n",
        "    for time_15min in unique_15min:\n",
        "        df_15min = df[df['15Min'] == time_15min]\n",
        "        stats = calculate_metrics(df_15min)\n",
        "        precomputed_stats[('15Min', time_15min)] = stats\n",
        "\n",
        "    for hour in unique_hours:\n",
        "        df_hour = df[df['Hour'] == hour]\n",
        "        stats = calculate_metrics(df_hour)\n",
        "        precomputed_stats[('Hour', hour)] = stats\n",
        "\n",
        "    for weekday in unique_weekdays:\n",
        "        df_weekday = df[df['Start_Weekday'] == weekday]\n",
        "        stats = calculate_metrics(df_weekday)\n",
        "        precomputed_stats[('Weekday', weekday)] = stats\n",
        "\n",
        "    for month in unique_months:\n",
        "        df_month = df[df['Month'] == month]\n",
        "        stats = calculate_metrics(df_month)\n",
        "        precomputed_stats[('Month', month)] = stats\n",
        "\n",
        "    for criteria in unique_criteria:\n",
        "        df_criteria = df[df['Criteria'] == criteria]\n",
        "        stats = calculate_metrics(df_criteria)\n",
        "        precomputed_stats[('Criteria', criteria)] = stats\n",
        "\n",
        "    # Calculate stats for Day of Month\n",
        "    for day in unique_day_of_month:\n",
        "        df_day = df[df['Day_of_Month'] == day]\n",
        "        stats = calculate_metrics(df_day)\n",
        "        precomputed_stats[('Day_of_Month', day)] = stats\n",
        "\n",
        "    # Calculate stats for Week of Month\n",
        "    for week in unique_week_of_month:\n",
        "        df_week = df[df['Week_of_Month'] == week]\n",
        "        stats = calculate_metrics(df_week)\n",
        "        precomputed_stats[('Week_of_Month', week)] = stats\n",
        "\n",
        "\n",
        "    # Calculate stats for combined features\n",
        "    for weekday in unique_weekdays:\n",
        "        for time_15min in unique_15min:\n",
        "            df_weekday_15m = df[(df['Start_Weekday'] == weekday) & (df['15Min'] == time_15min)]\n",
        "            stats = calculate_metrics(df_weekday_15m)\n",
        "            precomputed_stats[('Weekday_15Min', weekday, time_15min)] = stats\n",
        "\n",
        "        for hour in unique_hours:\n",
        "            df_weekday_hour = df[(df['Start_Weekday'] == weekday) & (df['Hour'] == hour)]\n",
        "            stats = calculate_metrics(df_weekday_hour)\n",
        "            precomputed_stats[('Weekday_Hour', weekday, hour)] = stats\n",
        "\n",
        "        for month in unique_months:\n",
        "            df_weekday_month = df[(df['Start_Weekday'] == weekday) & (df['Month'] == month)]\n",
        "            stats = calculate_metrics(df_weekday_month)\n",
        "            precomputed_stats[('Weekday_Month', weekday, month)] = stats\n",
        "\n",
        "        for day in unique_day_of_month:\n",
        "            df_weekday_day = df[(df['Start_Weekday'] == weekday) & (df['Day_of_Month'] == day)]\n",
        "            stats = calculate_metrics(df_weekday_day)\n",
        "            precomputed_stats[('Weekday_Day', weekday, day)] = stats\n",
        "\n",
        "        for week in unique_week_of_month:\n",
        "            df_weekday_week = df[(df['Start_Weekday'] == weekday) & (df['Week_of_Month'] == week)]\n",
        "            stats = calculate_metrics(df_weekday_week)\n",
        "            precomputed_stats[('Weekday_Week', weekday, week)] = stats\n",
        "\n",
        "\n",
        "    for criteria in unique_criteria:\n",
        "        for time_15min in unique_15min:\n",
        "            df_criteria_15m = df[(df['Criteria'] == criteria) & (df['15Min'] == time_15min)]\n",
        "            stats = calculate_metrics(df_criteria_15m)\n",
        "            precomputed_stats[('Criteria_15Min', criteria, time_15min)] = stats\n",
        "\n",
        "        for hour in unique_hours:\n",
        "            df_criteria_hour = df[(df['Criteria'] == criteria) & (df['Hour'] == hour)]\n",
        "            stats = calculate_metrics(df_criteria_hour)\n",
        "            precomputed_stats[('Criteria_Hour', criteria, hour)] = stats\n",
        "\n",
        "        for weekday in unique_weekdays:\n",
        "            df_criteria_weekday = df[(df['Criteria'] == criteria) & (df['Start_Weekday'] == weekday)]\n",
        "            stats = calculate_metrics(df_criteria_weekday)\n",
        "            precomputed_stats[('Criteria_Weekday', criteria, weekday)] = stats\n",
        "\n",
        "        for month in unique_months:\n",
        "            df_criteria_month = df[(df['Criteria'] == criteria) & (df['Month'] == month)]\n",
        "            stats = calculate_metrics(df_criteria_month)\n",
        "            precomputed_stats[('Criteria_Month', criteria, month)] = stats\n",
        "\n",
        "        for day in unique_day_of_month:\n",
        "            df_criteria_day = df[(df['Criteria'] == criteria) & (df['Day_of_Month'] == day)]\n",
        "            stats = calculate_metrics(df_criteria_day)\n",
        "            precomputed_stats[('Criteria_Day', criteria, day)] = stats\n",
        "\n",
        "        for week in unique_week_of_month:\n",
        "            df_criteria_week = df[(df['Criteria'] == criteria) & (df['Week_of_Month'] == week)]\n",
        "            stats = calculate_metrics(df_criteria_week)\n",
        "            precomputed_stats[('Criteria_Week', criteria, week)] = stats\n",
        "\n",
        "\n",
        "    for hour in unique_hours:\n",
        "        for month in unique_months:\n",
        "            df_hour_month = df[(df['Hour'] == hour) & (df['Month'] == month)]\n",
        "            stats = calculate_metrics(df_hour_month)\n",
        "            precomputed_stats[('Hour_Month', hour, month)] = stats\n",
        "\n",
        "        for day in unique_day_of_month:\n",
        "            df_hour_day = df[(df['Hour'] == hour) & (df['Day_of_Month'] == day)]\n",
        "            stats = calculate_metrics(df_hour_day)\n",
        "            precomputed_stats[('Hour_Day', hour, day)] = stats\n",
        "\n",
        "        for week in unique_week_of_month:\n",
        "            df_hour_week = df[(df['Hour'] == hour) & (df['Week_of_Month'] == week)]\n",
        "            stats = calculate_metrics(df_hour_week)\n",
        "            precomputed_stats[('Hour_Week', hour, week)] = stats\n",
        "\n",
        "\n",
        "    for time_15min in unique_15min:\n",
        "        for month in unique_months:\n",
        "            df_15min_month = df[(df['15Min'] == time_15min) & (df['Month'] == month)]\n",
        "            stats = calculate_metrics(df_15min_month)\n",
        "            precomputed_stats[('15Min_Month', time_15min, month)] = stats\n",
        "\n",
        "        for day in unique_day_of_month:\n",
        "            df_15min_day = df[(df['15Min'] == time_15min) & (df['Day_of_Month'] == day)]\n",
        "            stats = calculate_metrics(df_15min_day)\n",
        "            precomputed_stats[('15Min_Day', time_15min, day)] = stats\n",
        "\n",
        "        for week in unique_week_of_month:\n",
        "            df_15min_week = df[(df['15Min'] == time_15min) & (df['Week_of_Month'] == week)]\n",
        "            stats = calculate_metrics(df_15min_week)\n",
        "            precomputed_stats[('15Min_Week', time_15min, week)] = stats\n",
        "\n",
        "\n",
        "    for month in unique_months:\n",
        "        for day in unique_day_of_month:\n",
        "            df_month_day = df[(df['Month'] == month) & (df['Day_of_Month'] == day)]\n",
        "            stats = calculate_metrics(df_month_day)\n",
        "            precomputed_stats[('Month_Day', month, day)] = stats\n",
        "\n",
        "        for week in unique_week_of_month:\n",
        "            df_month_week = df[(df['Month'] == month) & (df['Week_of_Month'] == week)]\n",
        "            stats = calculate_metrics(df_month_week)\n",
        "            precomputed_stats[('Month_Week', month, week)] = stats\n",
        "\n",
        "    for day in unique_day_of_month:\n",
        "        for week in unique_week_of_month:\n",
        "            df_day_week = df[(df['Day_of_Month'] == day) & (df['Week_of_Month'] == week)]\n",
        "            stats = calculate_metrics(df_day_week)\n",
        "            precomputed_stats[('Day_Week', day, week)] = stats\n",
        "\n",
        "    return precomputed_stats\n"
      ],
      "metadata": {
        "id": "VLsHEh7IISRW"
      },
      "execution_count": null,
      "outputs": []
    },
    {
      "cell_type": "code",
      "source": [
        "def get_feature_data(precomputed_stats, index, row):\n",
        "    # Retrieve stats for individual features\n",
        "    row_data = {}\n",
        "    time_15min = row['15Min']\n",
        "    trade_count_15m, pl_15m, win_rate_15m = precomputed_stats[('15Min', time_15min)]\n",
        "    row_data['15Min_Trade Count'] = trade_count_15m\n",
        "    row_data['15Min_Win Rate'] = win_rate_15m\n",
        "    row_data['15Min_Profit/Loss'] = pl_15m\n",
        "\n",
        "    hour = row['Hour']\n",
        "    trade_count_hour, pl_hour, win_rate_hour = precomputed_stats[('Hour', hour)]\n",
        "    row_data['Hour_Trade Count'] = trade_count_hour\n",
        "    row_data['Hour_Win Rate'] = win_rate_hour\n",
        "    row_data['Hour_Profit/Loss'] = pl_hour\n",
        "\n",
        "    weekday = row['Start_Weekday']\n",
        "    trade_count_weekday, pl_weekday, win_rate_weekday = precomputed_stats[('Weekday', weekday)]\n",
        "    row_data['Weekday_Trade Count'] = trade_count_weekday\n",
        "    row_data['Weekday_Win Rate'] = win_rate_weekday\n",
        "    row_data['Weekday_Profit/Loss'] = pl_weekday\n",
        "\n",
        "    month = row['Month']\n",
        "    trade_count_month, pl_month, win_rate_month = precomputed_stats[('Month', month)]\n",
        "    row_data['Month_Trade Count'] = trade_count_month\n",
        "    row_data['Month_Win Rate'] = win_rate_month\n",
        "    row_data['Month_Profit/Loss'] = pl_month\n",
        "\n",
        "    criteria = row['Criteria']\n",
        "    trade_count_criteria, pl_criteria, win_rate_criteria = precomputed_stats[('Criteria', criteria)]\n",
        "    row_data['Criteria_Trade Count'] = trade_count_criteria\n",
        "    row_data['Criteria_Win Rate'] = win_rate_criteria\n",
        "    row_data['Criteria_Profit/Loss'] = pl_criteria\n",
        "\n",
        "    # Add features for Day of Month and Week of Month\n",
        "    day_of_month = row['Day_of_Month']\n",
        "    trade_count_day, pl_day, win_rate_day = precomputed_stats[('Day_of_Month', day_of_month)]\n",
        "    row_data['Day_of_Month_Trade Count'] = trade_count_day\n",
        "    row_data['Day_of_Month_Win Rate'] = win_rate_day\n",
        "    row_data['Day_of_Month_Profit/Loss'] = pl_day\n",
        "\n",
        "    week_of_month = row['Week_of_Month']\n",
        "    trade_count_week, pl_week, win_rate_week = precomputed_stats[('Week_of_Month', week_of_month)]\n",
        "    row_data['Week_of_Month_Trade Count'] = trade_count_week\n",
        "    row_data['Week_of_Month_Win Rate'] = win_rate_week\n",
        "    row_data['Week_of_Month_Profit/Loss'] = pl_week\n",
        "\n",
        "    # Retrieve stats for combined features\n",
        "    trade_count_weekday_15m, pl_weekday_15m, win_rate_weekday_15m = precomputed_stats[('Weekday_15Min', weekday, time_15min)]\n",
        "    row_data['Weekday_15Min_Trade Count'] = trade_count_weekday_15m\n",
        "    row_data['Weekday_15Min_Win Rate'] = win_rate_weekday_15m\n",
        "    row_data['Weekday_15Min_Profit/Loss'] = pl_weekday_15m\n",
        "\n",
        "    trade_count_weekday_hour, pl_weekday_hour, win_rate_weekday_hour = precomputed_stats[('Weekday_Hour', weekday, hour)]\n",
        "    row_data['Weekday_Hour_Trade Count'] = trade_count_weekday_hour\n",
        "    row_data['Weekday_Hour_Win Rate'] = win_rate_weekday_hour\n",
        "    row_data['Weekday_Hour_Profit/Loss'] = pl_weekday_hour\n",
        "\n",
        "    trade_count_weekday_month, pl_weekday_month, win_rate_weekday_month = precomputed_stats[('Weekday_Month', weekday, month)]\n",
        "    row_data['Weekday_Month_Trade Count'] = trade_count_weekday_month\n",
        "    row_data['Weekday_Month_Win Rate'] = win_rate_weekday_month\n",
        "    row_data['Weekday_Month_Profit/Loss'] = pl_weekday_month\n",
        "\n",
        "    trade_count_criteria_15m, pl_criteria_15m, win_rate_criteria_15m = precomputed_stats[('Criteria_15Min', criteria, time_15min)]\n",
        "    row_data['Criteria_15Min_Trade Count'] = trade_count_criteria_15m\n",
        "    row_data['Criteria_15Min_Win Rate'] = win_rate_criteria_15m\n",
        "    row_data['Criteria_15Min_Profit/Loss'] = pl_criteria_15m\n",
        "\n",
        "    trade_count_criteria_hour, pl_criteria_hour, win_rate_criteria_hour = precomputed_stats[('Criteria_Hour', criteria, hour)]\n",
        "    row_data['Criteria_Hour_Trade Count'] = trade_count_criteria_hour\n",
        "    row_data['Criteria_Hour_Win Rate'] = win_rate_criteria_hour\n",
        "    row_data['Criteria_Hour_Profit/Loss'] = pl_criteria_hour\n",
        "\n",
        "    trade_count_criteria_weekday, pl_criteria_weekday, win_rate_criteria_weekday = precomputed_stats[('Criteria_Weekday', criteria, weekday)]\n",
        "    row_data['Criteria_Weekday_Trade Count'] = trade_count_criteria_weekday\n",
        "    row_data['Criteria_Weekday_Win Rate'] = win_rate_criteria_weekday\n",
        "    row_data['Criteria_Weekday_Profit/Loss'] = pl_criteria_weekday\n",
        "\n",
        "    trade_count_criteria_month, pl_criteria_month, win_rate_criteria_month = precomputed_stats[('Criteria_Month', criteria, month)]\n",
        "    row_data['Criteria_Month_Trade Count'] = trade_count_criteria_month\n",
        "    row_data['Criteria_Month_Win Rate'] = win_rate_criteria_month\n",
        "    row_data['Criteria_Month_Profit/Loss'] = pl_criteria_month\n",
        "\n",
        "    trade_count_hour_month, pl_hour_month, win_rate_hour_month = precomputed_stats[('Hour_Month', hour, month)]\n",
        "    row_data['Hour_Month_Trade Count'] = trade_count_hour_month\n",
        "    row_data['Hour_Month_Win Rate'] = win_rate_hour_month\n",
        "    row_data['Hour_Month_Profit/Loss'] = pl_hour_month\n",
        "\n",
        "    trade_count_15min_month, pl_15min_month, win_rate_15min_month = precomputed_stats[('15Min_Month', time_15min, month)]\n",
        "    row_data['15Min_Month_Trade Count'] = trade_count_15min_month\n",
        "    row_data['15Min_Month_Win Rate'] = win_rate_15min_month\n",
        "    row_data['15Min_Month_Profit/Loss'] = pl_15min_month\n",
        "\n",
        "    # Add combined features for Day of Month and Week of Month\n",
        "    trade_count_weekday_day, pl_weekday_day, win_rate_weekday_day = precomputed_stats[('Weekday_Day', weekday, day_of_month)]\n",
        "    row_data['Weekday_Day_Trade Count'] = trade_count_weekday_day\n",
        "    row_data['Weekday_Day_Win Rate'] = win_rate_weekday_day\n",
        "    row_data['Weekday_Day_Profit/Loss'] = pl_weekday_day\n",
        "\n",
        "    trade_count_weekday_week, pl_weekday_week, win_rate_weekday_week = precomputed_stats[('Weekday_Week', weekday, week_of_month)]\n",
        "    row_data['Weekday_Week_Trade Count'] = trade_count_weekday_week\n",
        "    row_data['Weekday_Week_Win Rate'] = win_rate_weekday_week\n",
        "    row_data['Weekday_Week_Profit/Loss'] = pl_weekday_week\n",
        "\n",
        "    trade_count_criteria_day, pl_criteria_day, win_rate_criteria_day = precomputed_stats[('Criteria_Day', criteria, day_of_month)]\n",
        "    row_data['Criteria_Day_Trade Count'] = trade_count_criteria_day\n",
        "    row_data['Criteria_Day_Win Rate'] = win_rate_criteria_day\n",
        "    row_data['Criteria_Day_Profit/Loss'] = pl_criteria_day\n",
        "\n",
        "    trade_count_criteria_week, pl_criteria_week, win_rate_criteria_week = precomputed_stats[('Criteria_Week', criteria, week_of_month)]\n",
        "    row_data['Criteria_Week_Trade Count'] = trade_count_criteria_week\n",
        "    row_data['Criteria_Week_Win Rate'] = win_rate_criteria_week\n",
        "    row_data['Criteria_Week_Profit/Loss'] = pl_criteria_week\n",
        "\n",
        "    trade_count_hour_day, pl_hour_day, win_rate_hour_day = precomputed_stats[('Hour_Day', hour, day_of_month)]\n",
        "    row_data['Hour_Day_Trade Count'] = trade_count_hour_day\n",
        "    row_data['Hour_Day_Win Rate'] = win_rate_hour_day\n",
        "    row_data['Hour_Day_Profit/Loss'] = pl_hour_day\n",
        "\n",
        "    trade_count_hour_week, pl_hour_week, win_rate_hour_week = precomputed_stats[('Hour_Week', hour, week_of_month)]\n",
        "    row_data['Hour_Week_Trade Count'] = trade_count_hour_week\n",
        "    row_data['Hour_Week_Win Rate'] = win_rate_hour_week\n",
        "    row_data['Hour_Week_Profit/Loss'] = pl_hour_week\n",
        "\n",
        "    trade_count_15min_day, pl_15min_day, win_rate_15min_day = precomputed_stats[('15Min_Day', time_15min, day_of_month)]\n",
        "    row_data['15Min_Day_Trade Count'] = trade_count_15min_day\n",
        "    row_data['15Min_Day_Win Rate'] = win_rate_15min_day\n",
        "    row_data['15Min_Day_Profit/Loss'] = pl_15min_day\n",
        "\n",
        "    trade_count_15min_week, pl_15min_week, win_rate_15min_week = precomputed_stats[('15Min_Week', time_15min, week_of_month)]\n",
        "    row_data['15Min_Week_Trade Count'] = trade_count_15min_week\n",
        "    row_data['15Min_Week_Win Rate'] = win_rate_15min_week\n",
        "    row_data['15Min_Week_Profit/Loss'] = pl_15min_week\n",
        "\n",
        "    trade_count_month_day, pl_month_day, win_rate_month_day = precomputed_stats[('Month_Day', month, day_of_month)]\n",
        "    row_data['Month_Day_Trade Count'] = trade_count_month_day\n",
        "    row_data['Month_Day_Win Rate'] = win_rate_month_day\n",
        "    row_data['Month_Day_Profit/Loss'] = pl_month_day\n",
        "\n",
        "    trade_count_month_week, pl_month_week, win_rate_month_week = precomputed_stats[('Month_Week', month, week_of_month)]\n",
        "    row_data['Month_Week_Trade Count'] = trade_count_month_week\n",
        "    row_data['Month_Week_Win Rate'] = win_rate_month_week\n",
        "    row_data['Month_Week_Profit/Loss'] = pl_month_week\n",
        "\n",
        "    trade_count_day_week, pl_day_week, win_rate_day_week = precomputed_stats[('Day_Week', day_of_month, week_of_month)]\n",
        "    row_data['Day_Week_Trade Count'] = trade_count_day_week\n",
        "    row_data['Day_Week_Win Rate'] = win_rate_day_week\n",
        "    row_data['Day_Week_Profit/Loss'] = pl_day_week\n",
        "\n",
        "    return row_data"
      ],
      "metadata": {
        "id": "w5DzXKw_NP1W"
      },
      "execution_count": null,
      "outputs": []
    },
    {
      "cell_type": "code",
      "source": [
        "def get_train_data(df, precomputed_stats):\n",
        "    # Prepare an empty DataFrame to store the results for each row\n",
        "    train_data_list = []\n",
        "\n",
        "    # Iterate through each row of the original DataFrame\n",
        "    for index, row in df.iterrows():\n",
        "        row_data = get_feature_data(precomputed_stats, index, row)\n",
        "        train_data_list.append(row_data)\n",
        "\n",
        "    # Create the new DataFrame\n",
        "    train_data = pd.DataFrame(train_data_list)\n",
        "    # train_data will now contain the calculated statistics for each row of the original df\n",
        "    # You can merge this back with the original df if needed:\n",
        "    # train_data = pd.concat([df.reset_index(drop=True), train_data], axis=1)\n",
        "    return train_data"
      ],
      "metadata": {
        "id": "FrkGcyT1CQEp"
      },
      "execution_count": null,
      "outputs": []
    },
    {
      "cell_type": "markdown",
      "source": [
        "###Get Train Data From Input"
      ],
      "metadata": {
        "id": "d6HOBC9hrIjA"
      }
    },
    {
      "cell_type": "code",
      "source": [
        "def get_train_data_for_input(precomputed_stats, time_input, date_input, criteria_input, training_feature_cols):\n",
        "\n",
        "    # Convert inputs\n",
        "    try:\n",
        "        input_time = datetime.strptime(time_input, '%H:%M').time()\n",
        "    except ValueError:\n",
        "        print(\"Invalid time format. Use HH:MM.\")\n",
        "        return pd.DataFrame()\n",
        "\n",
        "    try:\n",
        "        input_date = datetime.strptime(date_input, '%m/%d/%Y')\n",
        "    except ValueError:\n",
        "        print(\"Invalid date format. Use M/D/YYYY.\")\n",
        "        return pd.DataFrame()\n",
        "\n",
        "    row_data = {}\n",
        "    input_datetime = datetime.combine(input_date, input_time)\n",
        "    time_15min = input_datetime.strftime('%H:%M')\n",
        "    hour = input_datetime.hour\n",
        "    weekday = input_datetime.strftime('%A')\n",
        "    month = input_datetime.strftime('%B')\n",
        "    criteria = criteria_input\n",
        "    day_of_month = input_datetime.day\n",
        "    week_of_month = (input_datetime.day - 1) // 7 + 1\n",
        "\n",
        "    # Retrieve stats from precomputed_stats dictionary\n",
        "    try:\n",
        "        row = {'15Min': time_15min, 'Hour': hour, 'Start_Weekday': weekday, 'Month': month, 'Criteria': criteria, 'Day_of_Month':day_of_month, 'Week_of_Month':week_of_month}\n",
        "        row_data = get_feature_data(precomputed_stats, 0, row)\n",
        "\n",
        "    except KeyError as e:\n",
        "        print(f\"Error: Missing precomputed statistic for key {e}. Ensure create_precomputed_stats covers all combinations you need.\")\n",
        "        return pd.DataFrame()\n",
        "\n",
        "\n",
        "    # Create DataFrame from the calculated row_data\n",
        "    input_features_df = pd.DataFrame([row_data])\n",
        "    # Reindex the input_features_df to match the training columns, filling missing with 0\n",
        "    input_features_df = input_features_df.reindex(columns=training_feature_cols, fill_value=0)\n",
        "\n",
        "    # Convert all columns to the same data type as the training features (assuming int from previous steps)\n",
        "    # for col in input_features_df.columns:\n",
        "    #     try:\n",
        "    #          input_features_df[col] = pd.to_numeric(input_features_df[col], errors='coerce')\n",
        "    #          input_features_df[col] = input_features_df[col].fillna(0).astype(int)\n",
        "    #     except ValueError:\n",
        "    #         print(f\"Warning: Could not convert input column '{col}' to integer.\")\n",
        "\n",
        "\n",
        "    return input_features_df\n",
        "\n",
        "\n",
        "# Call the optimized function\n",
        "# input_data = get_train_data_for_input_optimized(precomputed_stats, '09:30', '01/8/2023', 'ELC', training_feature_cols)\n",
        "# print(input_data)\n"
      ],
      "metadata": {
        "id": "9u1ALKrL9kRT"
      },
      "execution_count": null,
      "outputs": []
    },
    {
      "cell_type": "markdown",
      "source": [
        "#Test(Predicted) Data Analysis Functions"
      ],
      "metadata": {
        "id": "dTVksY0OCWka"
      }
    },
    {
      "cell_type": "code",
      "source": [
        "def predict_trade_result(model, input_features_df, training_feature_cols):\n",
        "\n",
        "    if input_features_df.empty:\n",
        "        print(\"Cannot predict: Invalid input features.\")\n",
        "        return None, None\n",
        "\n",
        "    # Make prediction\n",
        "    input_features_df = input_features_df[training_feature_cols]\n",
        "    predicted_class = model.predict(input_features_df)[0]\n",
        "    if predicted_class == 0:\n",
        "        predicted_proba = model.predict_proba(input_features_df)\n",
        "    else:\n",
        "        predicted_proba = model.predict_proba(input_features_df)\n",
        "\n",
        "    return predicted_class, predicted_proba"
      ],
      "metadata": {
        "id": "aTGB5KW8rSY_"
      },
      "execution_count": null,
      "outputs": []
    },
    {
      "cell_type": "markdown",
      "source": [
        "#Stats & Visualizations Functions"
      ],
      "metadata": {
        "id": "4Y-Citk6AQlj"
      }
    },
    {
      "cell_type": "code",
      "source": [
        "def plot_confusion_matrices_horizontal(y_true, predictions, model_names, ticks=['LOSS', 'WIN'], multi=False):\n",
        "    num_models = len(predictions)\n",
        "    if num_models == 0 or len(predictions) != len(model_names):\n",
        "        print(\"Invalid input for plotting confusion matrices.\")\n",
        "        return None\n",
        "\n",
        "    fig, axes = plt.subplots(2, int(num_models / 2) + 1, figsize=(5 * (int(num_models / 2) + 1), 6))\n",
        "    axes = axes if isinstance(axes, np.ndarray) else np.array([[axes]])\n",
        "    r = 0\n",
        "\n",
        "    for i, y_pred in enumerate(predictions):\n",
        "        p_txt = \"\"\n",
        "        t_txt = \"\"\n",
        "        if i == 3:\n",
        "            r = 1\n",
        "\n",
        "        if multi == True:\n",
        "            ticks_u = np.union1d(y_true, y_pred)\n",
        "            p_txt = f\"Missing: {np.setdiff1d(ticks, y_pred).tolist()}\"\n",
        "            t_txt = f\"Missing: {np.setdiff1d(ticks, y_true).tolist()}\"\n",
        "            ticks = ticks_u\n",
        "\n",
        "        cm = confusion_matrix(y_true, y_pred)\n",
        "        acc = accuracy_score(y_true, y_pred)\n",
        "\n",
        "        ax = axes[r, i % 3]\n",
        "        sns.heatmap(cm, annot=True, fmt=\"d\", cmap=\"Blues\", ax=ax, cbar=False)\n",
        "        ax.set_title(f'{model_names[i]}\\nAccuracy: {acc:.2f}', fontsize=11)\n",
        "        ax.set_xlabel(f'Predicted {p_txt}', fontsize=10)\n",
        "        ax.set_ylabel(f'True {t_txt}', fontsize=10)\n",
        "        ax.set_xticklabels(ticks)\n",
        "        ax.set_yticklabels(ticks)\n",
        "\n",
        "    plt.tight_layout()\n",
        "    return fig"
      ],
      "metadata": {
        "id": "T31ozpHiANsk"
      },
      "execution_count": null,
      "outputs": []
    },
    {
      "cell_type": "markdown",
      "source": [
        "##Show Prediciton"
      ],
      "metadata": {
        "id": "AOFVeBCVRDS4"
      }
    },
    {
      "cell_type": "code",
      "source": [
        "def show_predictions(time_input, date_input, criteria_input, CL, CW, training_feature_cols,model_names, model_keys, precomputed_stats=None,label_encoder=None, b_models=None, m_models=None, b_acc=None, m_acc=None, Max_R=False, s_print=True, w_threshold=1):\n",
        "    mr = \"_max_r\" if Max_R else \"\"\n",
        "    # Initialize models and their keys\n",
        "    binary_models = b_models if b_models is not None else [globals()[f\"{k}_model{mr}\"] for k in model_keys]\n",
        "    binary_accuracies = b_acc if b_acc is not None else [globals()[f\"{k}_accuracy{mr}\"] for k in model_keys]\n",
        "\n",
        "    multiclass_models = m_models if m_models is not None else [globals()[f\"{k}_model_m{mr}\"] for k in model_keys]\n",
        "    multiclass_accuracies = m_acc if m_acc is not None else [globals()[f\"{k}_accuracy_m{mr}\"] for k in model_keys]\n",
        "\n",
        "    time_input = datetime.strptime(time_input, '%H:%M').strftime('%H:%M')\n",
        "    date_input = datetime.strptime(date_input, '%m/%d/%Y').strftime('%m/%d/%Y')\n",
        "    if s_print:\n",
        "      print(f\"input:{date_input} {time_input} Criteria: {criteria_input} CL: {CL} CW: {CW}\")\n",
        "\n",
        "    input_features = get_train_data_for_input(precomputed_stats, time_input, date_input, criteria_input, training_feature_cols)\n",
        "    input_features['CL'] = [CL]\n",
        "    input_features['CW'] = [CW]\n",
        "    predictions = []\n",
        "    predictions_multi = []\n",
        "    if not input_features.empty:\n",
        "        table_data = []\n",
        "\n",
        "        for i, name in enumerate(model_names):\n",
        "            # Predict binary\n",
        "            pred_bin, prob_bin = predict_trade_result(binary_models[i], input_features, training_feature_cols)\n",
        "            label_bin = 'Win' if pred_bin == 1 else 'Loss'\n",
        "            acc_bin = f\"{binary_accuracies[i]:.2f}\"\n",
        "            bin_str = f\"{label_bin} ({np.max(prob_bin):.2f}), Acc: {acc_bin}\"\n",
        "\n",
        "            # Predict multiclass\n",
        "            pred_multi, prob_multi = predict_trade_result(multiclass_models[i], input_features, training_feature_cols)\n",
        "            acc_multi = f\"{multiclass_accuracies[i]:.2f}\"\n",
        "            multi_str = f\"Class {label_encoder.inverse_transform([pred_multi])[0]} ({np.max(prob_multi):.2f}), Acc: {acc_multi}\"\n",
        "            table_data.append([name, bin_str, multi_str])\n",
        "            predictions.append(pred_bin)\n",
        "            predictions_multi.append(pred_multi)\n",
        "        predicted_win = predictions.count(1)\n",
        "        predicted_loss = predictions.count(0)\n",
        "        predicted_win_multi = len(predictions)-predictions_multi.count(0)\n",
        "        predicted_loss_multi = predictions_multi.count(0)\n",
        "        trade_decision = \"Win\" if predicted_win > w_threshold else \"Loss\"\n",
        "        trade_decision_multi = \"Win\" if predicted_win_multi >= w_threshold else \"Loss\"\n",
        "        predictions_multi = label_encoder.inverse_transform(predictions_multi).tolist()\n",
        "        max_r = \"\" if trade_decision_multi == \"Loss\" else \"- Max R: \"+str(np.max(predictions_multi))\n",
        "        avg_r = \"\" if trade_decision_multi == \"Loss\" else \"- Average R:\"+str(np.mean([x for x in predictions_multi if x>0]))\n",
        "        # Display table\n",
        "        if s_print:\n",
        "            print(f\"\\n--- 📊 Combined Model Predictions for {date_input} {time_input} ({criteria_input}) -{mr} ---\\n\")\n",
        "            print(f\"Overall decision: ---- Binary: ** {trade_decision} **  Multi: ** {trade_decision_multi}** ---- {max_r} {avg_r}\")\n",
        "            print(f\"Binary Models: Win Predicted **{predicted_win} time **    Multi Models: Win Predicted **{predicted_win_multi}**\")\n",
        "            print(tabulate(table_data, headers=[\"Model\", \"📘 Binary (Win/Loss)\", \"📗 Multi-Class (R Bucket)\"], tablefmt=\"fancy_grid\"))\n",
        "        return predictions, predictions_multi\n",
        "\n",
        "    else:\n",
        "        print(\"❌ Prediction could not be made due to invalid inputs or data.\")"
      ],
      "metadata": {
        "id": "x1m7AGY-Q1cS"
      },
      "execution_count": null,
      "outputs": []
    },
    {
      "cell_type": "markdown",
      "source": [
        "##Overall Statistic Using Model Prediction"
      ],
      "metadata": {
        "id": "E5V2f13WrWM2"
      }
    },
    {
      "cell_type": "code",
      "source": [
        "def overall_stats(df, features_filtered, models, training_feature_cols):\n",
        "    overall_stats_df = pd.DataFrame()\n",
        "    # Ensure required columns for filtering exist in the original df\n",
        "    if 'Profit/Loss' not in df.columns:\n",
        "        df['Profit/Loss'] = df['Profit'] - df['Loss'] - df['Fee']\n",
        "    if 'Trade Duration (hours)' not in df.columns:\n",
        "        df['Trade Duration (hours)'] = (df['exitDateTime'] - df['startDateTime']).dt.total_seconds() / 3600\n",
        "\n",
        "    features_filtered = features_filtered[training_feature_cols]\n",
        "\n",
        "    for model_name, model in models.items():\n",
        "\n",
        "        # 1. Calculate pred result using feature\n",
        "        # Predict on the entire feature set (features DataFrame)\n",
        "        pred_result = model.predict(features_filtered)\n",
        "\n",
        "        # 2. Use that result to filter df for took trade\n",
        "        # Create a new column based on the prediction\n",
        "        # We only consider trades where the model predicted a \"Win\" (class 1)\n",
        "        df_filtered = df.copy()\n",
        "        df_filtered['Predicted_Result'] = pred_result\n",
        "        df_took_trade = df_filtered[df_filtered['Predicted_Result'] >= 1]\n",
        "        # print(df_took_trade.head( ))\n",
        "        # 3. Overall statistic for filtered data frame\n",
        "        if not df_took_trade.empty:\n",
        "            total_trades = len(df_took_trade)\n",
        "            total_wins = (df_took_trade['Profit/Loss'] > 0).sum()\n",
        "            win_rate = total_wins / total_trades\n",
        "            total_profit = df_took_trade['Profit'].sum()\n",
        "            total_loss = df_took_trade['Loss'].sum()\n",
        "            total_fee = df_took_trade['Fee'].sum()\n",
        "            max_profit = df_took_trade['Profit/Loss'].max()\n",
        "            max_loss = df_took_trade['Profit/Loss'].min()\n",
        "            avg_profit = df_took_trade[df_took_trade['Profit/Loss'] > 0]['Profit/Loss'].mean() if (df_took_trade['Profit/Loss'] > 0).sum() > 0 else 0\n",
        "            avg_loss = df_took_trade[df_took_trade['Profit/Loss'] < 0]['Profit/Loss'].mean() if (df_took_trade['Profit/Loss'] < 0).sum() > 0 else 0\n",
        "            total_time = df_took_trade['Trade Duration (hours)'].sum()\n",
        "            average_time = df_took_trade['Trade Duration (hours)'].mean()\n",
        "            realized_pl = df_took_trade['Profit/Loss'].sum()\n",
        "            avg_r_positive_pl = df_took_trade[df_took_trade['Profit/Loss'] > 0]['R'].mean()\n",
        "            # Append the statistics as a new row to the overall_stats_df\n",
        "            model_stats = {\n",
        "                'Model': model_name,\n",
        "                'Total Trades': total_trades,\n",
        "                'Total Win Count': total_wins,\n",
        "                'Total Loss Count': (df_took_trade['Profit/Loss'] < 0).sum(),\n",
        "                'Total Profit': total_profit,\n",
        "                'Total Loss': total_loss,\n",
        "                'Total Fee': total_fee,\n",
        "                'Win Rate (%)': round(win_rate * 100, 2),\n",
        "                'Average R': round(avg_r_positive_pl, 2),\n",
        "                'Max Profit': round(max_profit, 2),\n",
        "                'Average Profit': round(avg_profit, 2),\n",
        "                'Average Loss': round(avg_loss, 2),\n",
        "                'Total Time (hours)': round(total_time, 2),\n",
        "                'Average Time (hours)': round(average_time, 2),\n",
        "                'Realized Profit/Loss': round(realized_pl, 2),\n",
        "                'R': round(total_profit / (total_loss + total_fee), 2)\n",
        "            }\n",
        "\n",
        "            overall_stats_df = pd.concat([overall_stats_df, pd.DataFrame([model_stats])], ignore_index=True)\n",
        "\n",
        "        else:\n",
        "            print(f\"No trades were 'taken' based on {model_name} predictions.\")\n",
        "            # Add a row of zeros for models with no predicted 'Win' trades\n",
        "            model_stats = {\n",
        "                'Model': model_name,\n",
        "                'Total Trades': 0,\n",
        "                'Total Win Count': 0,\n",
        "                'Total Loss Count': 0,\n",
        "                'Total Profit': 0,\n",
        "                'Total Loss': 0,\n",
        "                'Total Fee': 0,\n",
        "                'Win Rate (%)': 0.0,\n",
        "                'Max Profit': 0.0,\n",
        "                'Average Profit': 0.0,\n",
        "                'Average Loss': 0.0,\n",
        "                'Total Time (hours)': 0.0,\n",
        "                'Average Time (hours)': 0.0,\n",
        "                'Realized Profit/Loss': 0.0\n",
        "            }\n",
        "            overall_stats_df = pd.concat([overall_stats_df, pd.DataFrame([model_stats])], ignore_index=True)\n",
        "    return overall_stats_df"
      ],
      "metadata": {
        "id": "M5zLZ8sTMH2u"
      },
      "execution_count": null,
      "outputs": []
    },
    {
      "cell_type": "markdown",
      "source": [
        "#Data Preparation"
      ],
      "metadata": {
        "id": "LNtN_wbBlSNf"
      }
    },
    {
      "cell_type": "code",
      "source": [
        "def prepare_data(df):\n",
        "    df['startDateTime']=pd.to_datetime(df['Start Date'].astype(str) + ' ' + df['Start Time'].astype(str))\n",
        "    # prompt: make Exit date and Exit time column as datetime. Time is on UTC.\n",
        "    df['exitDateTime'] = pd.to_datetime(df['Exit Date'].astype(str) + ' ' + df['Exit Time'].astype(str),)\n",
        "    df['Trade Duration (hours)'] = (df['exitDateTime'] - df['startDateTime']).dt.total_seconds() / 3600\n",
        "    df['Start_Weekday'] = df['startDateTime'].dt.day_name()\n",
        "    df['Exit_Weekday'] = df['exitDateTime'].dt.day_name()\n",
        "    df['Profit/Loss']= df['Profit'] - df['Loss'] - df['Fee']\n",
        "    df['Hour'] = df['startDateTime'].dt.hour\n",
        "    df['Time'] = df['startDateTime'].dt.time\n",
        "    df['15Min'] = df['startDateTime'].dt.strftime('%H:%M')\n",
        "    df['Month'] = df['startDateTime'].dt.month_name()\n",
        "    return df"
      ],
      "metadata": {
        "id": "nNTdHocZkTlq"
      },
      "execution_count": null,
      "outputs": []
    },
    {
      "cell_type": "code",
      "source": [
        "def calculate_prior_streaks(df):\n",
        "    cl_list = [3]  # First trade starts with CL = 3\n",
        "    cw_list = [0]  # First trade starts with CW = 0\n",
        "\n",
        "    for i in range(1, len(df)):\n",
        "        prev_result = df.loc[i - 1, 'Result']\n",
        "        prev_cl = cl_list[-1]\n",
        "        prev_cw = cw_list[-1]\n",
        "        if prev_result == 'W':\n",
        "            cw = prev_cw + 1\n",
        "            cl = 0\n",
        "        elif prev_result == 'L':\n",
        "            cl = prev_cl + 1\n",
        "            cw = 0\n",
        "        else:\n",
        "            cl = prev_cl\n",
        "            cw = prev_cw\n",
        "\n",
        "        cl_list.append(cl)\n",
        "        cw_list.append(cw)\n",
        "\n",
        "    df['CL'] = cl_list\n",
        "    df['CW'] = cw_list\n",
        "    return df"
      ],
      "metadata": {
        "id": "nQtxnxUj77fh"
      },
      "execution_count": null,
      "outputs": []
    },
    {
      "cell_type": "markdown",
      "source": [
        "#Train Data Processing Functions"
      ],
      "metadata": {
        "id": "u6UeOEGWOIKy"
      }
    },
    {
      "cell_type": "code",
      "source": [
        "def clean_train_data(train_data):\n",
        "  train_data = train_data.drop(columns=['R', 'Profit', 'Loss', 'Fee', 'Trade Duration (hours)','Profit/Loss', 'CL', 'CW'])\n",
        "# train_data = clean_train_data(train_data)"
      ],
      "metadata": {
        "id": "1ctlDP5YVwi8"
      },
      "execution_count": null,
      "outputs": []
    },
    {
      "cell_type": "code",
      "source": [
        "def processing_train_data(df, train_data, R_threshold = 7):\n",
        "# Select the desired columns from the original DataFrame\n",
        "# columns_to_copy = ['R', 'Result', 'Profit', 'Loss', 'Fee', 'Trade Duration (hours)', ]\n",
        "  df['Result_R'] = df.apply(\n",
        "      lambda row: np.floor(min(row['R'], R_threshold)) if row['Result'] == 'W' else 1,\n",
        "      axis=1\n",
        "  )\n",
        "\n",
        "  count_feature = ['CL','CW',]\n",
        "  ema_features = ['15M_9C21','15M_21C50', '1H_12C26', '1H_13C34', '4H_20C50', '4H_50C200',]\n",
        "  volume_features = [ '15M_volume_spike', '15M_volume_norm',\n",
        "                      '1H_volume_spike', '1H_volume_norm',\n",
        "                      '4H_volume_spike', '4H_volume_norm']\n",
        "\n",
        "  features_column_to_copy = count_feature + ema_features + volume_features\n",
        "\n",
        "  columns_to_copy = ['R', 'Result','Result_R', 'Profit', 'Loss', 'Fee', 'Trade Duration (hours)', ]\n",
        "  # columns_to_copy.extend(features_column_to_copy)\n",
        "  columns_to_copy.extend(count_feature)\n",
        "\n",
        "  # print(columns_to_copy)\n",
        "\n",
        "  # Copy these columns to the train_data DataFrame\n",
        "  for col in columns_to_copy:\n",
        "      if col in df.columns: # Check if the column exists in the original df\n",
        "          train_data[col] = df[col]\n",
        "      else:\n",
        "          print(f\"Warning: Column '{col}' not found in the original DataFrame.\")\n",
        "\n",
        "  # Convert 'Result' column to 0 or 1\n",
        "  train_data['Result'] = train_data['Result'].apply(lambda x: 1 if x == 'W' else 0)\n",
        "  return train_data\n",
        "\n"
      ],
      "metadata": {
        "id": "I2fpmW8ZUA6t"
      },
      "execution_count": null,
      "outputs": []
    },
    {
      "cell_type": "code",
      "source": [
        "def save_read_train_data(train_data, name ='train_data'):\n",
        "  train_data.to_excel('train_data.xlsx', index=False)\n",
        "  train_data = pd.read_excel('train_data.xlsx', index_col=None)\n",
        "  train_data = train_data.loc[:, ~train_data.columns.str.contains('^Unnamed')]\n",
        "  return train_data\n",
        "\n"
      ],
      "metadata": {
        "id": "qp8KP229XsaE"
      },
      "execution_count": null,
      "outputs": []
    },
    {
      "cell_type": "code",
      "source": [
        "def check_train_data(train_data):\n",
        "  print(train_data.shape)\n",
        "  print(train_data.columns)\n",
        "\n",
        "# check_train_data(train_data)"
      ],
      "metadata": {
        "id": "WTAXXLpTWR5v"
      },
      "execution_count": null,
      "outputs": []
    },
    {
      "cell_type": "code",
      "source": [
        "def convert_train_data_type(train_data):\n",
        "    # Convert 'Result' column to 0 or 1\n",
        "    for col in train_data.columns:\n",
        "      try:\n",
        "        train_data[col] = pd.to_numeric(train_data[col], errors='coerce') # Convert to numeric first\n",
        "        train_data[col] = train_data[col].fillna(0).astype(int) # Fill NaN created by coerce and convert to int\n",
        "      except ValueError:\n",
        "        print(f\"Could not convert column '{col}' to integer.\")\n",
        "        # Optionally handle columns that cannot be converted to int\n",
        "\n",
        "    # Display the first few rows and the data types to verify\n",
        "    # print(train_data.head())\n",
        "    # train_data.dtypes\n",
        "    return train_data\n",
        "\n",
        "# train_data = convert_train_data_type(train_data)"
      ],
      "metadata": {
        "id": "HK-eANL_XuU2"
      },
      "execution_count": null,
      "outputs": []
    },
    {
      "cell_type": "code",
      "source": [
        "def extract_ptarget_feature(train_data):\n",
        "    prediction_target = train_data[['Result', 'Result_R']]\n",
        "    # Features for the model will be the cleaned DataFrame without the target and original result/R columns\n",
        "    features = train_data.drop(columns=['Result', 'Result_R'], errors='ignore')\n",
        "    features_filtered = features.drop(columns=['R', 'Profit', 'Loss', 'Fee', 'Trade Duration (hours)','Profit/Loss'], errors='ignore')\n",
        "\n",
        "\n",
        "    return features, features_filtered, prediction_target"
      ],
      "metadata": {
        "id": "TWe4EwHnV4Kh"
      },
      "execution_count": null,
      "outputs": []
    },
    {
      "cell_type": "code",
      "source": [
        "def show_ptarget_feature(features, prediction_target):\n",
        "    print(f\"number of features: {features_filtered.shape}\")\n",
        "    print(f\"Number of unique values in prediction target: {prediction_target['Result_R'].nunique()}\")\n",
        "    print(\"List of unique values in prediction target:\", prediction_target['Result_R'].unique().tolist())"
      ],
      "metadata": {
        "id": "849NB6r2bhpX"
      },
      "execution_count": null,
      "outputs": []
    },
    {
      "cell_type": "markdown",
      "source": [
        "##Data Split"
      ],
      "metadata": {
        "id": "Psi3P9fXOokM"
      }
    },
    {
      "cell_type": "code",
      "source": [
        "def split_data(features, prediction_target):\n",
        "    # X contains the features, y contains the target variable\n",
        "    # X_train_P, X_test_P, y_train, y_test = train_test_split(features, prediction_target, test_size=0.1, random_state=42, stratify=prediction_target['Result_R'])\n",
        "    # X_train_P, X_test_P, y_train, y_test = train_test_split( features, prediction_target, test_size=0.1, shuffle=False)\n",
        "    X_train_P, X_test_P, y_train, y_test = train_test_split( features, prediction_target, test_size=5, shuffle=False)\n",
        "\n",
        "    X_train = X_train_P.drop(columns=['R', 'Profit', 'Loss', 'Fee', 'Trade Duration (hours)','Profit/Loss'], errors='ignore')\n",
        "    X_test = X_test_P.drop(columns=['R', 'Profit', 'Loss', 'Fee', 'Trade Duration (hours)','Profit/Loss'], errors='ignore')\n",
        "\n",
        "    y_train_m = y_train['Result_R']\n",
        "    y_test_m = y_test['Result_R']\n",
        "\n",
        "    y_train = y_train['Result']\n",
        "    y_test = y_test['Result']\n",
        "    return X_train, X_test, y_train, y_test, y_train_m, y_test_m, X_train_P, X_test_P"
      ],
      "metadata": {
        "id": "s0Ti0A7QWlTy"
      },
      "execution_count": null,
      "outputs": []
    },
    {
      "cell_type": "code",
      "source": [
        "def show_split_data(X_train, X_test, y_train, y_test, y_train_m, y_test_m):\n",
        "  print(\"Shape of X_train:\", X_train.shape)\n",
        "  print(\"Shape of X_test:\", X_test.shape)\n",
        "  print(\"Shape of y_train:\", y_train.shape)\n",
        "  print(\"Shape of y_test:\", y_test.shape)\n",
        "  print(\"Shape of y_train_m:\", y_train_m.shape)\n",
        "  print(\"Shape of y_test_m:\", y_test_m.shape)"
      ],
      "metadata": {
        "id": "cASu5xr6cPUo"
      },
      "execution_count": null,
      "outputs": []
    },
    {
      "cell_type": "code",
      "source": [
        "def show_model_result(model_name, accuracy, class_report):\n",
        "    print(f\"\\nModel: {model_name}\")\n",
        "    print(f\"Accuracy: {accuracy:.4f}\")\n",
        "    print(\"\\nClassification Report:\")\n",
        "    print(class_report)"
      ],
      "metadata": {
        "id": "7rMTsrgZc7Eb"
      },
      "execution_count": null,
      "outputs": []
    },
    {
      "cell_type": "markdown",
      "source": [
        "#Average-R Models"
      ],
      "metadata": {
        "id": "mH_G8GXLbYaR"
      }
    },
    {
      "cell_type": "markdown",
      "source": [
        "##Data Preparation"
      ],
      "metadata": {
        "id": "s1dtW5rPAdZf"
      }
    },
    {
      "cell_type": "code",
      "source": [
        "df = prepare_data(df_main)\n",
        "df= calculate_prior_streaks(df)\n",
        "df.columns"
      ],
      "metadata": {
        "colab": {
          "base_uri": "https://localhost:8080/"
        },
        "id": "_w0zBzs6SyYY",
        "outputId": "17e9517d-7649-40a5-e33e-7ac1cdeed143"
      },
      "execution_count": null,
      "outputs": [
        {
          "output_type": "execute_result",
          "data": {
            "text/plain": [
              "Index(['S/l', 'Start Date', 'Start Time', 'Criteria', 'Candle/Days', 'Signal',\n",
              "       'Entry', 'Stop Loss', 'Profit Target', 'Result', 'SL', 'Profit', 'Loss',\n",
              "       'Fee', 'Remaining Balance', 'R', 'Target', 'CR', 'C Target', 'Comment',\n",
              "       'Cum Loss', 'Exit Date', 'Exit Time', 'startDateTime', 'exitDateTime',\n",
              "       'Trade Duration (hours)', 'Start_Weekday', 'Exit_Weekday',\n",
              "       'Profit/Loss', 'Hour', 'Time', '15Min', 'Month', 'CL', 'CW'],\n",
              "      dtype='object')"
            ]
          },
          "metadata": {},
          "execution_count": 25
        }
      ]
    },
    {
      "cell_type": "code",
      "source": [
        "precomputed_stats = get_precomputed_stats(df)\n",
        "joblib.dump(precomputed_stats, 'precomputed_stats.pkl')\n",
        "precomputed_stats = joblib.load('precomputed_stats.pkl')"
      ],
      "metadata": {
        "id": "VdnXDeuEAkUQ"
      },
      "execution_count": null,
      "outputs": []
    },
    {
      "cell_type": "code",
      "source": [
        "# regular_binary_precomputed_stats = precomputed_stats"
      ],
      "metadata": {
        "id": "wqWBSCZcS8wd"
      },
      "execution_count": null,
      "outputs": []
    },
    {
      "cell_type": "code",
      "source": [
        "train_data = get_train_data(df, precomputed_stats)\n",
        "# train_data.info()"
      ],
      "metadata": {
        "id": "D51ODVKKNJlT"
      },
      "execution_count": null,
      "outputs": []
    },
    {
      "cell_type": "code",
      "source": [
        "train_data = processing_train_data(df, train_data)\n",
        "train_data = save_read_train_data(train_data)\n",
        "# train_data.info()"
      ],
      "metadata": {
        "id": "L86UbYulyj21"
      },
      "execution_count": null,
      "outputs": []
    },
    {
      "cell_type": "code",
      "source": [
        "features, features_filtered, prediction_target = extract_ptarget_feature(train_data)\n",
        "show_ptarget_feature(features, prediction_target)"
      ],
      "metadata": {
        "colab": {
          "base_uri": "https://localhost:8080/"
        },
        "id": "CvGRcsknTUNF",
        "outputId": "5c5d1393-7467-4269-91cb-7aeb97f88f7e"
      },
      "execution_count": null,
      "outputs": [
        {
          "output_type": "stream",
          "name": "stdout",
          "text": [
            "number of features: (3134, 83)\n",
            "Number of unique values in prediction target: 7\n",
            "List of unique values in prediction target: [5, 7, 6, 1, 3, 4, 2]\n"
          ]
        }
      ]
    },
    {
      "cell_type": "code",
      "source": [
        "X_train, X_test, y_train, y_test, y_train_m, y_test_m, X_train_P, X_test_P= split_data(features, prediction_target)\n",
        "training_feature_cols = X_train.columns"
      ],
      "metadata": {
        "id": "3iOyarn2NcPL"
      },
      "execution_count": null,
      "outputs": []
    },
    {
      "cell_type": "code",
      "source": [
        "joblib.dump(training_feature_cols, 'training_feature_cols.pkl')\n",
        "training_feature_cols = joblib.load('training_feature_cols.pkl')\n",
        "show_split_data(X_train, X_test, y_train, y_test, y_train_m, y_test_m)"
      ],
      "metadata": {
        "colab": {
          "base_uri": "https://localhost:8080/"
        },
        "id": "461IYVQ6Uflp",
        "outputId": "c98f47c5-5c54-492c-a155-0ab6cd91cbcf"
      },
      "execution_count": null,
      "outputs": [
        {
          "output_type": "stream",
          "name": "stdout",
          "text": [
            "Shape of X_train: (3129, 83)\n",
            "Shape of X_test: (5, 83)\n",
            "Shape of y_train: (3129,)\n",
            "Shape of y_test: (5,)\n",
            "Shape of y_train_m: (3129,)\n",
            "Shape of y_test_m: (5,)\n"
          ]
        }
      ]
    },
    {
      "cell_type": "markdown",
      "source": [
        "##Binary Models - Average R"
      ],
      "metadata": {
        "id": "EZkWEHxsN1_r"
      }
    },
    {
      "cell_type": "markdown",
      "source": [
        "###Random Forest"
      ],
      "metadata": {
        "id": "s4xYPruLl4_S"
      }
    },
    {
      "cell_type": "code",
      "source": [
        "def RF(X_train, X_test, y_train, y_test, n_estimators=100):\n",
        "    RF_model = RandomForestClassifier(n_estimators=n_estimators, random_state=42)\n",
        "\n",
        "    start_time = time.time()\n",
        "    RF_model.fit(X_train, y_train)\n",
        "    end_time = time.time()\n",
        "    # print(f\"Training time: {end_time - start_time:.2f} seconds\")\n",
        "    importances = RF_model.feature_importances_\n",
        "    features_df = pd.DataFrame({\n",
        "        'Feature': X_train.columns,\n",
        "        'Importance': importances\n",
        "    }).sort_values(by='Importance', ascending=False)\n",
        "\n",
        "    # Plot\n",
        "    # features_df.plot.bar(x='Feature', y='Importance', figsize=(12, 4), title='Feature Importances')\n",
        "    # plt.tight_layout()\n",
        "    # plt.show()\n",
        "\n",
        "    # Make predictions on the test set\n",
        "    start_time = time.time()\n",
        "    y_pred_RF= RF_model.predict(X_test)\n",
        "    end_time = time.time()\n",
        "    # print(f\"Prediction time: {end_time - start_time:.2f} seconds\")\n",
        "\n",
        "    # Evaluate the model\n",
        "    RF_accuracy = accuracy_score(y_test, y_pred_RF)\n",
        "    RF_class_report = classification_report(y_test, y_pred_RF)\n",
        "    return RF_model,y_pred_RF, RF_accuracy, RF_class_report\n",
        "\n",
        "RF_model,y_pred_RF, RF_accuracy, RF_class_report = RF(X_train, X_test, y_train, y_test, n_estimators=100)\n",
        "show_model_result(\"Random Forest\", RF_accuracy, RF_class_report)"
      ],
      "metadata": {
        "colab": {
          "base_uri": "https://localhost:8080/"
        },
        "id": "DjRx2AH0W7CR",
        "outputId": "223a0c05-544e-40d7-dbc8-d94955f4dee0"
      },
      "execution_count": null,
      "outputs": [
        {
          "output_type": "stream",
          "name": "stdout",
          "text": [
            "\n",
            "Model: Random Forest\n",
            "Accuracy: 1.0000\n",
            "\n",
            "Classification Report:\n",
            "              precision    recall  f1-score   support\n",
            "\n",
            "           0       1.00      1.00      1.00         4\n",
            "           1       1.00      1.00      1.00         1\n",
            "\n",
            "    accuracy                           1.00         5\n",
            "   macro avg       1.00      1.00      1.00         5\n",
            "weighted avg       1.00      1.00      1.00         5\n",
            "\n"
          ]
        }
      ]
    },
    {
      "cell_type": "markdown",
      "source": [
        "###XVG Boost"
      ],
      "metadata": {
        "id": "kY7tQ8uAmA9B"
      }
    },
    {
      "cell_type": "code",
      "source": [
        "def XVG(X_train, X_test, y_train, y_test, eval_metric='loggloss'):\n",
        "    XVG_model = XGBClassifier(eval_metric=eval_metric)\n",
        "    XVG_model.fit(X_train, y_train)\n",
        "    importances = XVG_model.feature_importances_\n",
        "    features_df = pd.DataFrame({\n",
        "        'Feature': X_train.columns,\n",
        "        'Importance': importances\n",
        "    }).sort_values(by='Importance', ascending=False)\n",
        "\n",
        "    # Plot\n",
        "    # features_df.plot.bar(x='Feature', y='Importance', figsize=(12, 4), title='Feature Importances')\n",
        "    # plt.tight_layout()\n",
        "    # plt.show()\n",
        "\n",
        "    y_pred_XVG = XVG_model.predict(X_test)\n",
        "    XVG_accuracy = accuracy_score(y_test, y_pred_XVG)\n",
        "    XVG_class_report = classification_report(y_test, y_pred_XVG)\n",
        "    return XVG_model,y_pred_XVG, XVG_accuracy, XVG_class_report\n",
        "\n",
        "XVG_model,y_pred_XVG, XVG_accuracy, XVG_class_report = XVG(X_train, X_test, y_train, y_test, eval_metric='logloss')\n",
        "show_model_result(\"XGBoost\", XVG_accuracy, XVG_class_report)"
      ],
      "metadata": {
        "colab": {
          "base_uri": "https://localhost:8080/"
        },
        "id": "qfkslPnbe-Oy",
        "outputId": "2f81544f-06cb-4a37-af46-955d249cc087"
      },
      "execution_count": null,
      "outputs": [
        {
          "output_type": "stream",
          "name": "stdout",
          "text": [
            "\n",
            "Model: XGBoost\n",
            "Accuracy: 1.0000\n",
            "\n",
            "Classification Report:\n",
            "              precision    recall  f1-score   support\n",
            "\n",
            "           0       1.00      1.00      1.00         4\n",
            "           1       1.00      1.00      1.00         1\n",
            "\n",
            "    accuracy                           1.00         5\n",
            "   macro avg       1.00      1.00      1.00         5\n",
            "weighted avg       1.00      1.00      1.00         5\n",
            "\n"
          ]
        }
      ]
    },
    {
      "cell_type": "markdown",
      "source": [
        "###Logistic Regression"
      ],
      "metadata": {
        "id": "XOMxKUO3mF31"
      }
    },
    {
      "cell_type": "code",
      "source": [
        "\n",
        "def LR(X_train, X_test, y_train, y_test, solver='lbfgs', max_iter=10000):\n",
        "# Logistic Regression (with scaling\n",
        "# Pipeline: Scaling + Logistic Regression\n",
        "    LR_model = make_pipeline(StandardScaler(), LogisticRegression(solver=solver, max_iter=max_iter,random_state=42))\n",
        "    LR_model.fit(X_train, y_train)\n",
        "\n",
        "\n",
        "    y_pred_LR = LR_model.predict(X_test)\n",
        "    LR_accuracy = accuracy_score(y_test, y_pred_LR)\n",
        "    LR_class_report = classification_report(y_test, y_pred_LR)\n",
        "    # feature_ranking = pd.DataFrame({\n",
        "    #     'Feature': X_train.columns,\n",
        "    #     'Rank': ranking,\n",
        "    #     'Selected': lr_pipeline.support_\n",
        "    # }).sort_values(by='Rank')\n",
        "\n",
        "    # print(\"Top Selected Features:\")\n",
        "    # print(selected_features.tolist())\n",
        "    # print(\"\\nFull Feature Ranking:\\n\", feature_ranking)\n",
        "    return LR_model,y_pred_LR, LR_accuracy, LR_class_report\n",
        "\n",
        "LR_model,y_pred_LR, LR_accuracy, LR_class_report = LR(X_train, X_test, y_train, y_test, solver='lbfgs', max_iter=10000)\n",
        "show_model_result(\"Logistic Regression\", LR_accuracy, LR_class_report)"
      ],
      "metadata": {
        "colab": {
          "base_uri": "https://localhost:8080/"
        },
        "id": "z0t_dF-0fZZ_",
        "outputId": "57964393-18af-4972-8871-d986d34cca95"
      },
      "execution_count": null,
      "outputs": [
        {
          "output_type": "stream",
          "name": "stdout",
          "text": [
            "\n",
            "Model: Logistic Regression\n",
            "Accuracy: 1.0000\n",
            "\n",
            "Classification Report:\n",
            "              precision    recall  f1-score   support\n",
            "\n",
            "           0       1.00      1.00      1.00         4\n",
            "           1       1.00      1.00      1.00         1\n",
            "\n",
            "    accuracy                           1.00         5\n",
            "   macro avg       1.00      1.00      1.00         5\n",
            "weighted avg       1.00      1.00      1.00         5\n",
            "\n"
          ]
        }
      ]
    },
    {
      "cell_type": "markdown",
      "source": [
        "###Voting Classifier"
      ],
      "metadata": {
        "id": "kFsx1eYqmQ_W"
      }
    },
    {
      "cell_type": "code",
      "source": [
        "\n",
        "def VC(X_train, X_test, y_train, y_test, max_iter= 1000, eval_metric='logloss', voting='soft', ul_enc=False):\n",
        "    lr_p1= make_pipeline(StandardScaler(), LogisticRegression(max_iter=max_iter, random_state=42))\n",
        "    VC_model = VotingClassifier(\n",
        "        estimators=[\n",
        "            ('lr', lr_p1),\n",
        "            ('rf', RandomForestClassifier(random_state=42)),\n",
        "            ('xgb', XGBClassifier(eval_metric=eval_metric, use_label_encoder=ul_enc, random_state=42))\n",
        "        ],\n",
        "        voting=voting  # use 'hard' for majority vote or 'soft' for averaged probabilities\n",
        "    )\n",
        "\n",
        "    VC_model.fit(X_train, y_train)\n",
        "    y_pred_VC = VC_model.predict(X_test)\n",
        "\n",
        "    VC_accuracy = accuracy_score(y_test, y_pred_VC)\n",
        "    VC_class_report = classification_report(y_test, y_pred_VC)\n",
        "    return VC_model,y_pred_VC, VC_accuracy, VC_class_report\n",
        "\n",
        "VC_model,y_pred_VC, VC_accuracy, VC_class_report = VC(X_train, X_test, y_train, y_test, max_iter= 1000, eval_metric='logloss', voting='soft', ul_enc=False)\n",
        "show_model_result(\"Voting Classifier\", VC_accuracy, VC_class_report)"
      ],
      "metadata": {
        "colab": {
          "base_uri": "https://localhost:8080/"
        },
        "id": "tc1a9So_HIDf",
        "outputId": "947b1661-3d31-4da5-d3e8-fc24ba065ec0"
      },
      "execution_count": null,
      "outputs": [
        {
          "output_type": "stream",
          "name": "stderr",
          "text": [
            "/usr/local/lib/python3.11/dist-packages/xgboost/core.py:158: UserWarning: [17:14:53] WARNING: /workspace/src/learner.cc:740: \n",
            "Parameters: { \"use_label_encoder\" } are not used.\n",
            "\n",
            "  warnings.warn(smsg, UserWarning)\n"
          ]
        },
        {
          "output_type": "stream",
          "name": "stdout",
          "text": [
            "\n",
            "Model: Voting Classifier\n",
            "Accuracy: 1.0000\n",
            "\n",
            "Classification Report:\n",
            "              precision    recall  f1-score   support\n",
            "\n",
            "           0       1.00      1.00      1.00         4\n",
            "           1       1.00      1.00      1.00         1\n",
            "\n",
            "    accuracy                           1.00         5\n",
            "   macro avg       1.00      1.00      1.00         5\n",
            "weighted avg       1.00      1.00      1.00         5\n",
            "\n"
          ]
        }
      ]
    },
    {
      "cell_type": "markdown",
      "source": [
        "###Stacking Classifier"
      ],
      "metadata": {
        "id": "XcACfekrmU61"
      }
    },
    {
      "cell_type": "code",
      "source": [
        "def S(X_train, X_test, y_train, y_test, max_iter= 1000, eval_metric='logloss', cv =5, n_jobs=-1, ul_enc=False):\n",
        "\n",
        "    lr_p2 = make_pipeline(StandardScaler(), LogisticRegression(max_iter=max_iter, random_state=42))\n",
        "    base_models = [\n",
        "        ('lr', lr_p2),\n",
        "        ('rf', RandomForestClassifier(random_state=42)),\n",
        "        ('xgb', XGBClassifier(eval_metric=eval_metric, use_label_encoder=ul_enc, random_state=42))\n",
        "    ]\n",
        "    final_estimator = make_pipeline(\n",
        "        StandardScaler(),\n",
        "        LogisticRegression(max_iter=max_iter, random_state=42)\n",
        "    )\n",
        "    S_model = StackingClassifier(\n",
        "        estimators=base_models,\n",
        "        final_estimator=final_estimator,  # You can also use XGBClassifier here\n",
        "        passthrough=True,  # Optional: pass original features to meta-model\n",
        "        cv=cv,\n",
        "        n_jobs=n_jobs\n",
        "    )\n",
        "\n",
        "    S_model.fit(X_train, y_train)\n",
        "    y_pred_S = S_model.predict(X_test)\n",
        "\n",
        "    S_accuracy = accuracy_score(y_test, y_pred_S)\n",
        "    S_class_report = classification_report(y_test, y_pred_S)\n",
        "    return S_model, y_pred_S, S_accuracy, S_class_report\n",
        "\n",
        "S_model,y_pred_S, S_accuracy, S_class_report = S(X_train, X_test, y_train, y_test, max_iter= 1000, eval_metric='logloss', cv=5, n_jobs=-1, ul_enc=False)\n",
        "show_model_result(\"Stacking Classifier\", S_accuracy, S_class_report)"
      ],
      "metadata": {
        "colab": {
          "base_uri": "https://localhost:8080/"
        },
        "id": "iHXXGjv_Hcfi",
        "outputId": "c18a9824-8fdb-4d64-eada-8cd96dd711ad"
      },
      "execution_count": null,
      "outputs": [
        {
          "output_type": "stream",
          "name": "stdout",
          "text": [
            "\n",
            "Model: Stacking Classifier\n",
            "Accuracy: 1.0000\n",
            "\n",
            "Classification Report:\n",
            "              precision    recall  f1-score   support\n",
            "\n",
            "           0       1.00      1.00      1.00         4\n",
            "           1       1.00      1.00      1.00         1\n",
            "\n",
            "    accuracy                           1.00         5\n",
            "   macro avg       1.00      1.00      1.00         5\n",
            "weighted avg       1.00      1.00      1.00         5\n",
            "\n"
          ]
        }
      ]
    },
    {
      "cell_type": "markdown",
      "source": [
        "###Result Analysis & Visualization"
      ],
      "metadata": {
        "id": "YZAIk0iBmeAQ"
      }
    },
    {
      "cell_type": "code",
      "source": [
        "model_names = ['RandomForest', 'XGBoost', 'Logistic Regression', 'Voting Classifier', 'Stacking Classifier']\n",
        "\n",
        "regular_binary_predictions = [y_pred_RF, y_pred_XVG, y_pred_LR, y_pred_VC, y_pred_S]\n",
        "# Plot the confusion matrices horizontally\n",
        "regular_binary_confustion_matrix = plot_confusion_matrices_horizontal(y_test, regular_binary_predictions, model_names)"
      ],
      "metadata": {
        "colab": {
          "base_uri": "https://localhost:8080/",
          "height": 577
        },
        "id": "fOxcdMRpAGyE",
        "outputId": "1c45a418-c0a0-4e1a-9219-d307466988e3"
      },
      "execution_count": null,
      "outputs": [
        {
          "output_type": "display_data",
          "data": {
            "text/plain": [
              "<Figure size 1500x600 with 6 Axes>"
            ],
            "image/png": "[encoded data removed]"
          },
          "metadata": {}
        }
      ]
    },
    {
      "cell_type": "code",
      "source": [
        "regular_models = {\n",
        "        'RandomForest': RF_model,\n",
        "        'XGBoost': XVG_model,\n",
        "        'Logistic Regression': LR_model,\n",
        "        'Voting Classifier': VC_model,\n",
        "        'Stacking Classifier': S_model\n",
        "    }\n",
        "# features_filtered = features_filtered[training_feature_cols]\n",
        "# overall_stats_df = overall_stats(df, features_filtered,models, training_feature_cols)\n",
        "\n",
        "overall_stats_df = overall_stats(X_test_P, X_test, regular_models, training_feature_cols)\n",
        "print(\"\\nOverall Statistics for Trades Predicted as 'Win' by Each Model:\")\n",
        "overall_stats_df\n"
      ],
      "metadata": {
        "colab": {
          "base_uri": "https://localhost:8080/",
          "height": 310
        },
        "id": "zt0tOOAmQ_uE",
        "outputId": "6b9f6748-b6b7-4222-9c6d-c15a80f023c9"
      },
      "execution_count": null,
      "outputs": [
        {
          "output_type": "stream",
          "name": "stdout",
          "text": [
            "\n",
            "Overall Statistics for Trades Predicted as 'Win' by Each Model:\n"
          ]
        },
        {
          "output_type": "execute_result",
          "data": {
            "text/plain": [
              "                 Model  Total Trades  Total Win Count  Total Loss Count  \\\n",
              "0         RandomForest             1                1                 0   \n",
              "1              XGBoost             1                1                 0   \n",
              "2  Logistic Regression             1                1                 0   \n",
              "3    Voting Classifier             1                1                 0   \n",
              "4  Stacking Classifier             1                1                 0   \n",
              "\n",
              "   Total Profit  Total Loss  Total Fee  Win Rate (%)  Average R  Max Profit  \\\n",
              "0          46.0         0.0    15.0345         100.0        3.5       30.97   \n",
              "1          46.0         0.0    15.0345         100.0        3.5       30.97   \n",
              "2          46.0         0.0    15.0345         100.0        3.5       30.97   \n",
              "3          46.0         0.0    15.0345         100.0        3.5       30.97   \n",
              "4          46.0         0.0    15.0345         100.0        3.5       30.97   \n",
              "\n",
              "   Average Profit  Average Loss  Total Time (hours)  Average Time (hours)  \\\n",
              "0           30.97             0                 0.5                   0.5   \n",
              "1           30.97             0                 0.5                   0.5   \n",
              "2           30.97             0                 0.5                   0.5   \n",
              "3           30.97             0                 0.5                   0.5   \n",
              "4           30.97             0                 0.5                   0.5   \n",
              "\n",
              "   Realized Profit/Loss     R  \n",
              "0                 30.97  3.06  \n",
              "1                 30.97  3.06  \n",
              "2                 30.97  3.06  \n",
              "3                 30.97  3.06  \n",
              "4                 30.97  3.06  "
            ],
            "text/html": [
              "\n",
              "  <div id=\"df-936be5a4-2081-4919-9059-dc46b5770206\" class=\"colab-df-container\">\n",
              "    <div>\n",
              "<style scoped>\n",
              "    .dataframe tbody tr th:only-of-type {\n",
              "        vertical-align: middle;\n",
              "    }\n",
              "\n",
              "    .dataframe tbody tr th {\n",
              "        vertical-align: top;\n",
              "    }\n",
              "\n",
              "    .dataframe thead th {\n",
              "        text-align: right;\n",
              "    }\n",
              "</style>\n",
              "<table border=\"1\" class=\"dataframe\">\n",
              "  <thead>\n",
              "    <tr style=\"text-align: right;\">\n",
              "      <th></th>\n",
              "      <th>Model</th>\n",
              "      <th>Total Trades</th>\n",
              "      <th>Total Win Count</th>\n",
              "      <th>Total Loss Count</th>\n",
              "      <th>Total Profit</th>\n",
              "      <th>Total Loss</th>\n",
              "      <th>Total Fee</th>\n",
              "      <th>Win Rate (%)</th>\n",
              "      <th>Average R</th>\n",
              "      <th>Max Profit</th>\n",
              "      <th>Average Profit</th>\n",
              "      <th>Average Loss</th>\n",
              "      <th>Total Time (hours)</th>\n",
              "      <th>Average Time (hours)</th>\n",
              "      <th>Realized Profit/Loss</th>\n",
              "      <th>R</th>\n",
              "    </tr>\n",
              "  </thead>\n",
              "  <tbody>\n",
              "    <tr>\n",
              "      <th>0</th>\n",
              "      <td>RandomForest</td>\n",
              "      <td>1</td>\n",
              "      <td>1</td>\n",
              "      <td>0</td>\n",
              "      <td>46.0</td>\n",
              "      <td>0.0</td>\n",
              "      <td>15.0345</td>\n",
              "      <td>100.0</td>\n",
              "      <td>3.5</td>\n",
              "      <td>30.97</td>\n",
              "      <td>30.97</td>\n",
              "      <td>0</td>\n",
              "      <td>0.5</td>\n",
              "      <td>0.5</td>\n",
              "      <td>30.97</td>\n",
              "      <td>3.06</td>\n",
              "    </tr>\n",
              "    <tr>\n",
              "      <th>1</th>\n",
              "      <td>XGBoost</td>\n",
              "      <td>1</td>\n",
              "      <td>1</td>\n",
              "      <td>0</td>\n",
              "      <td>46.0</td>\n",
              "      <td>0.0</td>\n",
              "      <td>15.0345</td>\n",
              "      <td>100.0</td>\n",
              "      <td>3.5</td>\n",
              "      <td>30.97</td>\n",
              "      <td>30.97</td>\n",
              "      <td>0</td>\n",
              "      <td>0.5</td>\n",
              "      <td>0.5</td>\n",
              "      <td>30.97</td>\n",
              "      <td>3.06</td>\n",
              "    </tr>\n",
              "    <tr>\n",
              "      <th>2</th>\n",
              "      <td>Logistic Regression</td>\n",
              "      <td>1</td>\n",
              "      <td>1</td>\n",
              "      <td>0</td>\n",
              "      <td>46.0</td>\n",
              "      <td>0.0</td>\n",
              "      <td>15.0345</td>\n",
              "      <td>100.0</td>\n",
              "      <td>3.5</td>\n",
              "      <td>30.97</td>\n",
              "      <td>30.97</td>\n",
              "      <td>0</td>\n",
              "      <td>0.5</td>\n",
              "      <td>0.5</td>\n",
              "      <td>30.97</td>\n",
              "      <td>3.06</td>\n",
              "    </tr>\n",
              "    <tr>\n",
              "      <th>3</th>\n",
              "      <td>Voting Classifier</td>\n",
              "      <td>1</td>\n",
              "      <td>1</td>\n",
              "      <td>0</td>\n",
              "      <td>46.0</td>\n",
              "      <td>0.0</td>\n",
              "      <td>15.0345</td>\n",
              "      <td>100.0</td>\n",
              "      <td>3.5</td>\n",
              "      <td>30.97</td>\n",
              "      <td>30.97</td>\n",
              "      <td>0</td>\n",
              "      <td>0.5</td>\n",
              "      <td>0.5</td>\n",
              "      <td>30.97</td>\n",
              "      <td>3.06</td>\n",
              "    </tr>\n",
              "    <tr>\n",
              "      <th>4</th>\n",
              "      <td>Stacking Classifier</td>\n",
              "      <td>1</td>\n",
              "      <td>1</td>\n",
              "      <td>0</td>\n",
              "      <td>46.0</td>\n",
              "      <td>0.0</td>\n",
              "      <td>15.0345</td>\n",
              "      <td>100.0</td>\n",
              "      <td>3.5</td>\n",
              "      <td>30.97</td>\n",
              "      <td>30.97</td>\n",
              "      <td>0</td>\n",
              "      <td>0.5</td>\n",
              "      <td>0.5</td>\n",
              "      <td>30.97</td>\n",
              "      <td>3.06</td>\n",
              "    </tr>\n",
              "  </tbody>\n",
              "</table>\n",
              "</div>\n",
              "    <div class=\"colab-df-buttons\">\n",
              "\n",
              "  <div class=\"colab-df-container\">\n",
              "    <button class=\"colab-df-convert\" onclick=\"convertToInteractive('df-936be5a4-2081-4919-9059-dc46b5770206')\"\n",
              "            title=\"Convert this dataframe to an interactive table.\"\n",
              "            style=\"display:none;\">\n",
              "\n",
              "  <svg xmlns=\"http://www.w3.org/2000/svg\" height=\"24px\" viewBox=\"0 -960 960 960\">\n",
              "    <path d=\"M120-120v-720h720v720H120Zm60-500h600v-160H180v160Zm220 220h160v-160H400v160Zm0 220h160v-160H400v160ZM180-400h160v-160H180v160Zm440 0h160v-160H620v160ZM180-180h160v-160H180v160Zm440 0h160v-160H620v160Z\"/>\n",
              "  </svg>\n",
              "    </button>\n",
              "\n",
              "  <style>\n",
              "    .colab-df-container {\n",
              "      display:flex;\n",
              "      gap: 12px;\n",
              "    }\n",
              "\n",
              "    .colab-df-convert {\n",
              "      background-color: #E8F0FE;\n",
              "      border: none;\n",
              "      border-radius: 50%;\n",
              "      cursor: pointer;\n",
              "      display: none;\n",
              "      fill: #1967D2;\n",
              "      height: 32px;\n",
              "      padding: 0 0 0 0;\n",
              "      width: 32px;\n",
              "    }\n",
              "\n",
              "    .colab-df-convert:hover {\n",
              "      background-color: #E2EBFA;\n",
              "      box-shadow: 0px 1px 2px rgba(60, 64, 67, 0.3), 0px 1px 3px 1px rgba(60, 64, 67, 0.15);\n",
              "      fill: #174EA6;\n",
              "    }\n",
              "\n",
              "    .colab-df-buttons div {\n",
              "      margin-bottom: 4px;\n",
              "    }\n",
              "\n",
              "    [theme=dark] .colab-df-convert {\n",
              "      background-color: #3B4455;\n",
              "      fill: #D2E3FC;\n",
              "    }\n",
              "\n",
              "    [theme=dark] .colab-df-convert:hover {\n",
              "      background-color: #434B5C;\n",
              "      box-shadow: 0px 1px 3px 1px rgba(0, 0, 0, 0.15);\n",
              "      filter: drop-shadow(0px 1px 2px rgba(0, 0, 0, 0.3));\n",
              "      fill: #FFFFFF;\n",
              "    }\n",
              "  </style>\n",
              "\n",
              "    <script>\n",
              "      const buttonEl =\n",
              "        document.querySelector('#df-936be5a4-2081-4919-9059-dc46b5770206 button.colab-df-convert');\n",
              "      buttonEl.style.display =\n",
              "        google.colab.kernel.accessAllowed ? 'block' : 'none';\n",
              "\n",
              "      async function convertToInteractive(key) {\n",
              "        const element = document.querySelector('#df-936be5a4-2081-4919-9059-dc46b5770206');\n",
              "        const dataTable =\n",
              "          await google.colab.kernel.invokeFunction('convertToInteractive',\n",
              "                                                    [key], {});\n",
              "        if (!dataTable) return;\n",
              "\n",
              "        const docLinkHtml = 'Like what you see? Visit the ' +\n",
              "          '<a target=\"_blank\" href=https://colab.research.google.com/notebooks/data_table.ipynb>data table notebook</a>'\n",
              "          + ' to learn more about interactive tables.';\n",
              "        element.innerHTML = '';\n",
              "        dataTable['output_type'] = 'display_data';\n",
              "        await google.colab.output.renderOutput(dataTable, element);\n",
              "        const docLink = document.createElement('div');\n",
              "        docLink.innerHTML = docLinkHtml;\n",
              "        element.appendChild(docLink);\n",
              "      }\n",
              "    </script>\n",
              "  </div>\n",
              "\n",
              "\n",
              "    <div id=\"df-1e66b629-f3f0-4dee-8a59-cf9e50232705\">\n",
              "      <button class=\"colab-df-quickchart\" onclick=\"quickchart('df-1e66b629-f3f0-4dee-8a59-cf9e50232705')\"\n",
              "                title=\"Suggest charts\"\n",
              "                style=\"display:none;\">\n",
              "\n",
              "<svg xmlns=\"http://www.w3.org/2000/svg\" height=\"24px\"viewBox=\"0 0 24 24\"\n",
              "     width=\"24px\">\n",
              "    <g>\n",
              "        <path d=\"M19 3H5c-1.1 0-2 .9-2 2v14c0 1.1.9 2 2 2h14c1.1 0 2-.9 2-2V5c0-1.1-.9-2-2-2zM9 17H7v-7h2v7zm4 0h-2V7h2v10zm4 0h-2v-4h2v4z\"/>\n",
              "    </g>\n",
              "</svg>\n",
              "      </button>\n",
              "\n",
              "<style>\n",
              "  .colab-df-quickchart {\n",
              "      --bg-color: #E8F0FE;\n",
              "      --fill-color: #1967D2;\n",
              "      --hover-bg-color: #E2EBFA;\n",
              "      --hover-fill-color: #174EA6;\n",
              "      --disabled-fill-color: #AAA;\n",
              "      --disabled-bg-color: #DDD;\n",
              "  }\n",
              "\n",
              "  [theme=dark] .colab-df-quickchart {\n",
              "      --bg-color: #3B4455;\n",
              "      --fill-color: #D2E3FC;\n",
              "      --hover-bg-color: #434B5C;\n",
              "      --hover-fill-color: #FFFFFF;\n",
              "      --disabled-bg-color: #3B4455;\n",
              "      --disabled-fill-color: #666;\n",
              "  }\n",
              "\n",
              "  .colab-df-quickchart {\n",
              "    background-color: var(--bg-color);\n",
              "    border: none;\n",
              "    border-radius: 50%;\n",
              "    cursor: pointer;\n",
              "    display: none;\n",
              "    fill: var(--fill-color);\n",
              "    height: 32px;\n",
              "    padding: 0;\n",
              "    width: 32px;\n",
              "  }\n",
              "\n",
              "  .colab-df-quickchart:hover {\n",
              "    background-color: var(--hover-bg-color);\n",
              "    box-shadow: 0 1px 2px rgba(60, 64, 67, 0.3), 0 1px 3px 1px rgba(60, 64, 67, 0.15);\n",
              "    fill: var(--button-hover-fill-color);\n",
              "  }\n",
              "\n",
              "  .colab-df-quickchart-complete:disabled,\n",
              "  .colab-df-quickchart-complete:disabled:hover {\n",
              "    background-color: var(--disabled-bg-color);\n",
              "    fill: var(--disabled-fill-color);\n",
              "    box-shadow: none;\n",
              "  }\n",
              "\n",
              "  .colab-df-spinner {\n",
              "    border: 2px solid var(--fill-color);\n",
              "    border-color: transparent;\n",
              "    border-bottom-color: var(--fill-color);\n",
              "    animation:\n",
              "      spin 1s steps(1) infinite;\n",
              "  }\n",
              "\n",
              "  @keyframes spin {\n",
              "    0% {\n",
              "      border-color: transparent;\n",
              "      border-bottom-color: var(--fill-color);\n",
              "      border-left-color: var(--fill-color);\n",
              "    }\n",
              "    20% {\n",
              "      border-color: transparent;\n",
              "      border-left-color: var(--fill-color);\n",
              "      border-top-color: var(--fill-color);\n",
              "    }\n",
              "    30% {\n",
              "      border-color: transparent;\n",
              "      border-left-color: var(--fill-color);\n",
              "      border-top-color: var(--fill-color);\n",
              "      border-right-color: var(--fill-color);\n",
              "    }\n",
              "    40% {\n",
              "      border-color: transparent;\n",
              "      border-right-color: var(--fill-color);\n",
              "      border-top-color: var(--fill-color);\n",
              "    }\n",
              "    60% {\n",
              "      border-color: transparent;\n",
              "      border-right-color: var(--fill-color);\n",
              "    }\n",
              "    80% {\n",
              "      border-color: transparent;\n",
              "      border-right-color: var(--fill-color);\n",
              "      border-bottom-color: var(--fill-color);\n",
              "    }\n",
              "    90% {\n",
              "      border-color: transparent;\n",
              "      border-bottom-color: var(--fill-color);\n",
              "    }\n",
              "  }\n",
              "</style>\n",
              "\n",
              "      <script>\n",
              "        async function quickchart(key) {\n",
              "          const quickchartButtonEl =\n",
              "            document.querySelector('#' + key + ' button');\n",
              "          quickchartButtonEl.disabled = true;  // To prevent multiple clicks.\n",
              "          quickchartButtonEl.classList.add('colab-df-spinner');\n",
              "          try {\n",
              "            const charts = await google.colab.kernel.invokeFunction(\n",
              "                'suggestCharts', [key], {});\n",
              "          } catch (error) {\n",
              "            console.error('Error during call to suggestCharts:', error);\n",
              "          }\n",
              "          quickchartButtonEl.classList.remove('colab-df-spinner');\n",
              "          quickchartButtonEl.classList.add('colab-df-quickchart-complete');\n",
              "        }\n",
              "        (() => {\n",
              "          let quickchartButtonEl =\n",
              "            document.querySelector('#df-1e66b629-f3f0-4dee-8a59-cf9e50232705 button');\n",
              "          quickchartButtonEl.style.display =\n",
              "            google.colab.kernel.accessAllowed ? 'block' : 'none';\n",
              "        })();\n",
              "      </script>\n",
              "    </div>\n",
              "\n",
              "  <div id=\"id_cc4cf741-6821-42f8-ae07-b19ef927b06a\">\n",
              "    <style>\n",
              "      .colab-df-generate {\n",
              "        background-color: #E8F0FE;\n",
              "        border: none;\n",
              "        border-radius: 50%;\n",
              "        cursor: pointer;\n",
              "        display: none;\n",
              "        fill: #1967D2;\n",
              "        height: 32px;\n",
              "        padding: 0 0 0 0;\n",
              "        width: 32px;\n",
              "      }\n",
              "\n",
              "      .colab-df-generate:hover {\n",
              "        background-color: #E2EBFA;\n",
              "        box-shadow: 0px 1px 2px rgba(60, 64, 67, 0.3), 0px 1px 3px 1px rgba(60, 64, 67, 0.15);\n",
              "        fill: #174EA6;\n",
              "      }\n",
              "\n",
              "      [theme=dark] .colab-df-generate {\n",
              "        background-color: #3B4455;\n",
              "        fill: #D2E3FC;\n",
              "      }\n",
              "\n",
              "      [theme=dark] .colab-df-generate:hover {\n",
              "        background-color: #434B5C;\n",
              "        box-shadow: 0px 1px 3px 1px rgba(0, 0, 0, 0.15);\n",
              "        filter: drop-shadow(0px 1px 2px rgba(0, 0, 0, 0.3));\n",
              "        fill: #FFFFFF;\n",
              "      }\n",
              "    </style>\n",
              "    <button class=\"colab-df-generate\" onclick=\"generateWithVariable('overall_stats_df')\"\n",
              "            title=\"Generate code using this dataframe.\"\n",
              "            style=\"display:none;\">\n",
              "\n",
              "  <svg xmlns=\"http://www.w3.org/2000/svg\" height=\"24px\"viewBox=\"0 0 24 24\"\n",
              "       width=\"24px\">\n",
              "    <path d=\"M7,19H8.4L18.45,9,17,7.55,7,17.6ZM5,21V16.75L18.45,3.32a2,2,0,0,1,2.83,0l1.4,1.43a1.91,1.91,0,0,1,.58,1.4,1.91,1.91,0,0,1-.58,1.4L9.25,21ZM18.45,9,17,7.55Zm-12,3A5.31,5.31,0,0,0,4.9,8.1,5.31,5.31,0,0,0,1,6.5,5.31,5.31,0,0,0,4.9,4.9,5.31,5.31,0,0,0,6.5,1,5.31,5.31,0,0,0,8.1,4.9,5.31,5.31,0,0,0,12,6.5,5.46,5.46,0,0,0,6.5,12Z\"/>\n",
              "  </svg>\n",
              "    </button>\n",
              "    <script>\n",
              "      (() => {\n",
              "      const buttonEl =\n",
              "        document.querySelector('#id_cc4cf741-6821-42f8-ae07-b19ef927b06a button.colab-df-generate');\n",
              "      buttonEl.style.display =\n",
              "        google.colab.kernel.accessAllowed ? 'block' : 'none';\n",
              "\n",
              "      buttonEl.onclick = () => {\n",
              "        google.colab.notebook.generateWithVariable('overall_stats_df');\n",
              "      }\n",
              "      })();\n",
              "    </script>\n",
              "  </div>\n",
              "\n",
              "    </div>\n",
              "  </div>\n"
            ],
            "application/vnd.google.colaboratory.intrinsic+json": {
              "type": "dataframe",
              "variable_name": "overall_stats_df",
              "summary": "{\n  \"name\": \"overall_stats_df\",\n  \"rows\": 5,\n  \"fields\": [\n    {\n      \"column\": \"Model\",\n      \"properties\": {\n        \"dtype\": \"string\",\n        \"num_unique_values\": 5,\n        \"samples\": [\n          \"XGBoost\",\n          \"Stacking Classifier\",\n          \"Logistic Regression\"\n        ],\n        \"semantic_type\": \"\",\n        \"description\": \"\"\n      }\n    },\n    {\n      \"column\": \"Total Trades\",\n      \"properties\": {\n        \"dtype\": \"number\",\n        \"std\": 0,\n        \"min\": 1,\n        \"max\": 1,\n        \"num_unique_values\": 1,\n        \"samples\": [\n          1\n        ],\n        \"semantic_type\": \"\",\n        \"description\": \"\"\n      }\n    },\n    {\n      \"column\": \"Total Win Count\",\n      \"properties\": {\n        \"dtype\": \"number\",\n        \"std\": 0,\n        \"min\": 1,\n        \"max\": 1,\n        \"num_unique_values\": 1,\n        \"samples\": [\n          1\n        ],\n        \"semantic_type\": \"\",\n        \"description\": \"\"\n      }\n    },\n    {\n      \"column\": \"Total Loss Count\",\n      \"properties\": {\n        \"dtype\": \"number\",\n        \"std\": 0,\n        \"min\": 0,\n        \"max\": 0,\n        \"num_unique_values\": 1,\n        \"samples\": [\n          0\n        ],\n        \"semantic_type\": \"\",\n        \"description\": \"\"\n      }\n    },\n    {\n      \"column\": \"Total Profit\",\n      \"properties\": {\n        \"dtype\": \"number\",\n        \"std\": 0.0,\n        \"min\": 46.0,\n        \"max\": 46.0,\n        \"num_unique_values\": 1,\n        \"samples\": [\n          46.0\n        ],\n        \"semantic_type\": \"\",\n        \"description\": \"\"\n      }\n    },\n    {\n      \"column\": \"Total Loss\",\n      \"properties\": {\n        \"dtype\": \"number\",\n        \"std\": 0.0,\n        \"min\": 0.0,\n        \"max\": 0.0,\n        \"num_unique_values\": 1,\n        \"samples\": [\n          0.0\n        ],\n        \"semantic_type\": \"\",\n        \"description\": \"\"\n      }\n    },\n    {\n      \"column\": \"Total Fee\",\n      \"properties\": {\n        \"dtype\": \"number\",\n        \"std\": 0.0,\n        \"min\": 15.0345,\n        \"max\": 15.0345,\n        \"num_unique_values\": 1,\n        \"samples\": [\n          15.0345\n        ],\n        \"semantic_type\": \"\",\n        \"description\": \"\"\n      }\n    },\n    {\n      \"column\": \"Win Rate (%)\",\n      \"properties\": {\n        \"dtype\": \"number\",\n        \"std\": 0.0,\n        \"min\": 100.0,\n        \"max\": 100.0,\n        \"num_unique_values\": 1,\n        \"samples\": [\n          100.0\n        ],\n        \"semantic_type\": \"\",\n        \"description\": \"\"\n      }\n    },\n    {\n      \"column\": \"Average R\",\n      \"properties\": {\n        \"dtype\": \"number\",\n        \"std\": 0.0,\n        \"min\": 3.5,\n        \"max\": 3.5,\n        \"num_unique_values\": 1,\n        \"samples\": [\n          3.5\n        ],\n        \"semantic_type\": \"\",\n        \"description\": \"\"\n      }\n    },\n    {\n      \"column\": \"Max Profit\",\n      \"properties\": {\n        \"dtype\": \"number\",\n        \"std\": 0.0,\n        \"min\": 30.97,\n        \"max\": 30.97,\n        \"num_unique_values\": 1,\n        \"samples\": [\n          30.97\n        ],\n        \"semantic_type\": \"\",\n        \"description\": \"\"\n      }\n    },\n    {\n      \"column\": \"Average Profit\",\n      \"properties\": {\n        \"dtype\": \"number\",\n        \"std\": 0.0,\n        \"min\": 30.97,\n        \"max\": 30.97,\n        \"num_unique_values\": 1,\n        \"samples\": [\n          30.97\n        ],\n        \"semantic_type\": \"\",\n        \"description\": \"\"\n      }\n    },\n    {\n      \"column\": \"Average Loss\",\n      \"properties\": {\n        \"dtype\": \"number\",\n        \"std\": 0,\n        \"min\": 0,\n        \"max\": 0,\n        \"num_unique_values\": 1,\n        \"samples\": [\n          0\n        ],\n        \"semantic_type\": \"\",\n        \"description\": \"\"\n      }\n    },\n    {\n      \"column\": \"Total Time (hours)\",\n      \"properties\": {\n        \"dtype\": \"number\",\n        \"std\": 0.0,\n        \"min\": 0.5,\n        \"max\": 0.5,\n        \"num_unique_values\": 1,\n        \"samples\": [\n          0.5\n        ],\n        \"semantic_type\": \"\",\n        \"description\": \"\"\n      }\n    },\n    {\n      \"column\": \"Average Time (hours)\",\n      \"properties\": {\n        \"dtype\": \"number\",\n        \"std\": 0.0,\n        \"min\": 0.5,\n        \"max\": 0.5,\n        \"num_unique_values\": 1,\n        \"samples\": [\n          0.5\n        ],\n        \"semantic_type\": \"\",\n        \"description\": \"\"\n      }\n    },\n    {\n      \"column\": \"Realized Profit/Loss\",\n      \"properties\": {\n        \"dtype\": \"number\",\n        \"std\": 0.0,\n        \"min\": 30.97,\n        \"max\": 30.97,\n        \"num_unique_values\": 1,\n        \"samples\": [\n          30.97\n        ],\n        \"semantic_type\": \"\",\n        \"description\": \"\"\n      }\n    },\n    {\n      \"column\": \"R\",\n      \"properties\": {\n        \"dtype\": \"number\",\n        \"std\": 0.0,\n        \"min\": 3.06,\n        \"max\": 3.06,\n        \"num_unique_values\": 1,\n        \"samples\": [\n          3.06\n        ],\n        \"semantic_type\": \"\",\n        \"description\": \"\"\n      }\n    }\n  ]\n}"
            }
          },
          "metadata": {},
          "execution_count": 39
        }
      ]
    },
    {
      "cell_type": "code",
      "source": [
        "time_input = \"20:00\"  #@param {type:\"string\"}\n",
        "date_input = \"6/25/2025\"  #@param {type:\"string\"}\n",
        "criteria_input = \"LG RGC UP\"  #@param {type:\"string\"}\n",
        "CL = 4 #@param {type:\"integer\"}\n",
        "CW = 0 #@param {type:\"integer\"}\n",
        "\n",
        "\n",
        "input_features = get_train_data_for_input(precomputed_stats, time_input, date_input, criteria_input, training_feature_cols)\n",
        "# Predict the result\n",
        "input_features['CL'] = [CL]\n",
        "input_features['CW'] = [CW]\n",
        "# input_features = input_features[training_feature_cols]\n",
        "# print(input_features.head())\n",
        "if not input_features.empty:\n",
        "    # Get predictions and probabilities for each model\n",
        "    rf_predicted_class, rf_predicted_probability = predict_trade_result(RF_model, input_features, training_feature_cols)\n",
        "    xgb_predicted_class, xgb_predicted_probability = predict_trade_result(XVG_model, input_features, training_feature_cols)\n",
        "    lr_predicted_class, lr_predicted_probability = predict_trade_result(LR_model, input_features, training_feature_cols)\n",
        "    VC_model_predicted_class, VC_model_predicted_probability = predict_trade_result(VC_model, input_features, training_feature_cols)\n",
        "    S_model_predicted_class, S_model_predicted_probability = predict_trade_result(S_model, input_features, training_feature_cols)\n",
        "\n",
        "    print(f\"\\n--- Predictions for Date: {date_input}, Time: {time_input}, Criteria: {criteria_input} ---\")\n",
        "\n",
        "    print(\"\\nRandomForest Model:\")\n",
        "    print(f\"  Test Set Accuracy: {RF_accuracy:.4f}\")\n",
        "    print(f\"  Predicted Result: {'Win' if rf_predicted_class == 1 else 'Loss'}\")\n",
        "    print(f\"  Predicted Probability of {'Win' if rf_predicted_class == 1 else 'Loss'}: {np.max(rf_predicted_probability):.4f}\")\n",
        "\n",
        "    print(\"\\nXGBoost Model:\")\n",
        "    print(f\"  Test Set Accuracy: {XVG_accuracy:.4f}\")\n",
        "    print(f\"  Predicted Result: {'Win' if xgb_predicted_class == 1 else 'Loss'}\")\n",
        "    print(f\"  Predicted Probability of {'Win' if rf_predicted_class == 1 else 'Loss'}: {np.max(xgb_predicted_probability):.4f}\")\n",
        "\n",
        "    print(\"\\nLogistic Regression Model:\")\n",
        "    print(f\"  Test Set Accuracy: {LR_accuracy:.4f}\")\n",
        "    print(f\"  Predicted Result: {'Win' if lr_predicted_class == 1 else 'Loss'}\")\n",
        "    print(f\"  Predicted Probability of {'Win' if rf_predicted_class == 1 else 'Loss'}: {np.max(lr_predicted_probability):.4f}\")\n",
        "\n",
        "    print(\"\\nVoting Classifier Model:\")\n",
        "    print(f\"  Test Set Accuracy: {VC_accuracy:.4f}\")\n",
        "    print(f\"  Predicted Result: {'Win' if VC_model_predicted_class == 1 else 'Loss'}\")\n",
        "    print(f\"  Predicted Probability of {'Win' if VC_model_predicted_class == 1 else 'Loss'}: {np.max(VC_model_predicted_probability):.4f}\")\n",
        "\n",
        "    print(\"\\nStacking Classifier Model:\")\n",
        "    print(f\"  Test Set Accuracy: {S_accuracy:.4f}\")\n",
        "    print(f\"  Predicted Result: {'Win' if S_model_predicted_class == 1 else 'Loss'}\")\n",
        "    print(f\"  Predicted Probability of {'Win' if S_model_predicted_class == 1 else 'Loss'}: {np.max(S_model_predicted_probability):.4f}\")\n",
        "\n",
        "else:\n",
        "    print(\"Prediction could not be made due to invalid inputs or data.\")"
      ],
      "metadata": {
        "colab": {
          "base_uri": "https://localhost:8080/"
        },
        "id": "vUxsFN-0s8Li",
        "outputId": "d7052f80-7448-4436-fcf7-dcb70d3956d8"
      },
      "execution_count": null,
      "outputs": [
        {
          "output_type": "stream",
          "name": "stdout",
          "text": [
            "\n",
            "--- Predictions for Date: 6/25/2025, Time: 20:00, Criteria: LG RGC UP ---\n",
            "\n",
            "RandomForest Model:\n",
            "  Test Set Accuracy: 1.0000\n",
            "  Predicted Result: Loss\n",
            "  Predicted Probability of Loss: 0.9300\n",
            "\n",
            "XGBoost Model:\n",
            "  Test Set Accuracy: 1.0000\n",
            "  Predicted Result: Loss\n",
            "  Predicted Probability of Loss: 0.9934\n",
            "\n",
            "Logistic Regression Model:\n",
            "  Test Set Accuracy: 1.0000\n",
            "  Predicted Result: Loss\n",
            "  Predicted Probability of Loss: 0.9235\n",
            "\n",
            "Voting Classifier Model:\n",
            "  Test Set Accuracy: 1.0000\n",
            "  Predicted Result: Loss\n",
            "  Predicted Probability of Loss: 0.9490\n",
            "\n",
            "Stacking Classifier Model:\n",
            "  Test Set Accuracy: 1.0000\n",
            "  Predicted Result: Loss\n",
            "  Predicted Probability of Loss: 0.8901\n"
          ]
        }
      ]
    },
    {
      "cell_type": "markdown",
      "source": [
        "##Multiclass - Average R"
      ],
      "metadata": {
        "id": "ZO04V5lSTI8_"
      }
    },
    {
      "cell_type": "markdown",
      "source": [
        "###Label Encode"
      ],
      "metadata": {
        "id": "4t-CgKGSiDw7"
      }
    },
    {
      "cell_type": "code",
      "source": [
        "def encode_train_test(y_train_m, y_test_m):\n",
        "    label_encoder = LabelEncoder()\n",
        "    y_train_enc = label_encoder.fit_transform(y_train_m)\n",
        "    y_test_enc = label_encoder.transform(y_test_m)\n",
        "\n",
        "    # Save the mapping for later decoding\n",
        "    class_mapping = dict(zip(label_encoder.classes_, label_encoder.transform(label_encoder.classes_)))\n",
        "    reverse_mapping = dict(zip(label_encoder.transform(label_encoder.classes_), label_encoder.classes_))\n",
        "    return label_encoder, y_train_enc, y_test_enc, class_mapping, reverse_mapping\n",
        "label_encoder, y_train_enc, y_test_enc, class_mapping, reverse_mapping = encode_train_test(y_train_m, y_test_m)"
      ],
      "metadata": {
        "id": "gnlasfdMCOaa"
      },
      "execution_count": null,
      "outputs": []
    },
    {
      "cell_type": "markdown",
      "source": [
        "###Random Forest"
      ],
      "metadata": {
        "id": "ZAJrzR_bLqW0"
      }
    },
    {
      "cell_type": "code",
      "source": [
        "def RF_M(X_train, y_train_enc, X_test, y_test_enc, n_estimators= 100):\n",
        "    # Initialize and train the model\n",
        "    # RandomForestClassifier is a good choice for binary classification and handles various feature types well.\n",
        "    # It's relatively robust to outliers and doesn't require extensive feature scaling.\n",
        "    # The number of estimators (n_estimators) can be tuned. More trees generally improve performance but increase computation time.\n",
        "    # random_state for reproducibility\n",
        "    RF_model_m = RandomForestClassifier(n_estimators=n_estimators, random_state=42)\n",
        "\n",
        "    start_time = time.time()\n",
        "    RF_model_m.fit(X_train, y_train_enc)\n",
        "    end_time = time.time()\n",
        "    # print(f\"Training time: {end_time - start_time:.2f} seconds\")\n",
        "    importances = RF_model_m.feature_importances_\n",
        "    features_df = pd.DataFrame({\n",
        "        'Feature': X_train.columns,\n",
        "        'Importance': importances\n",
        "    }).sort_values(by='Importance', ascending=False)\n",
        "\n",
        "    # Plot\n",
        "    # features_df.plot.bar(x='Feature', y='Importance', figsize=(12, 4), title='Feature Importances')\n",
        "    # plt.tight_layout()\n",
        "    # plt.show()\n",
        "\n",
        "    # Make predictions on the test set\n",
        "    start_time = time.time()\n",
        "    y_pred_RF_m= RF_model_m.predict(X_test)\n",
        "    end_time = time.time()\n",
        "    # print(f\"Prediction time: {end_time - start_time:.2f} seconds\")\n",
        "\n",
        "    # Evaluate the model\n",
        "    RF_accuracy_m = accuracy_score(y_test_enc, y_pred_RF_m)\n",
        "    RF_class_report_m = classification_report(y_test_enc, y_pred_RF_m)\n",
        "    return RF_model_m, y_pred_RF_m, RF_accuracy_m, RF_class_report_m\n",
        "\n",
        "RF_model_m, y_pred_RF_m, RF_accuracy_m, RF_class_report_m = RF_M(X_train, y_train_enc, X_test, y_test_enc, n_estimators=100)\n",
        "show_model_result(\"RandomForest Multi\", RF_accuracy_m, RF_class_report_m)"
      ],
      "metadata": {
        "id": "Rv2Re2raLpPj",
        "colab": {
          "base_uri": "https://localhost:8080/"
        },
        "outputId": "5d8a1557-db75-45e1-aedf-7a3ec4330018"
      },
      "execution_count": null,
      "outputs": [
        {
          "output_type": "stream",
          "name": "stdout",
          "text": [
            "\n",
            "Model: RandomForest Multi\n",
            "Accuracy: 1.0000\n",
            "\n",
            "Classification Report:\n",
            "              precision    recall  f1-score   support\n",
            "\n",
            "           0       1.00      1.00      1.00         4\n",
            "           2       1.00      1.00      1.00         1\n",
            "\n",
            "    accuracy                           1.00         5\n",
            "   macro avg       1.00      1.00      1.00         5\n",
            "weighted avg       1.00      1.00      1.00         5\n",
            "\n"
          ]
        }
      ]
    },
    {
      "cell_type": "markdown",
      "source": [
        "###XVG Boost"
      ],
      "metadata": {
        "id": "rYK8BmfXMDQ3"
      }
    },
    {
      "cell_type": "code",
      "source": [
        "def XVG_M(X_train, y_train_enc, X_test, y_test_enc,num_class=5, objective='multi:softmax', eval_metric = 'mlogloss', ul_enc = False):\n",
        "    # Initialize and train the model\n",
        "    XVG_model_m = XGBClassifier(\n",
        "        objective=objective,   # or 'multi:softprob' for probabilities\n",
        "        num_class=num_class,\n",
        "        eval_metric=eval_metric,      # Recommended for multi-class\n",
        "        use_label_encoder=ul_enc,     # Suppress warnings\n",
        "        random_state=42\n",
        "    )\n",
        "\n",
        "    XVG_model_m.fit(X_train, y_train_enc)\n",
        "    y_pred_XVG_m = XVG_model_m.predict(X_test)\n",
        "\n",
        "    print(\"Test class counts:\\n\", pd.Series(y_test_enc).value_counts())\n",
        "    print(\"Predicted class counts:\\n\", pd.Series(y_pred_XVG_m).value_counts())\n",
        "\n",
        "    XVG_accuracy_m = accuracy_score(y_test_enc, y_pred_XVG_m)\n",
        "    XVG_class_report_m = classification_report(y_test_enc, y_pred_XVG_m)\n",
        "    return XVG_model_m, y_pred_XVG_m, XVG_accuracy_m, XVG_class_report_m\n",
        "\n",
        "XVG_model_m, y_pred_XVG_m, XVG_accuracy_m, XVG_class_report_m = XVG_M(X_train, y_train_enc, X_test, y_test_enc, num_class=prediction_target['Result_R'].nunique(), objective='multi:softmax', eval_metric = 'mlogloss', ul_enc = False)\n",
        "show_model_result(\"XGBoost Multi\", XVG_accuracy_m, XVG_class_report_m)"
      ],
      "metadata": {
        "id": "qx8HsaNsMFMr",
        "colab": {
          "base_uri": "https://localhost:8080/"
        },
        "outputId": "b4b84b98-67dc-40d1-cefa-7744164860c5"
      },
      "execution_count": null,
      "outputs": [
        {
          "output_type": "stream",
          "name": "stderr",
          "text": [
            "/usr/local/lib/python3.11/dist-packages/xgboost/core.py:158: UserWarning: [17:15:06] WARNING: /workspace/src/learner.cc:740: \n",
            "Parameters: { \"use_label_encoder\" } are not used.\n",
            "\n",
            "  warnings.warn(smsg, UserWarning)\n"
          ]
        },
        {
          "output_type": "stream",
          "name": "stdout",
          "text": [
            "Test class counts:\n",
            " 0    4\n",
            "2    1\n",
            "Name: count, dtype: int64\n",
            "Predicted class counts:\n",
            " 0    4\n",
            "1    1\n",
            "Name: count, dtype: int64\n",
            "\n",
            "Model: XGBoost Multi\n",
            "Accuracy: 0.8000\n",
            "\n",
            "Classification Report:\n",
            "              precision    recall  f1-score   support\n",
            "\n",
            "           0       1.00      1.00      1.00         4\n",
            "           1       0.00      0.00      0.00         0\n",
            "           2       0.00      0.00      0.00         1\n",
            "\n",
            "    accuracy                           0.80         5\n",
            "   macro avg       0.33      0.33      0.33         5\n",
            "weighted avg       0.80      0.80      0.80         5\n",
            "\n"
          ]
        },
        {
          "output_type": "stream",
          "name": "stderr",
          "text": [
            "/usr/local/lib/python3.11/dist-packages/sklearn/metrics/_classification.py:1565: UndefinedMetricWarning: Precision is ill-defined and being set to 0.0 in labels with no predicted samples. Use `zero_division` parameter to control this behavior.\n",
            "  _warn_prf(average, modifier, f\"{metric.capitalize()} is\", len(result))\n",
            "/usr/local/lib/python3.11/dist-packages/sklearn/metrics/_classification.py:1565: UndefinedMetricWarning: Recall is ill-defined and being set to 0.0 in labels with no true samples. Use `zero_division` parameter to control this behavior.\n",
            "  _warn_prf(average, modifier, f\"{metric.capitalize()} is\", len(result))\n",
            "/usr/local/lib/python3.11/dist-packages/sklearn/metrics/_classification.py:1565: UndefinedMetricWarning: Precision is ill-defined and being set to 0.0 in labels with no predicted samples. Use `zero_division` parameter to control this behavior.\n",
            "  _warn_prf(average, modifier, f\"{metric.capitalize()} is\", len(result))\n",
            "/usr/local/lib/python3.11/dist-packages/sklearn/metrics/_classification.py:1565: UndefinedMetricWarning: Recall is ill-defined and being set to 0.0 in labels with no true samples. Use `zero_division` parameter to control this behavior.\n",
            "  _warn_prf(average, modifier, f\"{metric.capitalize()} is\", len(result))\n",
            "/usr/local/lib/python3.11/dist-packages/sklearn/metrics/_classification.py:1565: UndefinedMetricWarning: Precision is ill-defined and being set to 0.0 in labels with no predicted samples. Use `zero_division` parameter to control this behavior.\n",
            "  _warn_prf(average, modifier, f\"{metric.capitalize()} is\", len(result))\n",
            "/usr/local/lib/python3.11/dist-packages/sklearn/metrics/_classification.py:1565: UndefinedMetricWarning: Recall is ill-defined and being set to 0.0 in labels with no true samples. Use `zero_division` parameter to control this behavior.\n",
            "  _warn_prf(average, modifier, f\"{metric.capitalize()} is\", len(result))\n"
          ]
        }
      ]
    },
    {
      "cell_type": "markdown",
      "source": [
        "###Logistic Regression"
      ],
      "metadata": {
        "id": "q1SB1r7sJ4D-"
      }
    },
    {
      "cell_type": "code",
      "source": [
        "def LR_M(X_train, y_train_enc, X_test, y_test_enc, solver='lbfgs', max_iter=10000):\n",
        "\n",
        "    # Pipeline: Scaling + Logistic Regression\n",
        "    # lr_model_m = LogisticRegression(solver='lbfgs', max_iter=10000, class_weight='balanced', )\n",
        "    lr_model_m = LogisticRegression(solver=solver, max_iter=max_iter,random_state=42 )\n",
        "    LR_model_m = make_pipeline(StandardScaler(), lr_model_m)\n",
        "    # model = RandomForestClassifier()\n",
        "    # model = XGBClassifier(num_class=5, objective='multi:softmax')\n",
        "\n",
        "    LR_model_m.fit(X_train, y_train_enc)\n",
        "    y_pred_LR_m = LR_model_m.predict(X_test)\n",
        "\n",
        "    LR_accuracy_m = accuracy_score(y_test_enc, y_pred_LR_m)\n",
        "    LR_class_report_m = classification_report(y_test_enc, y_pred_LR_m)\n",
        "\n",
        "    return LR_model_m, y_pred_LR_m, LR_accuracy_m, LR_class_report_m\n",
        "\n",
        "LR_model_m, y_pred_LR_m, LR_accuracy_m, LR_class_report_m = LR_M(X_train, y_train_enc, X_test, y_test_enc, solver='lbfgs', max_iter=10000)\n",
        "show_model_result(\"Logistic Regression Multi\", LR_accuracy_m, LR_class_report_m)"
      ],
      "metadata": {
        "id": "tQHe54Lkyd4R"
      },
      "execution_count": null,
      "outputs": []
    },
    {
      "cell_type": "markdown",
      "source": [
        "###Voting Classifier"
      ],
      "metadata": {
        "id": "l6kPK7-jJ8CG"
      }
    },
    {
      "cell_type": "code",
      "source": [
        "def VC_M(X_train, y_train_enc, X_test, y_test_enc, num_class=5, voting='soft', solver='lbfgs', max_iter=10000, objective='multi:softmax',  eval_metric='mlogloss', ul_enc=False):\n",
        "    lr = make_pipeline(StandardScaler(), LogisticRegression(solver=solver, max_iter=max_iter, random_state=42 )) #class_weight='balanced',\n",
        "\n",
        "    rf = RandomForestClassifier(random_state=42)\n",
        "\n",
        "    xgb = XGBClassifier(\n",
        "        objective=objective,\n",
        "        num_class=num_class,\n",
        "        eval_metric=eval_metric,\n",
        "        use_label_encoder=ul_enc,\n",
        "        random_state=42\n",
        "    )\n",
        "\n",
        "    # Check all estimators before using\n",
        "    # for name, model in [('lr', lr), ('rf', rf), ('xgb', xgb)]:\n",
        "    #     model.fit(X_train, y_train_enc)\n",
        "    #     proba = model.predict_proba(X_test)\n",
        "    #     print(f\"{name} proba shape: {proba.shape}\")\n",
        "\n",
        "    VC_model_m = VotingClassifier(\n",
        "        estimators=[\n",
        "            ('lr', lr),\n",
        "            ('rf', rf),\n",
        "            ('xgb', xgb)\n",
        "        ],\n",
        "        voting=voting # Use 'soft' for probability averaging (recommended for multi-class)\n",
        "    )\n",
        "\n",
        "    VC_model_m.fit(X_train, y_train_enc)\n",
        "    y_pred_VC_m = VC_model_m.predict(X_test)\n",
        "\n",
        "    VC_accuracy_m = accuracy_score(y_test_enc, y_pred_VC_m)\n",
        "    VC_class_report_m = classification_report(y_test_enc, y_pred_VC_m)\n",
        "\n",
        "    return VC_model_m, y_pred_VC_m, VC_accuracy_m, VC_class_report_m\n",
        "print(X_train.shape, y_train_enc.shape, X_test.shape, y_test_enc.shape)\n",
        "VC_model_m, y_pred_VC_m, VC_accuracy_m, VC_class_report_m = VC_M(X_train, y_train_enc, X_test, y_test_enc, num_class=prediction_target['Result_R'].nunique(), voting='soft', solver='lbfgs', max_iter=1000, objective='multi:softmax', eval_metric='mlogloss', ul_enc=False)\n",
        "show_model_result(\"Voting Classifier Multi\", VC_accuracy_m, VC_class_report_m)"
      ],
      "metadata": {
        "id": "dATlp2cKJ-k1"
      },
      "execution_count": null,
      "outputs": []
    },
    {
      "cell_type": "markdown",
      "source": [
        "###Stacking Classifier"
      ],
      "metadata": {
        "id": "J3yxb3M4KIcK"
      }
    },
    {
      "cell_type": "code",
      "source": [
        "def S_M(X_train, y_train_enc, X_test, y_test_enc, num_class=5, solver='lbfgs', max_iter=10000, objective='multi:softmax', eval_metric='mlogloss',cv =5, n_jobs=-1, ul_enc=False):\n",
        "\n",
        "    lr_p2_m = make_pipeline(StandardScaler(), LogisticRegression(solver=solver, max_iter=max_iter, random_state=42 )) #class_weight='balanced',\n",
        "    base_models = [\n",
        "        ('lr', lr_p2_m),\n",
        "        ('rf', RandomForestClassifier(random_state=42)),\n",
        "        ('xgb', XGBClassifier(objective=objective, num_class=num_class, eval_metric=eval_metric, use_label_encoder=ul_enc,))\n",
        "    ]\n",
        "    final_estimator = make_pipeline(\n",
        "        StandardScaler(),\n",
        "        LogisticRegression(max_iter=max_iter, random_state=42, ) #class_weight='balanced',\n",
        "    )\n",
        "    S_model_m = StackingClassifier(\n",
        "        estimators=base_models,\n",
        "        final_estimator=final_estimator,\n",
        "        passthrough=True,\n",
        "        cv=cv,\n",
        "        n_jobs=n_jobs\n",
        "    )\n",
        "\n",
        "    S_model_m .fit(X_train, y_train_enc)\n",
        "    y_pred_S_m = S_model_m .predict(X_test)\n",
        "\n",
        "    S_accuracy_m = accuracy_score(y_test_enc, y_pred_S_m)\n",
        "    S_class_report_m = classification_report(y_test_enc, y_pred_S_m)\n",
        "    return S_model_m, y_pred_S_m, S_accuracy_m, S_class_report_m\n",
        "\n",
        "S_model_m, y_pred_S_m, S_accuracy_m, S_class_report_m = S_M(X_train, y_train_enc, X_test, y_test_enc,num_class=prediction_target['Result_R'].nunique(), solver='lbfgs', max_iter=10000, objective='multi:softmax', eval_metric='mlogloss',cv =5, n_jobs=-1, ul_enc=False)\n",
        "show_model_result(\"Stacking Classifier Multi\", S_accuracy_m, S_class_report_m)"
      ],
      "metadata": {
        "id": "U93I2cS6KKn1"
      },
      "execution_count": null,
      "outputs": []
    },
    {
      "cell_type": "code",
      "source": [
        "# List of predictions from the trained models\n",
        "model_names = ['RandomForest', 'XGBoost', 'Logistic Regression', 'Voting Classifier', 'Stacking Classifier']\n",
        "\n",
        "regular_binary_predictions = [y_pred_RF, y_pred_XVG, y_pred_LR, y_pred_VC, y_pred_S]\n",
        "regular_multi_predictions= [y_pred_RF_m, y_pred_XVG_m, y_pred_LR_m, y_pred_VC_m, y_pred_S_m]\n",
        "\n",
        "regular_binary_models = [RF_model, XVG_model, LR_model, VC_model, S_model]\n",
        "regular_multi_models = [RF_model_m, XVG_model_m, LR_model_m, VC_model_m, S_model_m]\n",
        "\n",
        "regular_binary_accuracy= [RF_accuracy, XVG_accuracy, LR_accuracy, VC_accuracy, S_accuracy]\n",
        "regular_multi_accuracy = [RF_accuracy_m, XVG_accuracy_m, LR_accuracy_m, VC_accuracy_m, S_accuracy_m]\n",
        "\n",
        "regular_accuracies = {\n",
        "    'Model': model_names,\n",
        "    'Binary Accuracy': regular_binary_accuracy,\n",
        "    'Multi-Class (R Bucket) Accuracy': regular_multi_accuracy\n",
        "}\n",
        "\n",
        "regular_model_accuracies = pd.DataFrame(regular_accuracies)"
      ],
      "metadata": {
        "id": "Vq2_wmw7pj-8"
      },
      "execution_count": null,
      "outputs": []
    },
    {
      "cell_type": "code",
      "source": [
        "regular_multi_confusion_matrix = plot_confusion_matrices_horizontal(y_test, regular_multi_predictions, model_names,ticks = sorted(np.unique(y_test_enc)), multi=True)"
      ],
      "metadata": {
        "id": "qN1vZiTxrFle"
      },
      "execution_count": null,
      "outputs": []
    },
    {
      "cell_type": "markdown",
      "source": [
        "###Result Analysis & Visualization"
      ],
      "metadata": {
        "id": "U3oLgE6nb_fy"
      }
    },
    {
      "cell_type": "code",
      "source": [
        "time_input = \"17:00\"  #@param {type:\"string\"}\n",
        "date_input = \"6/26/2025\"  #@param {type:\"string\"}\n",
        "criteria_input = \"ELC\"  #@param {type:\"string\"}\n",
        "CL = 6 #@param {type:\"integer\"}\n",
        "CW = 0 #@param {type:\"integer\"}\n",
        "\n",
        "# Define model base names\n",
        "model_names = ['RandomForest', 'XGBoost', 'Logistic Regression', 'Voting Classifier', 'Stacking Classifier']\n",
        "model_keys = ['RF', 'XVG', 'LR', 'VC', 'S']\n",
        "\n",
        "show_predictions(time_input, date_input, criteria_input,  CL, CW, training_feature_cols, model_names, model_keys, precomputed_stats=precomputed_stats,label_encoder=label_encoder, b_models=regular_binary_models, m_models=regular_multi_models, b_acc=regular_accuracies['Binary Accuracy'], m_acc=regular_accuracies['Multi-Class (R Bucket) Accuracy'],\n",
        "                 w_threshold=1)\n",
        "\n",
        "# Plot the confusion matrices horizontally\n",
        "# plot_confusion_matrices_horizontal(y_test, all_predictions, model_names)"
      ],
      "metadata": {
        "id": "1iYrLv1TWngw"
      },
      "execution_count": null,
      "outputs": []
    },
    {
      "cell_type": "code",
      "source": [
        "# Display the final overall statistics DataFrame\n",
        "regular_models_m = {\n",
        "        'RandomForest': RF_model_m,\n",
        "        'XGBoost': XVG_model_m,\n",
        "        'Logistic Regression': LR_model_m,\n",
        "        'Voting Classifier': VC_model_m,\n",
        "        'Stacking Classifier': S_model_m\n",
        "    }\n",
        "# overall_stats_df = overall_stats(df, features_filtered,training_feature_cols)\n",
        "overall_stats_df = overall_stats(X_test_P, X_test, regular_models_m, training_feature_cols)\n",
        "print(\"\\nOverall Statistics for Trades Predicted as 'Win' by Each Model:\")\n",
        "overall_stats_df\n"
      ],
      "metadata": {
        "id": "WimHb6lBY3kT"
      },
      "execution_count": null,
      "outputs": []
    },
    {
      "cell_type": "code",
      "source": [
        "def filter_trades_by_prediction(df, X_test, model):\n",
        "  # Predict on the feature set\n",
        "  pred_result = model.predict(X_test)\n",
        "\n",
        "  # Get the indices where the prediction is 'Win' (class 1)\n",
        "  win_indices = X_test.iloc[pred_result == 1].index\n",
        "\n",
        "  # Filter the original DataFrame using these indices\n",
        "  df_filtered_win = df.loc[win_indices]\n",
        "\n",
        "  return df_filtered_win\n",
        "\n",
        "def get_prediction_trade_files(df, X_test, models, file_dir):\n",
        "    predicted_win_dfs = []\n",
        "    for model_name, model in models.items():\n",
        "        # Filter the X_test_P DataFrame (which contains the original columns for the test set)\n",
        "        # based on the prediction from the corresponding binary model using the X_test features.\n",
        "        df_trades_predicted_win = filter_trades_by_prediction(df, X_test, model)\n",
        "        # print(df_trades_predicted_win.shape)\n",
        "        predicted_win_dfs.append(df_trades_predicted_win)\n",
        "\n",
        "        # Define the output filename\n",
        "        output_filename = f'{file_dir}{model_name}_Predicted_Wins.xlsx'\n",
        "        print(f\"Saved trades predicted as 'Win' by {model_name} to '{output_filename}'\")\n",
        "\n",
        "        # Save the filtered DataFrame to an Excel file\n",
        "        df_trades_predicted_win.to_excel(output_filename, index=False)\n",
        "    combined_predicted_wins = pd.concat(predicted_win_dfs, ignore_index=True)\n",
        "    combined_predicted_wins_unique = combined_predicted_wins.drop_duplicates(subset=['S/l']).sort_values(by='S/l')\n",
        "    return combined_predicted_wins_unique, predicted_win_dfs"
      ],
      "metadata": {
        "id": "Vj07C4OiLtyl"
      },
      "execution_count": null,
      "outputs": []
    },
    {
      "cell_type": "code",
      "source": [
        "binary_models = {\n",
        "    'RandomForest': RF_model,\n",
        "    'XGBoost': XVG_model,\n",
        "    'Logistic Regression': LR_model,\n",
        "    'Voting Classifier': VC_model,\n",
        "    'Stacking Classifier': S_model\n",
        "}\n",
        "\n",
        "file_dir = 'trade_files/'\n",
        "os.makedirs(file_dir, exist_ok=True)\n",
        "\n",
        "combined_predicted_wins_unique, predicted_win_dfs = get_prediction_trade_files(df, X_test, binary_models, file_dir)\n",
        "combined_predicted_wins_unique.to_excel(f'{file_dir}regular_combined_prediction.xlsx', index=False)\n",
        "print(\"\\nCombined and unique predicted wins saved to 'All_Models_Predicted_Wins_Unique.xlsx'\")\n",
        "\n",
        "RFS_LC_predicted_wins_unique = pd.concat([predicted_win_dfs[0], predicted_win_dfs[2]], ignore_index=True).drop_duplicates(subset=['S/l']).sort_values(by='S/l')\n",
        "RFS_LC_predicted_wins_unique.to_excel(f'{file_dir}RFS_LC.xlsx', index=False)\n",
        "combined_predicted_wins_unique.shape"
      ],
      "metadata": {
        "id": "u9lsbDvbogp9"
      },
      "execution_count": null,
      "outputs": []
    },
    {
      "cell_type": "code",
      "source": [
        "xgboost_predicted_wins_df = predicted_win_dfs[1] # XGBoost is at index 1\n",
        "\n",
        "# Combine predicted wins from all models EXCEPT XGBoost\n",
        "other_models_predicted_wins_dfs = [df for i, df in enumerate(predicted_win_dfs) if i != 1]\n",
        "combined_other_models_predicted_wins = pd.concat(other_models_predicted_wins_dfs, ignore_index=True)\n",
        "combined_other_models_predicted_wins_unique = combined_other_models_predicted_wins.drop_duplicates(subset=['S/l'])\n",
        "\n",
        "# Calculate losses for trades in each group\n",
        "# A trade is a 'Loss' if 'Profit/Loss' is negative\n",
        "xgboost_losses = xgboost_predicted_wins_df[xgboost_predicted_wins_df['Profit/Loss'] < 0]\n",
        "other_combined_losses = combined_other_models_predicted_wins_unique[combined_other_models_predicted_wins_unique['Profit/Loss'] < 0]\n",
        "\n",
        "# Compare the losses\n",
        "print(\"\\n--- Comparison of Losses ---\")\n",
        "print(f\"Number of Losses in Trades Predicted as 'Win' by XGBoost: {len(xgboost_losses)}\")\n",
        "print(f\"Total Loss Amount for XGBoost Predicted Wins: {xgboost_losses['Profit/Loss'].sum():.2f}\")\n",
        "print(f\"Average Loss Amount for XGBoost Predicted Wins: {xgboost_losses['Profit/Loss'].mean():.2f}\")\n",
        "\n",
        "print(f\"\\nNumber of Losses in Trades Predicted as 'Win' by Other Combined Models: {len(other_combined_losses)}\")\n",
        "print(f\"Total Loss Amount for Other Combined Models Predicted Wins: {other_combined_losses['Profit/Loss'].sum():.2f}\")\n",
        "print(f\"Average Loss Amount for Other Combined Models Predicted Wins: {other_combined_losses['Profit/Loss'].mean():.2f}\")\n"
      ],
      "metadata": {
        "id": "kHrIiEIqPEof"
      },
      "execution_count": null,
      "outputs": []
    },
    {
      "cell_type": "code",
      "source": [
        "# prompt: show xgb model predicted win that actully win s/l difference betwwen other model combine predicted win and actually win uniuqe\n",
        "\n",
        "# Filter trades predicted as 'Win' by XGBoost and see which ones were actually 'Win' or 'Loss'\n",
        "xgboost_predicted_wins_actual_results = xgboost_predicted_wins_df[['S/l', 'Result', 'Profit/Loss']]\n",
        "\n",
        "\n",
        "# Filter trades predicted as 'Win' by combined Other Models and see which ones were actually 'Win' or 'Loss'\n",
        "other_combined_predicted_wins_actual_results = combined_other_models_predicted_wins_unique[['S/l', 'Result', 'Profit/Loss']]\n",
        "\n",
        "\n",
        "# Find the unique S/l values where XGBoost predicted Win and the actual result was Win\n",
        "xgboost_actual_wins_sl = xgboost_predicted_wins_df[xgboost_predicted_wins_df['Result'] == 'W']['S/l'].unique()\n",
        "print(f\"\\nUnique S/l where XGBoost Predicted Win and Actually Won: {len(xgboost_actual_wins_sl)}\")\n",
        "\n",
        "# Find the unique S/l values where combined Other Models predicted Win and the actual result was Win\n",
        "other_combined_actual_wins_sl = combined_other_models_predicted_wins_unique[combined_other_models_predicted_wins_unique['Result'] == 'W']['S/l'].unique()\n",
        "print(f\"Unique S/l where Other Combined Models Predicted Win (Unique S/l) and Actually Won: {len(other_combined_actual_wins_sl)}\")\n",
        "\n",
        "# Find the S/l values that are unique to XGBoost (predicted Win and actually Won)\n",
        "unique_to_xgboost_actual_wins_sl = np.setdiff1d(xgboost_actual_wins_sl, other_combined_actual_wins_sl)\n",
        "print(f\"\\nUnique S/l where ONLY XGBoost Predicted Win and Actually Won: {len(unique_to_xgboost_actual_wins_sl)}\")\n",
        "print(f\"List of S/l unique to XGBoost actual wins: {unique_to_xgboost_actual_wins_sl.tolist()}\")\n",
        "\n",
        "# Find the S/l values that are unique to Other Combined Models (predicted Win and actually Won)\n",
        "unique_to_other_combined_actual_wins_sl = np.setdiff1d(other_combined_actual_wins_sl, xgboost_actual_wins_sl)\n",
        "print(f\"\\nUnique S/l where ONLY Other Combined Models Predicted Win (Unique S/l) and Actually Won: {len(unique_to_other_combined_actual_wins_sl)}\")\n",
        "print(f\"List of S/l unique to Other Combined Models actual wins: {unique_to_other_combined_actual_wins_sl.tolist()}\")\n",
        "\n",
        "# Find the S/l values where both predicted Win and actually Won\n",
        "common_actual_wins_sl = np.intersect1d(xgboost_actual_wins_sl, other_combined_actual_wins_sl)\n",
        "print(f\"\\nUnique S/l where Both XGBoost and Other Combined Models Predicted Win and Actually Won: {len(common_actual_wins_sl)}\")\n",
        "print(f\"List of S/l common actual wins: {common_actual_wins_sl.tolist()}\")\n",
        "\n",
        "\n",
        "# Filter trades predicted as 'Win' by XGBoost and the actual result was 'Loss'\n",
        "xgboost_predicted_win_actual_loss_sl = xgboost_predicted_wins_df[xgboost_predicted_wins_df['Result'] == 'L']['S/l'].unique()\n",
        "print(f\"\\nUnique S/l where XGBoost Predicted Win and Actually Lost: {len(xgboost_predicted_win_actual_loss_sl)}\")\n",
        "\n",
        "# Filter trades predicted as 'Win' by combined Other Models (unique S/l) and the actual result was 'Loss'\n",
        "other_combined_predicted_win_actual_loss_sl = combined_other_models_predicted_wins_unique[combined_other_models_predicted_wins_unique['Result'] == 'L']['S/l'].unique()\n",
        "print(f\"Unique S/l where Other Combined Models Predicted Win (Unique S/l) and Actually Lost: {len(other_combined_predicted_win_actual_loss_sl)}\")\n",
        "\n",
        "# Find the unique S/l values in XGBoost predicted win and actually loss\n",
        "unique_to_xgboost_predicted_win_actual_loss_sl = np.setdiff1d(xgboost_predicted_win_actual_loss_sl, other_combined_predicted_win_actual_loss_sl)\n",
        "print(f\"\\nUnique S/l where ONLY XGBoost Predicted Win and Actually Lost: {len(unique_to_xgboost_predicted_win_actual_loss_sl)}\")\n",
        "print(f\"List of S/l unique to XGBoost predicted win and actual loss: {unique_to_xgboost_predicted_win_actual_loss_sl.tolist()}\")\n",
        "\n",
        "# Find the S/l values that are unique to Other Combined Models (predicted Win and actually Loss)\n",
        "unique_to_other_combined_predicted_win_actual_loss_sl = np.setdiff1d(other_combined_predicted_win_actual_loss_sl, xgboost_predicted_win_actual_loss_sl)\n",
        "print(f\"\\nUnique S/l where ONLY Other Combined Models Predicted Win (Unique S/l) and Actually Lost: {len(unique_to_other_combined_predicted_win_actual_loss_sl)}\")\n",
        "print(f\"List of S/l unique to Other Combined Models predicted win and actual loss: {unique_to_other_combined_predicted_win_actual_loss_sl.tolist()}\")\n",
        "\n",
        "# Find the S/l values where both predicted Win and actually Lost\n",
        "common_predicted_win_actual_loss_sl = np.intersect1d(xgboost_predicted_win_actual_loss_sl, other_combined_predicted_win_actual_loss_sl)\n",
        "print(f\"\\nUnique S/l where Both XGBoost and Other Combined Models Predicted Win and Actually Lost: {len(common_predicted_win_actual_loss_sl)}\")\n",
        "print(f\"List of S/l common predicted win and actual loss: {common_predicted_win_actual_loss_sl.tolist()}\")\n"
      ],
      "metadata": {
        "id": "Y5k4EYZ8S1YR"
      },
      "execution_count": null,
      "outputs": []
    },
    {
      "cell_type": "code",
      "source": [
        "# prompt: save other_combined_losses\n",
        "\n",
        "# combined_other_models_predicted_wins_unique.to_excel('Other_Combined.xlsx', index=False)\n"
      ],
      "metadata": {
        "id": "hdZVQN6EUWqi"
      },
      "execution_count": null,
      "outputs": []
    },
    {
      "cell_type": "markdown",
      "source": [
        "##ML-Max R"
      ],
      "metadata": {
        "id": "8KEg7trGqaZ0"
      }
    },
    {
      "cell_type": "code",
      "source": [
        "df_max_r = pd.read_excel('SSL_T_MR.xlsx')"
      ],
      "metadata": {
        "id": "JDmDxfChqj_i"
      },
      "execution_count": null,
      "outputs": []
    },
    {
      "cell_type": "code",
      "source": [
        "# prompt: count  of R value in df_max_r  that jave Result == 'W' greater than 5 and less then 9\n",
        "\n",
        "# Filter the DataFrame where 'Result' is 'W'\n",
        "df_wins = df_max_r[df_max_r['Result'] == 'W']\n",
        "\n",
        "# Count occurrences where 'R' is greater than 5 and less than 9\n",
        "r_count = df_wins[(df_wins['R'] > 8) & (df_wins['R'] < 100)].shape[0]\n",
        "\n",
        "print(f\"Count of 'R' values in df_max_r that have 'Result' == 'W' and are between 5 and 9: {r_count}\")\n"
      ],
      "metadata": {
        "id": "-i5PcMDF0M8m"
      },
      "execution_count": null,
      "outputs": []
    },
    {
      "cell_type": "code",
      "source": [
        "df_max_r = prepare_data(df_max_r)\n",
        "df_max_r = calculate_prior_streaks(df_max_r)"
      ],
      "metadata": {
        "id": "R7et005WqgTN"
      },
      "execution_count": null,
      "outputs": []
    },
    {
      "cell_type": "code",
      "source": [
        "precomputed_stats_max_r = get_precomputed_stats(df_max_r)\n",
        "# Save precomputed_stats\n",
        "joblib.dump(precomputed_stats_max_r, 'precomputed_stats_max_r.pkl')\n",
        "precomputed_stats_max_r = joblib.load('precomputed_stats_max_r.pkl')"
      ],
      "metadata": {
        "id": "L76CATIR5xFh"
      },
      "execution_count": null,
      "outputs": []
    },
    {
      "cell_type": "code",
      "source": [
        "train_data_max_r = get_train_data(df_max_r, precomputed_stats_max_r)\n",
        "train_data_max_r = processing_train_data(df_max_r, train_data_max_r, R_threshold=7)\n",
        "train_data_max_r = save_read_train_data(train_data_max_r, name = 'train_data_max_r')\n",
        "# train_data_max_r = convert_train_data_type(train_data_max_r)"
      ],
      "metadata": {
        "id": "AqZd42wiuS8E"
      },
      "execution_count": null,
      "outputs": []
    },
    {
      "cell_type": "code",
      "source": [
        "features_max_r, features_filtered_max_r, prediction_target_max_r = extract_ptarget_feature(train_data_max_r)\n",
        "X_train_max_r, X_test_max_r, y_train_max_r, y_test_max_r, y_train_m_max_r, y_test_m_max_r, X_train_P_max_r, X_test_P_max_r= split_data(features_max_r, prediction_target_max_r)\n",
        "show_split_data(X_train_max_r, X_test_max_r, y_train_max_r, y_test_max_r, y_train_m_max_r, y_test_m_max_r)"
      ],
      "metadata": {
        "id": "3PbvjANtuQCy"
      },
      "execution_count": null,
      "outputs": []
    },
    {
      "cell_type": "code",
      "source": [
        "training_feature_cols_max_r = X_train_max_r.columns\n",
        "# X_train_max_r.info()"
      ],
      "metadata": {
        "id": "SetlREs3Tgxz"
      },
      "execution_count": null,
      "outputs": []
    },
    {
      "cell_type": "code",
      "source": [
        "RF_model_max_r,y_pred_RF_max_r, RF_accuracy_max_r, RF_class_report_max_r = RF(X_train_max_r, X_test_max_r, y_train_max_r, y_test_max_r, n_estimators=100)\n",
        "show_model_result(\"Random Forest-Max R\", RF_accuracy, RF_class_report)\n",
        "\n",
        "XVG_model_max_r, y_pred_XVG_max_r, XVG_accuracy_max_r, XVG_class_report_max_r = XVG(X_train_max_r, X_test_max_r, y_train_max_r, y_test_max_r, eval_metric='logloss')\n",
        "show_model_result(\"XGBoost-Max R\", XVG_accuracy_max_r, XVG_class_report_max_r)\n",
        "\n",
        "LR_model_max_r,y_pred_LR_max_r, LR_accuracy_max_r, LR_class_report_max_r = LR(X_train_max_r, X_test_max_r, y_train_max_r, y_test_max_r, solver='lbfgs', max_iter=1000)\n",
        "show_model_result(\"Logistic Regression-Max R\", LR_accuracy_max_r, LR_class_report_max_r)\n",
        "\n",
        "VC_model_max_r,y_pred_VC_max_r, VC_accuracy_max_r, VC_class_report_max_r = VC(X_train_max_r, X_test_max_r, y_train_max_r, y_test_max_r, max_iter= 1000, eval_metric='logloss', voting='soft')\n",
        "show_model_result(\"Voting Classifier-Max R\", VC_accuracy_max_r, VC_class_report_max_r)\n",
        "\n",
        "S_model_max_r,y_pred_S_max_r, S_accuracy_max_r, S_class_report_max_r = S(X_train_max_r, X_test_max_r, y_train_max_r, y_test_max_r, max_iter= 1000, eval_metric='logloss', cv=5, n_jobs=-1, ul_enc=False)\n",
        "show_model_result(\"Stacking Classifier-Max R\", S_accuracy_max_r, S_class_report_max_r)"
      ],
      "metadata": {
        "id": "NGFKVSFquNPK"
      },
      "execution_count": null,
      "outputs": []
    },
    {
      "cell_type": "code",
      "source": [
        "# List of predictions from the trained models\n",
        "regular_binary_predictions_max_r = [y_pred_RF_max_r, y_pred_XVG_max_r, y_pred_LR_max_r, y_pred_VC_max_r, y_pred_S_max_r]\n",
        "\n",
        "# List of model names\n",
        "model_names_max_r = ['RandomForest-Max R', 'XGBoost-Max R', 'Logistic Regression-Max R', 'Voting Classifier-Max R', 'Stacking Classifier-Max R']\n",
        "\n",
        "# Plot the confusion matrices horizontally\n",
        "max_r_binary_confusion_matrix = plot_confusion_matrices_horizontal(y_test_max_r, regular_binary_predictions_max_r , model_names_max_r)"
      ],
      "metadata": {
        "id": "W7pyyuOjuKXX"
      },
      "execution_count": null,
      "outputs": []
    },
    {
      "cell_type": "code",
      "source": [
        "label_encoder_max_r, y_train_enc_max_r, y_test_enc_max_r, class_mapping_max_r, reverse_mapping_max_r = encode_train_test(y_train_m_max_r, y_test_m_max_r)"
      ],
      "metadata": {
        "id": "yx_4v2PnuJC8"
      },
      "execution_count": null,
      "outputs": []
    },
    {
      "cell_type": "code",
      "source": [
        "RF_model_m_max_r, y_pred_RF_m_max_r, RF_accuracy_m_max_r, RF_class_report_m_max_r = RF_M(X_train_max_r, y_train_enc_max_r, X_test_max_r, y_test_enc_max_r, n_estimators=100)\n",
        "show_model_result(\"RandomForest Multi-Max R\", RF_accuracy_m_max_r, RF_class_report_m_max_r)\n",
        "\n",
        "XVG_model_m_max_r, y_pred_XVG_m_max_r, XVG_accuracy_m_max_r, XVG_class_report_m_max_r = XVG_M(X_train_max_r, y_train_enc_max_r, X_test_max_r, y_test_enc_max_r,num_class=prediction_target['Result_R'].nunique(), objective='multi:softmax', eval_metric = 'mlogloss', ul_enc = False)\n",
        "show_model_result(\"XGBoost Multi-Max R\", XVG_accuracy_m_max_r, XVG_class_report_m_max_r)\n",
        "\n",
        "LR_model_m_max_r, y_pred_LR_m_max_r, LR_accuracy_m_max_r, LR_class_report_m_max_r = LR_M(X_train_max_r, y_train_enc_max_r, X_test_max_r, y_test_enc_max_r, solver='lbfgs', max_iter=10000)\n",
        "show_model_result(\"Logistic Regression Multi-Max R\", LR_accuracy_m_max_r, LR_class_report_m_max_r)\n",
        "\n",
        "VC_model_m_max_r, y_pred_VC_m_max_r, VC_accuracy_m_max_r, VC_class_report_m_max_r = VC_M(X_train_max_r, y_train_enc_max_r, X_test_max_r, y_test_enc_max_r,num_class=prediction_target['Result_R'].nunique(), voting='soft', solver='lbfgs', max_iter=1000, objective='multi:softmax', eval_metric='mlogloss',ul_enc=False)\n",
        "show_model_result(\"Voting Classifier Multi-Max R\", VC_accuracy_m_max_r, VC_class_report_m_max_r)\n",
        "\n",
        "S_model_m_max_r, y_pred_S_m_max_r, S_accuracy_m_max_r, S_class_report_m_max_r = S_M(X_train_max_r, y_train_enc_max_r, X_test_max_r, y_test_enc_max_r,num_class=prediction_target['Result_R'].nunique(), solver='lbfgs', max_iter=10000, objective='multi:softmax', eval_metric='mlogloss',cv =5, n_jobs=-1, ul_enc=False)\n",
        "show_model_result(\"Stacking Classifier Multi-Max R\", S_accuracy_m_max_r, S_class_report_m_max_r)"
      ],
      "metadata": {
        "id": "5A9F2xiKuGny"
      },
      "execution_count": null,
      "outputs": []
    },
    {
      "cell_type": "code",
      "source": [
        "# List of predictions from the trained models\n",
        "regular_multi_predictions_max_r = [y_pred_RF_m_max_r, y_pred_XVG_m_max_r, y_pred_LR_m_max_r, y_pred_VC_m_max_r, y_pred_S_m_max_r]\n",
        "# List of model names\n",
        "model_names_m_max_r = ['RandomForest Multi-Max R', 'XGBoost Multi-Max R', 'Logistic Regression Multi-Max R', 'Voting Classifier Multi-Max R', 'Stacking Classifier Multi-Max R']\n",
        "\n",
        "# Plot the confusion matrices horizontally\n",
        "max_r_multi_confusion_matrix = plot_confusion_matrices_horizontal(y_test_enc_max_r, regular_multi_predictions_max_r, model_names_m_max_r ,ticks = sorted(np.unique(y_test_enc_max_r)), multi=True)"
      ],
      "metadata": {
        "id": "CTOSlvDyuAkU"
      },
      "execution_count": null,
      "outputs": []
    },
    {
      "cell_type": "code",
      "source": [
        "model_names_max_r = ['RandomForest Multi-Max R', 'XGBoost Multi-Max R', 'Logistic Regression Multi-Max R', 'Voting Classifier Multi-Max R', 'Stacking Classifier Multi-Max R']\n",
        "regular_binary_models_max_r = [RF_model_max_r, XVG_model_max_r, LR_model_max_r, VC_model_max_r, S_model_max_r]\n",
        "regular_multi_models_max_r = [RF_model_m_max_r, XVG_model_m_max_r, LR_model_m_max_r, VC_model_m_max_r, S_model_m_max_r]\n",
        "\n",
        "regular_binary_accuracy_max_r= [RF_accuracy_max_r, XVG_accuracy_max_r, LR_accuracy_max_r, VC_accuracy_max_r, S_accuracy_max_r]\n",
        "regular_multi_accuracy_max_r = [RF_accuracy_m_max_r, XVG_accuracy_m_max_r, LR_accuracy_m_max_r, VC_accuracy_m_max_r, S_accuracy_m_max_r]\n",
        "\n",
        "regular_accuracies_max_r = {\n",
        "    'Model': model_names_m_max_r,\n",
        "    'Binary Accuracy': regular_binary_accuracy_max_r,\n",
        "    'Multi-Class (R Bucket) Accuracy': regular_multi_accuracy_max_r\n",
        "}\n",
        "\n",
        "regular_model_accuracies_max_r = pd.DataFrame(regular_accuracies_max_r)"
      ],
      "metadata": {
        "id": "PF9Y06QA9iYc"
      },
      "execution_count": null,
      "outputs": []
    },
    {
      "cell_type": "code",
      "source": [
        "time_input = \"15:00\"  #@param {type:\"string\"}\n",
        "date_input = \"7/3/2025\"  #@param {type:\"string\"}\n",
        "criteria_input = \"LG PWH\"  #@param {type:\"string\"}\n",
        "CL = 3 #@param {type:\"integer\"}\n",
        "CW = 0 #@param {type:\"integer\"}\n",
        "\n",
        "model_names_max_r = ['RandomForest Max R', 'XGBoost Max R', 'Logistic Regression Max R', 'Voting Classifier Max R', 'Stacking Classifier Max R']\n",
        "model_keys = ['RF', 'XVG', 'LR', 'VC', 'S']\n",
        "show_predictions(time_input, date_input, criteria_input, CL, CW, training_feature_cols, model_names_max_r, model_keys,precomputed_stats=precomputed_stats,label_encoder=label_encoder, b_models=regular_binary_models_max_r, m_models=regular_multi_models_max_r, b_acc=regular_accuracies_max_r['Binary Accuracy'], m_acc=regular_accuracies_max_r['Multi-Class (R Bucket) Accuracy'],\n",
        "                 Max_R=True, w_threshold=1)\n",
        "# Plot the confusion matrices horizontally\n",
        "regular_binary_confusion_matrix = plot_confusion_matrices_horizontal(y_test_max_r, regular_binary_predictions_max_r, model_names_max_r)"
      ],
      "metadata": {
        "id": "Nn-LNtAA_8Ga"
      },
      "execution_count": null,
      "outputs": []
    },
    {
      "cell_type": "code",
      "source": [
        "max_r_models = {\n",
        "        'RandomForest-MaxR': RF_model_max_r,\n",
        "        'XGBoost-MaxR': XVG_model_max_r,\n",
        "        'Logistic Regression-MaxR': LR_model_max_r,\n",
        "        'Voting Classifier-MaxR': VC_model_max_r,\n",
        "        'Stacking Classifier-MaxR': S_model_max_r\n",
        "    }\n",
        "overall_stats_df_max_r = overall_stats(X_test_P_max_r, X_test_max_r,max_r_models, training_feature_cols)\n",
        "print(\"\\nOverall Statistics for Trades Predicted as 'Win' by Each Model:\")\n",
        "overall_stats_df_max_r"
      ],
      "metadata": {
        "id": "bhlkkXmpm-Tp"
      },
      "execution_count": null,
      "outputs": []
    },
    {
      "cell_type": "code",
      "source": [
        "X_train.columns==X_train_max_r.columns"
      ],
      "metadata": {
        "id": "2OR2eVGhX87e"
      },
      "execution_count": null,
      "outputs": []
    },
    {
      "cell_type": "code",
      "source": [
        "binary_models_max_r = {\n",
        "    'RandomForest-MaxR': RF_model_max_r,\n",
        "    'XGBoost-MaxR': XVG_model_max_r,\n",
        "    'Logistic Regression-MaxR': LR_model_max_r,\n",
        "    'Voting Classifier-MaxR': VC_model_max_r,\n",
        "    'Stacking Classifier-MaxR': S_model_max_r\n",
        "}\n",
        "\n",
        "file_dir = 'trade_files_max_r/'\n",
        "os.makedirs(file_dir, exist_ok=True)\n",
        "\n",
        "combined_predicted_wins_unique_max_r, predicted_win_dfs_max_r = get_prediction_trade_files(df, X_test_max_r, binary_models_max_r, file_dir)\n",
        "combined_predicted_wins_unique_max_r.to_excel(f'{file_dir}regular_combined_prediction_max_R.xlsx', index=False)\n",
        "print(f\"\\nCombined and unique predicted wins saved to '{file_dir}regular_combined_prediction_max_R.xlsx'\")\n",
        "\n",
        "RFS_LC_predicted_wins_unique_max_r = pd.concat([predicted_win_dfs_max_r[0], predicted_win_dfs_max_r[2]], ignore_index=True).drop_duplicates(subset=['S/l']).sort_values(by='S/l')\n",
        "RFS_LC_predicted_wins_unique_max_r.to_excel(f'{file_dir}RFS_LC_max_R.xlsx', index=False)\n",
        "combined_predicted_wins_unique_max_r.shape"
      ],
      "metadata": {
        "id": "sW57yTD-qfwk"
      },
      "execution_count": null,
      "outputs": []
    },
    {
      "cell_type": "code",
      "source": [
        "# Combine combined_predicted_wins_unique and combined_predicted_wins_unique_max_r\n",
        "combined_predicted_wins_all = pd.concat([combined_predicted_wins_unique, combined_predicted_wins_unique_max_r], ignore_index=True).drop_duplicates(subset=['S/l']).sort_values(by='S/l')\n",
        "# Save the combined DataFrame\n",
        "combined_predicted_wins_all.to_excel(f'BR_combined_predicted_wins_all.xlsx', index=False)\n",
        "print(f\"Combined and sorted unique predicted wins from all models (regular and max_r) saved to '{file_dir}combined_predicted_wins_all.xlsx'\")\n",
        "\n",
        "# Combine RFS_LC_predicted_wins_unique and RFS_LC_predicted_wins_unique_max_r\n",
        "combined_RFS_LC_all = pd.concat([RFS_LC_predicted_wins_unique, RFS_LC_predicted_wins_unique_max_r], ignore_index=True).drop_duplicates(subset=['S/l']).sort_values(by='S/l')\n",
        "\n",
        "combined_RFS_LC_all.to_excel(f'BR_combined_RFS_LC_all.xlsx', index=False)\n",
        "print(f\"Combined and sorted unique RFS_LC predicted wins (regular and max_r) saved to '{file_dir}combined_RFS_LC_all.xlsx'\")\n",
        "\n"
      ],
      "metadata": {
        "id": "9zGhrl_LtFid"
      },
      "execution_count": null,
      "outputs": []
    },
    {
      "cell_type": "markdown",
      "source": [
        "#Saving All Data"
      ],
      "metadata": {
        "id": "cidayzdHRvMp"
      }
    },
    {
      "cell_type": "code",
      "source": [
        "# prompt: save all models\n",
        "\n",
        "import joblib\n",
        "import os\n",
        "\n",
        "# Create a directory to save the models if it doesn't exist\n",
        "model_dir = 'saved_models'\n",
        "os.makedirs(model_dir, exist_ok=True)\n",
        "\n",
        "# Define a dictionary of models to save\n",
        "models_to_save = {\n",
        "    'RF_model': RF_model,\n",
        "    'XVG_model': XVG_model,\n",
        "    'LR_model': LR_model,\n",
        "    'VC_model': VC_model,\n",
        "    'S_model': S_model,\n",
        "    'RF_model_m': RF_model_m,\n",
        "    'XVG_model_m': XVG_model_m,\n",
        "    'LR_model_m': LR_model_m,\n",
        "    'VC_model_m': VC_model_m,\n",
        "    'S_model_m': S_model_m,\n",
        "    # Include Max R models if they were successfully trained\n",
        "    'RF_model_max_r': RF_model_max_r if 'RF_model_max_r' in globals() else None,\n",
        "    'XVG_model_max_r': XVG_model_max_r if 'XVG_model_max_r' in globals() else None,\n",
        "    'LR_model_max_r': LR_model_max_r if 'LR_model_max_r' in globals() else None,\n",
        "    'VC_model_max_r': VC_model_max_r if 'VC_model_max_r' in globals() else None,\n",
        "    'S_model_max_r': S_model_max_r if 'S_model_max_r' in globals() else None,\n",
        "    'RF_model_m_max_r': RF_model_m_max_r if 'RF_model_m_max_r' in globals() else None,\n",
        "    'XVG_model_m_max_r': XVG_model_m_max_r if 'XVG_model_m_max_r' in globals() else None,\n",
        "    'LR_model_m_max_r': LR_model_m_max_r if 'LR_model_m_max_r' in globals() else None,\n",
        "    'VC_model_m_max_r': VC_model_m_max_r if 'VC_model_m_max_r' in globals() else None,\n",
        "    'S_model_m_max_r': S_model_m_max_r if 'S_model_m_max_r' in globals() else None,\n",
        "    # Save the label encoder\n",
        "    'label_encoder': label_encoder if 'label_encoder' in globals() else None,\n",
        "    'label_encoder_max_r': label_encoder_max_r if 'label_encoder_max_r' in globals() else None,\n",
        "}\n",
        "\n",
        "# Save each model\n",
        "for name, model in models_to_save.items():\n",
        "    if model is not None: # Check if the model variable exists (especially for Max R models)\n",
        "        filename = os.path.join(model_dir, f'{name}.pkl')\n",
        "        try:\n",
        "            joblib.dump(model, filename)\n",
        "            print(f\"Saved {name} to '{filename}'\")\n",
        "        except Exception as e:\n",
        "            print(f\"Error saving {name}: {e}\")\n",
        "    else:\n",
        "        print(f\"Model '{name}' not found, skipping save.\")\n"
      ],
      "metadata": {
        "id": "eK4BmkQ7vsnC"
      },
      "execution_count": null,
      "outputs": []
    },
    {
      "cell_type": "code",
      "source": [
        "\n",
        "# Get current UTC datetime\n",
        "current_utc_datetime = datetime.now(timezone.utc)\n",
        "\n",
        "# Get the shapes of the training and test sets\n",
        "train_size = X_train.shape[0]\n",
        "test_size = X_test.shape[0]\n",
        "\n",
        "# Format the datetime for the filename and content\n",
        "formatted_datetime = current_utc_datetime.strftime(\"%Y%m%d_%H%M%S_UTC\")\n",
        "\n",
        "# Create a string with the details\n",
        "model_info = f\"Model Training Details\\n\"\n",
        "model_info += f\"Date and Time (UTC): {current_utc_datetime.strftime('%Y-%m-%d %H:%M:%S %Z')}\\n\"\n",
        "model_info += f\"Training Set Size: {train_size} rows\"\n",
        "model_info += f\"----- Test Set Size: {test_size} rows ---- Total: {train_size + test_size} rows in dataset.\\n\"\n",
        "model_info += f\"Train-From S/L: {df.iloc[0]['S/l']} - {df.iloc[train_size-1]['S/l']} Date: {df.iloc[0]['startDateTime'].strftime('%d/%m/%Y %H:%M')} - {df.iloc[train_size-1]['startDateTime'].strftime('%d/%m/%Y %H:%M')}\\n\"\n",
        "model_info +=f\"Test-From S/L: {df.iloc[train_size]['S/l']} - S/L: {df.iloc[-1]['S/l']} Date: {df.iloc[train_size]['startDateTime'].strftime('%d/%m/%Y %H:%M')} - {df.iloc[-1]['startDateTime'].strftime('%d/%m/%Y %H:%M')}\\n\"\n",
        "# model_info += f\"Prediction Targets: {prediction_target['Result_R'].nunique()} unique values\"\n",
        "\n",
        "\n",
        "details_filename = f\"saved_models/model_details.txt\"\n",
        "\n",
        "# Save the details to a text file\n",
        "with open(details_filename, 'w') as f:\n",
        "    f.write(model_info)\n",
        "\n",
        "print(f\"Saved model details to '{details_filename}'\")\n",
        "\n",
        "unique_criteria_list = df['Criteria'].unique().tolist()\n",
        "criteria_filename = os.path.join('saved_models/unique_criteria.txt')\n",
        "with open(criteria_filename, 'w') as f:\n",
        "          for item in unique_criteria_list:\n",
        "            f.write(f\"{item}\\n\")\n",
        "\n",
        "          print(f\"\\nSaved unique criteria to '{criteria_filename}'\")"
      ],
      "metadata": {
        "id": "brwgBgU2KWBR"
      },
      "execution_count": null,
      "outputs": []
    },
    {
      "cell_type": "code",
      "source": [
        "accuracies_dir = 'saved_models/accuracies/'\n",
        "os.makedirs(accuracies_dir, exist_ok=True)\n",
        "\n",
        "regular_model_accuracies.to_excel(f\"{accuracies_dir}regular_model_accuracies.xlsx\", index=False)\n",
        "print(f\"\\nSaved regular model accuracies to {accuracies_dir}regular_model_accuracies.xlsx\")\n",
        "\n",
        "# Combine accuracies for Max R models\n",
        "regular_model_accuracies_max_r.to_excel(f\"{accuracies_dir}max_r_model_accuracies.xlsx\", index=False)\n",
        "print(f\"\\nSaved Max R model accuracies to {accuracies_dir}max_r_model_accuracies.xlsx\")\n",
        "\n",
        "joblib.dump(training_feature_cols, f\"{accuracies_dir}training_feature_cols.pkl\")\n",
        "joblib.dump(precomputed_stats, f\"{accuracies_dir}precomputed_stats.pkl\")\n",
        "joblib.dump(precomputed_stats_max_r, f\"{accuracies_dir}precomputed_stats_max_r.pkl\")"
      ],
      "metadata": {
        "id": "o08Hw63SH4Tk"
      },
      "execution_count": null,
      "outputs": []
    },
    {
      "cell_type": "markdown",
      "source": [
        "#Read Require Data"
      ],
      "metadata": {
        "id": "YdQ5kQYqVKJt"
      }
    },
    {
      "cell_type": "code",
      "source": [
        "def read_accuracy_dataframes(file_dir):\n",
        "    try:\n",
        "      precomputed_stats = joblib.load(f'{file_dir}/precomputed_stats.pkl')\n",
        "      max_r_precomputed_stats = joblib.load(f'{file_dir}/precomputed_stats_max_r.pkl')\n",
        "      training_feature_cols = joblib.load(f'{file_dir}/training_feature_cols.pkl')\n",
        "      regular_accuracies = pd.read_excel(f'{file_dir}/regular_model_accuracies.xlsx')\n",
        "      max_r_accuracies = pd.read_excel(f'{file_dir}/max_r_model_accuracies.xlsx')\n",
        "\n",
        "      print(\"\\n--- Regular Model Accuracies ---\")\n",
        "      print(tabulate(regular_accuracies, headers='keys', tablefmt='psql'))\n",
        "\n",
        "      print(\"\\n--- Max R Model Accuracies ---\")\n",
        "      print(tabulate(max_r_accuracies, headers='keys', tablefmt='psql'))\n",
        "\n",
        "      return precomputed_stats,max_r_precomputed_stats, training_feature_cols, regular_accuracies, max_r_accuracies\n",
        "\n",
        "    except FileNotFoundError:\n",
        "      print(\"Accuracy files not found. Please run the model training section first.\")\n",
        "    except Exception as e:\n",
        "      print(f\"An error occurred while reading the accuracy files: {e}\")"
      ],
      "metadata": {
        "id": "T0cSCV36I5AP"
      },
      "execution_count": null,
      "outputs": []
    },
    {
      "cell_type": "code",
      "source": [
        "accuracies_dir = 'saved_models/accuracies'\n",
        "precomputed_stats,precomputed_stats_max_r, training_feature_cols, regular_accuracies, max_r_accuracies = read_accuracy_dataframes(accuracies_dir)"
      ],
      "metadata": {
        "id": "b01yrnKHaQiL"
      },
      "execution_count": null,
      "outputs": []
    },
    {
      "cell_type": "code",
      "source": [
        "def read_models(model_dir):\n",
        "\n",
        "    # Define lists to store the loaded models\n",
        "    regular_binary_models = []\n",
        "    regular_multi_models = []\n",
        "    max_r_binary_models = []\n",
        "    max_r_multi_models = []\n",
        "\n",
        "    # List of model base names (keys used in filenames)\n",
        "    model_keys = ['RF', 'XVG', 'LR', 'VC', 'S']\n",
        "\n",
        "    # Load regular binary models\n",
        "    print(\"Loading regular binary models...\")\n",
        "    for key in model_keys:\n",
        "        filename = os.path.join(model_dir, f'{key}_model.pkl')\n",
        "        try:\n",
        "            model = joblib.load(filename)\n",
        "            regular_binary_models.append(model)\n",
        "            print(f\"Loaded {key}_model\")\n",
        "        except FileNotFoundError:\n",
        "            print(f\"Error: {key}_model.pkl not found. Please run the saving section first.\")\n",
        "        except Exception as e:\n",
        "            print(f\"Error loading {key}_model: {e}\")\n",
        "\n",
        "    # Load regular multi-class models\n",
        "    print(\"\\nLoading regular multi-class models...\")\n",
        "    for key in model_keys:\n",
        "        filename = os.path.join(model_dir, f'{key}_model_m.pkl')\n",
        "        try:\n",
        "            model = joblib.load(filename)\n",
        "            regular_multi_models.append(model)\n",
        "            print(f\"Loaded {key}_model_m\")\n",
        "        except FileNotFoundError:\n",
        "            print(f\"Error: {key}_model_m.pkl not found. Please run the saving section first.\")\n",
        "        except Exception as e:\n",
        "            print(f\"Error loading {key}_model_m: {e}\")\n",
        "\n",
        "    # Load max R binary models\n",
        "    print(\"\\nLoading Max R binary models...\")\n",
        "    for key in model_keys:\n",
        "        filename = os.path.join(model_dir, f'{key}_model_max_r.pkl')\n",
        "        try:\n",
        "            model = joblib.load(filename)\n",
        "            max_r_binary_models.append(model)\n",
        "            print(f\"Loaded {key}_model_max_r\")\n",
        "        except FileNotFoundError:\n",
        "            print(f\"Error: {key}_model_max_r.pkl not found. Please run the saving section first.\")\n",
        "        except Exception as e:\n",
        "            print(f\"Error loading {key}_model_max_r: {e}\")\n",
        "\n",
        "    # Load max R multi-class models\n",
        "    print(\"\\nLoading Max R multi-class models...\")\n",
        "    for key in model_keys:\n",
        "        filename = os.path.join(model_dir, f'{key}_model_m_max_r.pkl')\n",
        "        try:\n",
        "            model = joblib.load(filename)\n",
        "            max_r_multi_models.append(model)\n",
        "            print(f\"Loaded {key}_model_m_max_r\")\n",
        "        except FileNotFoundError:\n",
        "            print(f\"Error: {key}_model_m_max_r.pkl not found. Please run the saving section first.\")\n",
        "        except Exception as e:\n",
        "            print(f\"Error loading {key}_model_m_max_r: {e}\")\n",
        "\n",
        "    # Load Label Encoders\n",
        "    print(\"\\nLoading Label Encoders...\")\n",
        "    try:\n",
        "        label_encoder = joblib.load(os.path.join(model_dir, 'label_encoder.pkl'))\n",
        "        print(\"Loaded label_encoder\")\n",
        "    except FileNotFoundError:\n",
        "        print(\"Error: label_encoder.pkl not found.\")\n",
        "    except Exception as e:\n",
        "        print(f\"Error loading label_encoder: {e}\")\n",
        "\n",
        "    try:\n",
        "        label_encoder_max_r = joblib.load(os.path.join(model_dir, 'label_encoder_max_r.pkl'))\n",
        "        print(\"Loaded label_encoder_max_r\")\n",
        "    except FileNotFoundError:\n",
        "        print(\"Error: label_encoder_max_r.pkl not found.\")\n",
        "    except Exception as e:\n",
        "        print(f\"Error loading label_encoder_max_r: {e}\")\n",
        "\n",
        "    try:\n",
        "      # Load the saved model details file\n",
        "        filename = os.path.join(model_dir, 'model_details.txt')\n",
        "        with open(filename, 'r') as f:\n",
        "          model_details = f.read()\n",
        "    except Exception as e:\n",
        "        print(f\"Error loading model details.txt, {e}\")\n",
        "    try:\n",
        "      criteria_filename = os.path.join(model_dir, 'unique_criteria.txt')\n",
        "      with open(criteria_filename, 'r') as f:\n",
        "        unique_criteria = [line.strip() for line in f]\n",
        "        print(\"Successfully read unique criteria from file.\")\n",
        "        print(\"Read Criteria:\", unique_criteria)\n",
        "    except Exception as e:\n",
        "        print(f\"An error occurred while reading the file: {e}\")\n",
        "\n",
        "\n",
        "    return regular_binary_models, regular_multi_models, max_r_binary_models, max_r_multi_models, label_encoder, label_encoder_max_r, model_details, unique_criteria"
      ],
      "metadata": {
        "id": "3vtlJirpHqOk"
      },
      "execution_count": null,
      "outputs": []
    },
    {
      "cell_type": "code",
      "source": [
        "model_dir = 'saved_models'\n",
        "regular_binary_models, regular_multi_models, max_r_binary_models, max_r_multi_models, label_encoder, label_encoder_max_r, regular_model_details, unique_criteria = read_models(model_dir)"
      ],
      "metadata": {
        "id": "KmJCK_AlaB1o"
      },
      "execution_count": null,
      "outputs": []
    },
    {
      "cell_type": "markdown",
      "source": [
        "#Final Outputs"
      ],
      "metadata": {
        "id": "FzXOMK39WUjp"
      }
    },
    {
      "cell_type": "code",
      "source": [
        "time_input = \"04:00\"  #@param {type:\"string\"}\n",
        "date_input = \"7/2/2025\"  #@param {type:\"string\"}\n",
        "criteria_input = \"ELC\"  #@param {type:\"string\"}\n",
        "CL = 1 #@param {type:\"integer\"}\n",
        "CW = 0 #@param {type:\"integer\"}\n",
        "\n",
        "model_names = ['Random Forest', 'XGBoost', 'Logistic Regression', 'Voting Classifier', 'Stacking Classifier']\n",
        "model_names_max_r = ['Random Forest', 'XGBoost', 'Logistic Regression', 'Voting Classifier', 'Stacking Classifier']\n",
        "model_keys = ['RF', 'XVG', 'LR', 'VC', 'S']\n",
        "\n",
        "print('...........................Average R Models...........................')\n",
        "print(regular_model_details)\n",
        "show_predictions(time_input, date_input, criteria_input,  CL, CW, training_feature_cols, model_names, model_keys, precomputed_stats=precomputed_stats,label_encoder=label_encoder, b_models=regular_binary_models, m_models=regular_multi_models, b_acc=regular_accuracies['Binary Accuracy'], m_acc=regular_accuracies['Multi-Class (R Bucket) Accuracy'],\n",
        "                 w_threshold=1)\n",
        "\n",
        "print('...........................Max R Models...........................')\n",
        "show_predictions(time_input, date_input, criteria_input, CL, CW, training_feature_cols, model_names_max_r, model_keys, precomputed_stats=precomputed_stats_max_r,label_encoder=label_encoder, b_models=max_r_binary_models, m_models=max_r_multi_models, b_acc=max_r_accuracies['Binary Accuracy'], m_acc=max_r_accuracies['Multi-Class (R Bucket) Accuracy'],\n",
        "                 Max_R=True, w_threshold=1)"
      ],
      "metadata": {
        "id": "V8tR2C5XEVh5"
      },
      "execution_count": null,
      "outputs": []
    },
    {
      "cell_type": "markdown",
      "source": [
        "##Overall Stats Dataframe"
      ],
      "metadata": {
        "id": "79fdmETLWW0N"
      }
    },
    {
      "cell_type": "code",
      "source": [
        "overall_stats_df = overall_stats(X_test_P, X_test, regular_models, training_feature_cols)\n",
        "print(\"\\nOverall Statistics for Trades Predicted as 'Win' by Each Model:\")\n",
        "overall_stats_df"
      ],
      "metadata": {
        "id": "XRaiPWtXUEbB"
      },
      "execution_count": null,
      "outputs": []
    },
    {
      "cell_type": "code",
      "source": [
        "overall_stats_df_max_r = overall_stats(X_test_P_max_r, X_test_max_r, max_r_models, training_feature_cols)\n",
        "print(\"\\nOverall Statistics for Trades Predicted as 'Win' by Each Model (Max_R):\")\n",
        "overall_stats_df_max_r"
      ],
      "metadata": {
        "id": "j_ViDAzKrEYP"
      },
      "execution_count": null,
      "outputs": []
    },
    {
      "cell_type": "code",
      "source": [
        "overall_stats_dir = 'saved_models/accuracies/overall_stats/'\n",
        "os.makedirs(overall_stats_dir, exist_ok=True)\n",
        "\n",
        "overall_stats_df.to_excel(os.path.join(overall_stats_dir, 'regular_overall_stats.xlsx'), index=False)\n",
        "print(f\"Saved overall stats DataFrame to {overall_stats_dir}regular_overall_stats.xlsx\")\n",
        "\n",
        "# Save the overall_stats_df_max_r\n",
        "overall_stats_df_max_r.to_excel(os.path.join(overall_stats_dir, 'max_r_overall_stats.xlsx'), index=False)\n",
        "print(f\"Saved Max R overall stats DataFrame to {overall_stats_dir}max_r_overall_stats.xlsx\")"
      ],
      "metadata": {
        "id": "VvwcKGjJKoiO"
      },
      "execution_count": null,
      "outputs": []
    },
    {
      "cell_type": "markdown",
      "source": [
        "## Confustion Matrics"
      ],
      "metadata": {
        "id": "vb5trDBgWvmV"
      }
    },
    {
      "cell_type": "code",
      "source": [
        "\n",
        "# List of model names for the regular models\n",
        "model_names_regular = ['RandomForest', 'XGBoost', 'Logistic Regression', 'Voting Classifier', 'Stacking Classifier']\n",
        "model_names_multi_regular = ['RandomForest Multi', 'XGBoost Multi', 'Logistic Regression Multi', 'Voting Classifier Multi', 'Stacking Classifier Multi']\n",
        "model_names_max_r = ['RandomForest-Max R', 'XGBoost-Max R', 'Logistic Regression-Max R', 'Voting Classifier-Max R', 'Stacking Classifier-Max R']\n",
        "model_names_m_max_r = ['RandomForest Multi-Max R', 'XGBoost Multi-Max R', 'Logistic Regression Multi-Max R', 'Voting Classifier Multi-Max R', 'Stacking Classifier Multi-Max R']\n",
        "\n",
        "\n",
        "reg_fig = plot_confusion_matrices_horizontal(y_test, regular_binary_predictions, model_names_regular)\n",
        "reg_fig_m = plot_confusion_matrices_horizontal(y_test_enc, regular_multi_predictions, model_names_multi_regular, ticks=sorted(np.unique(y_test_enc)), multi=True)\n",
        "\n",
        "max_r_fig = plot_confusion_matrices_horizontal(y_test_max_r, regular_binary_predictions_max_r, model_names_max_r)\n",
        "max_r_m_fig = plot_confusion_matrices_horizontal(y_test_enc_max_r, regular_multi_predictions_max_r, model_names_m_max_r, ticks=sorted(np.unique(y_test_enc_max_r)), multi=True)\n"
      ],
      "metadata": {
        "id": "InJrnPlfW4p2"
      },
      "execution_count": null,
      "outputs": []
    },
    {
      "cell_type": "code",
      "source": [
        "output_dir = 'saved_models/accuracies/confusion_metrix/'\n",
        "os.makedirs(f'{output_dir}', exist_ok=True)\n",
        "\n",
        "reg_fig.savefig(f'{output_dir}regular_binary.png', bbox_inches='tight')\n",
        "plt.close(reg_fig)\n",
        "\n",
        "reg_fig_m.savefig(f'{output_dir}regular_multi.png', bbox_inches='tight')\n",
        "plt.close(reg_fig_m)\n",
        "\n",
        "max_r_fig.savefig(f'{output_dir}max_R_binary.png', bbox_inches='tight')\n",
        "plt.close(max_r_fig)\n",
        "max_r_m_fig.savefig(f'{output_dir}max_R_multi.png', bbox_inches='tight')\n",
        "plt.close(max_r_m_fig)\n",
        "\n",
        "print(f\"Confusion matrix figures saved to {output_dir}\")"
      ],
      "metadata": {
        "id": "_Lh-Ow1oGU-B"
      },
      "execution_count": null,
      "outputs": []
    },
    {
      "cell_type": "markdown",
      "source": [
        "#Download All Saved Files"
      ],
      "metadata": {
        "id": "wJzULtREWmiq"
      }
    },
    {
      "cell_type": "code",
      "source": [
        "# prompt: download all files in save_models folder to my pc\n",
        "\n",
        "from google.colab import files\n",
        "import os\n",
        "\n",
        "# Specify the directory you want to download from\n",
        "directory_to_download = '/content/'\n",
        "\n",
        "# Check if the directory exists\n",
        "if os.path.exists(directory_to_download):\n",
        "    # Create a zip file of the directory\n",
        "    zip_filename = f\"SMC_{datetime.now(timezone.utc).strftime('%m_%d_%Y')}.zip\"\n",
        "    !zip -r {zip_filename} {directory_to_download}\n",
        "\n",
        "    # Download the zip file\n",
        "    files.download(zip_filename)\n",
        "else:\n",
        "    print(f\"Directory '{directory_to_download}' does not exist.\")"
      ],
      "metadata": {
        "id": "em7umUkvrCzh"
      },
      "execution_count": null,
      "outputs": []
    }
  ]
}