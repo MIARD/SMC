{
  "nbformat": 4,
  "nbformat_minor": 0,
  "metadata": {
    "colab": {
      "provenance": [],
      "gpuType": "T4",
      "collapsed_sections": [
        "dxCj5ma-lYlU",
        "d6HOBC9hrIjA",
        "E5V2f13WrWM2",
        "REMqQ7JqUyi-"
      ],
      "include_colab_link": true
    },
    "kernelspec": {
      "name": "python3",
      "display_name": "Python 3"
    },
    "language_info": {
      "name": "python"
    },
    "accelerator": "GPU"
  },
  "cells": [
    {
      "cell_type": "markdown",
      "metadata": {
        "id": "view-in-github",
        "colab_type": "text"
      },
      "source": [
        "<a href=\"https://colab.research.google.com/github/MIARD/SMC/blob/main/WM_SMC_ML_APP.ipynb\" target=\"_parent\"><img src=\"https://colab.research.google.com/assets/colab-badge.svg\" alt=\"Open In Colab\"/></a>"
      ]
    },
    {
      "cell_type": "code",
      "source": [
        "import joblib\n",
        "import os\n",
        "import pandas as pd\n",
        "import numpy as np\n",
        "from tabulate import tabulate\n",
        "from datetime import datetime\n",
        "import matplotlib.pyplot as plt\n",
        "import seaborn as sns\n",
        "import plotly.express as px"
      ],
      "metadata": {
        "id": "2RWwsewVKBsw"
      },
      "execution_count": 1,
      "outputs": []
    },
    {
      "cell_type": "code",
      "source": [
        "pd.set_option('display.max_rows', None)"
      ],
      "metadata": {
        "id": "UkItsqU2kQ-N"
      },
      "execution_count": 2,
      "outputs": []
    },
    {
      "cell_type": "markdown",
      "source": [
        "##Overall Ratio Functions"
      ],
      "metadata": {
        "id": "dxCj5ma-lYlU"
      }
    },
    {
      "cell_type": "code",
      "source": [
        "def predict_for_combinations(date_input, CL, CW, training_feature_cols, regular_binary_models, model_keys, model_names, precomputed_stats, criteria_values=None, time_values=None):\n",
        "\n",
        "    if criteria_values is None:\n",
        "      criteria_values = set()\n",
        "      for key in precomputed_stats:\n",
        "        if key[0] == 'Criteria':\n",
        "            criteria_values.add(key[1])\n",
        "    if time_values is None:\n",
        "      time_values = set()\n",
        "      for key in precomputed_stats:\n",
        "        if key[0] == '15Min':\n",
        "            time_values.add(key[1])\n",
        "\n",
        "    criteria_values = sorted(list(criteria_values))\n",
        "    time_values = sorted(list(time_values))\n",
        "    print(f\"Unique Criteria: {criteria_values}\")\n",
        "    print(f\"Unique 15Min: {time_values}\")\n",
        "\n",
        "\n",
        "    prediction_results = []\n",
        "    for time_input in time_values:\n",
        "        if len(prediction_results) % 1000 == 0:\n",
        "          print(\"processsing.........:\", time_input)\n",
        "        for criteria_input in criteria_values:\n",
        "\n",
        "            input_features = get_train_data_for_input(\n",
        "                precomputed_stats,\n",
        "                time_input,\n",
        "                date_input,\n",
        "                criteria_input,\n",
        "                training_feature_cols\n",
        "            )\n",
        "\n",
        "            if not input_features.empty:\n",
        "                input_features['CL'] = CL\n",
        "                input_features['CW'] = CW\n",
        "                binary_predictions_sum = 0\n",
        "                for model in regular_binary_models:\n",
        "                    pred_bin, _ = predict_trade_result(model, input_features, training_feature_cols)\n",
        "                    if pred_bin is not None:\n",
        "                        binary_predictions_sum += pred_bin\n",
        "\n",
        "                prediction_results.append({\n",
        "                    'Time': time_input,\n",
        "                    'Criteria': criteria_input,\n",
        "                    'Binary_Prediction_Sum': binary_predictions_sum\n",
        "                })\n",
        "\n",
        "    predictions_df = pd.DataFrame(prediction_results)\n",
        "    return predictions_df"
      ],
      "metadata": {
        "id": "GwtbE7z1H0ur"
      },
      "execution_count": 27,
      "outputs": []
    },
    {
      "cell_type": "code",
      "source": [
        "def plot_prediction_heatmap(df, date, invert=False, interactive=False):\n",
        "    if df.empty:\n",
        "        print(\"No data to plot.\")\n",
        "        return\n",
        "\n",
        "    idx, cols = ('Criteria', 'Time')\n",
        "    if invert: idx, cols = cols, idx\n",
        "\n",
        "    heatmap = df.pivot(index=idx, columns=cols, values='Binary_Prediction_Sum')\n",
        "    heatmap = heatmap.reindex(columns=sorted(heatmap.columns))\n",
        "\n",
        "    if not invert:\n",
        "        bottom_rows = pd.concat([\n",
        "            heatmap.sum(axis=0).to_frame().T.rename(index={0: 'Total Predicted Count'}),\n",
        "            (heatmap > 0).sum(axis=0).to_frame().T.rename(index={0: 'Total Criteria Pred Count'})\n",
        "        ])\n",
        "        heatmap = pd.concat([heatmap, bottom_rows])\n",
        "    else:\n",
        "        heatmap['Total Predicted Count'] = heatmap.sum(axis=1)\n",
        "        heatmap['Total Criteria Pred Count'] = (heatmap > 0).sum(axis=1)\n",
        "\n",
        "    if interactive:\n",
        "        base_size = 30\n",
        "        fig = px.imshow(\n",
        "            heatmap.values, x=heatmap.columns, y=heatmap.index,\n",
        "            text_auto=True, color_continuous_scale='viridis',\n",
        "            labels={'x': cols, 'y': idx, 'color': 'Prediction Sum'},\n",
        "            title=f\"Binary Predictions Heatmap - {date}\"\n",
        "        )\n",
        "        fig.update_layout(\n",
        "            autosize=False,\n",
        "            width=min(1500, max(400, heatmap.shape[1] * base_size)),\n",
        "            height=min(1000, max(300, heatmap.shape[0] * base_size)),\n",
        "            margin=dict(l=40, r=40, t=80, b=40),\n",
        "            font=dict(size=12)\n",
        "        )\n",
        "        fig.show()\n",
        "        return heatmap\n",
        "\n",
        "    mask = np.zeros_like(heatmap, dtype=bool)\n",
        "    if not invert:\n",
        "        mask[-2:, :] = True\n",
        "    else:\n",
        "        mask[:, -2:] = True\n",
        "\n",
        "    plt.figure(figsize=(heatmap.shape[1] * 0.3, heatmap.shape[0] * 0.3))\n",
        "    ax = sns.heatmap(heatmap, annot=True, fmt='d', cmap='viridis', linewidths=0.5, mask=mask)\n",
        "\n",
        "    # Annotate masked cells with gray background\n",
        "    if not invert:\n",
        "        rows = range(len(heatmap) - 2, len(heatmap))\n",
        "        for r in rows:\n",
        "            for c in range(len(heatmap.columns)):\n",
        "                val = int(heatmap.iloc[r, c])\n",
        "                ax.text(c + 0.5, r + 0.5, str(val), ha='center', va='center',\n",
        "                        color='black', fontsize=9,\n",
        "                        bbox=dict(facecolor='lightgray', edgecolor='none', boxstyle='round,pad=0.2'))\n",
        "    else:\n",
        "        cols = range(len(heatmap.columns) - 2, len(heatmap.columns))\n",
        "        for c in cols:\n",
        "            for r in range(len(heatmap)):\n",
        "                val = int(heatmap.iloc[r, c])\n",
        "                ax.text(c + 0.5, r + 0.5, str(val), ha='center', va='center',\n",
        "                        color='black', fontsize=9,\n",
        "                        bbox=dict(facecolor='lightgray', edgecolor='none', boxstyle='round,pad=0.2'))\n",
        "\n",
        "    ax.xaxis.set_ticks_position('both')\n",
        "    ax.tick_params(axis='x', which='both', labeltop=True, top=True, bottom=True, rotation=90)\n",
        "    ax.yaxis.set_ticks_position('both')\n",
        "    ax.tick_params(axis='y', which='both', labelleft=True, labelright=True, left=True, right=True, rotation=0)\n",
        "\n",
        "    plt.title(f'Sum of Binary Predictions Heatmap - {date}')\n",
        "    plt.xlabel('Start Time' if not invert else 'Criteria')\n",
        "    plt.ylabel('Criteria' if not invert else 'Start Time')\n",
        "    plt.tight_layout()\n",
        "    plt.show()\n",
        "\n",
        "    return heatmap"
      ],
      "metadata": {
        "id": "TtqKrqxiJa5G"
      },
      "execution_count": 30,
      "outputs": []
    },
    {
      "cell_type": "markdown",
      "source": [
        "##Get Feature Data & Train Data From Input"
      ],
      "metadata": {
        "id": "d6HOBC9hrIjA"
      }
    },
    {
      "cell_type": "code",
      "source": [
        "def get_feature_data(precomputed_stats, index, row):\n",
        "    # Retrieve stats for individual features\n",
        "    row_data = {}\n",
        "    time_15min = row['15Min']\n",
        "    trade_count_15m, pl_15m, win_rate_15m = precomputed_stats[('15Min', time_15min)]\n",
        "    row_data['15Min_Trade Count'] = trade_count_15m\n",
        "    row_data['15Min_Win Rate'] = win_rate_15m\n",
        "    row_data['15Min_Profit/Loss'] = pl_15m\n",
        "\n",
        "    hour = row['Hour']\n",
        "    trade_count_hour, pl_hour, win_rate_hour = precomputed_stats[('Hour', hour)]\n",
        "    row_data['Hour_Trade Count'] = trade_count_hour\n",
        "    row_data['Hour_Win Rate'] = win_rate_hour\n",
        "    row_data['Hour_Profit/Loss'] = pl_hour\n",
        "    weekday = row['Start_Weekday']\n",
        "    trade_count_weekday, pl_weekday, win_rate_weekday = precomputed_stats[('Weekday', weekday)]\n",
        "    row_data['Weekday_Trade Count'] = trade_count_weekday\n",
        "    row_data['Weekday_Win Rate'] = win_rate_weekday\n",
        "    row_data['Weekday_Profit/Loss'] = pl_weekday\n",
        "\n",
        "    month = row['Month']\n",
        "    trade_count_month, pl_month, win_rate_month = precomputed_stats[('Month', month)]\n",
        "    row_data['Month_Trade Count'] = trade_count_month\n",
        "    row_data['Month_Win Rate'] = win_rate_month\n",
        "    row_data['Month_Profit/Loss'] = pl_month\n",
        "\n",
        "    criteria = row['Criteria']\n",
        "    trade_count_criteria, pl_criteria, win_rate_criteria = precomputed_stats[('Criteria', criteria)]\n",
        "    row_data['Criteria_Trade Count'] = trade_count_criteria\n",
        "    row_data['Criteria_Win Rate'] = win_rate_criteria\n",
        "    row_data['Criteria_Profit/Loss'] = pl_criteria\n",
        "\n",
        "    # Add features for Day of Month and Week of Month\n",
        "    day_of_month = row['Day_of_Month']\n",
        "    trade_count_day, pl_day, win_rate_day = precomputed_stats[('Day_of_Month', day_of_month)]\n",
        "    row_data['Day_of_Month_Trade Count'] = trade_count_day\n",
        "    row_data['Day_of_Month_Win Rate'] = win_rate_day\n",
        "    row_data['Day_of_Month_Profit/Loss'] = pl_day\n",
        "\n",
        "    week_of_month = row['Week_of_Month']\n",
        "    trade_count_week, pl_week, win_rate_week = precomputed_stats[('Week_of_Month', week_of_month)]\n",
        "    row_data['Week_of_Month_Trade Count'] = trade_count_week\n",
        "    row_data['Week_of_Month_Win Rate'] = win_rate_week\n",
        "    row_data['Week_of_Month_Profit/Loss'] = pl_week\n",
        "\n",
        "    # Retrieve stats for combined features\n",
        "    trade_count_weekday_15m, pl_weekday_15m, win_rate_weekday_15m = precomputed_stats[('Weekday_15Min', weekday, time_15min)]\n",
        "    row_data['Weekday_15Min_Trade Count'] = trade_count_weekday_15m\n",
        "    row_data['Weekday_15Min_Win Rate'] = win_rate_weekday_15m\n",
        "    row_data['Weekday_15Min_Profit/Loss'] = pl_weekday_15m\n",
        "\n",
        "    trade_count_weekday_hour, pl_weekday_hour, win_rate_weekday_hour = precomputed_stats[('Weekday_Hour', weekday, hour)]\n",
        "    row_data['Weekday_Hour_Trade Count'] = trade_count_weekday_hour\n",
        "    row_data['Weekday_Hour_Win Rate'] = win_rate_weekday_hour\n",
        "    row_data['Weekday_Hour_Profit/Loss'] = pl_weekday_hour\n",
        "\n",
        "    trade_count_weekday_month, pl_weekday_month, win_rate_weekday_month = precomputed_stats[('Weekday_Month', weekday, month)]\n",
        "    row_data['Weekday_Month_Trade Count'] = trade_count_weekday_month\n",
        "    row_data['Weekday_Month_Win Rate'] = win_rate_weekday_month\n",
        "    row_data['Weekday_Month_Profit/Loss'] = pl_weekday_month\n",
        "\n",
        "    trade_count_criteria_15m, pl_criteria_15m, win_rate_criteria_15m = precomputed_stats[('Criteria_15Min', criteria, time_15min)]\n",
        "    row_data['Criteria_15Min_Trade Count'] = trade_count_criteria_15m\n",
        "    row_data['Criteria_15Min_Win Rate'] = win_rate_criteria_15m\n",
        "    row_data['Criteria_15Min_Profit/Loss'] = pl_criteria_15m\n",
        "\n",
        "    trade_count_criteria_hour, pl_criteria_hour, win_rate_criteria_hour = precomputed_stats[('Criteria_Hour', criteria, hour)]\n",
        "    row_data['Criteria_Hour_Trade Count'] = trade_count_criteria_hour\n",
        "    row_data['Criteria_Hour_Win Rate'] = win_rate_criteria_hour\n",
        "    row_data['Criteria_Hour_Profit/Loss'] = pl_criteria_hour\n",
        "\n",
        "    trade_count_criteria_weekday, pl_criteria_weekday, win_rate_criteria_weekday = precomputed_stats[('Criteria_Weekday', criteria, weekday)]\n",
        "    row_data['Criteria_Weekday_Trade Count'] = trade_count_criteria_weekday\n",
        "    row_data['Criteria_Weekday_Win Rate'] = win_rate_criteria_weekday\n",
        "    row_data['Criteria_Weekday_Profit/Loss'] = pl_criteria_weekday\n",
        "\n",
        "    trade_count_criteria_month, pl_criteria_month, win_rate_criteria_month = precomputed_stats[('Criteria_Month', criteria, month)]\n",
        "    row_data['Criteria_Month_Trade Count'] = trade_count_criteria_month\n",
        "    row_data['Criteria_Month_Win Rate'] = win_rate_criteria_month\n",
        "    row_data['Criteria_Month_Profit/Loss'] = pl_criteria_month\n",
        "\n",
        "    trade_count_hour_month, pl_hour_month, win_rate_hour_month = precomputed_stats[('Hour_Month', hour, month)]\n",
        "    row_data['Hour_Month_Trade Count'] = trade_count_hour_month\n",
        "    row_data['Hour_Month_Win Rate'] = win_rate_hour_month\n",
        "    row_data['Hour_Month_Profit/Loss'] = pl_hour_month\n",
        "\n",
        "    trade_count_15min_month, pl_15min_month, win_rate_15min_month = precomputed_stats[('15Min_Month', time_15min, month)]\n",
        "    row_data['15Min_Month_Trade Count'] = trade_count_15min_month\n",
        "    row_data['15Min_Month_Win Rate'] = win_rate_15min_month\n",
        "    row_data['15Min_Month_Profit/Loss'] = pl_15min_month\n",
        "\n",
        "    # Add combined features for Day of Month and Week of Month\n",
        "    trade_count_weekday_day, pl_weekday_day, win_rate_weekday_day = precomputed_stats[('Weekday_Day', weekday, day_of_month)]\n",
        "    row_data['Weekday_Day_Trade Count'] = trade_count_weekday_day\n",
        "    row_data['Weekday_Day_Win Rate'] = win_rate_weekday_day\n",
        "    row_data['Weekday_Day_Profit/Loss'] = pl_weekday_day\n",
        "\n",
        "    trade_count_weekday_week, pl_weekday_week, win_rate_weekday_week = precomputed_stats[('Weekday_Week', weekday, week_of_month)]\n",
        "    row_data['Weekday_Week_Trade Count'] = trade_count_weekday_week\n",
        "    row_data['Weekday_Week_Win Rate'] = win_rate_weekday_week\n",
        "    row_data['Weekday_Week_Profit/Loss'] = pl_weekday_week\n",
        "\n",
        "    trade_count_criteria_day, pl_criteria_day, win_rate_criteria_day = precomputed_stats[('Criteria_Day', criteria, day_of_month)]\n",
        "    row_data['Criteria_Day_Trade Count'] = trade_count_criteria_day\n",
        "    row_data['Criteria_Day_Win Rate'] = win_rate_criteria_day\n",
        "    row_data['Criteria_Day_Profit/Loss'] = pl_criteria_day\n",
        "\n",
        "    trade_count_criteria_week, pl_criteria_week, win_rate_criteria_week = precomputed_stats[('Criteria_Week', criteria, week_of_month)]\n",
        "    row_data['Criteria_Week_Trade Count'] = trade_count_criteria_week\n",
        "    row_data['Criteria_Week_Win Rate'] = win_rate_criteria_week\n",
        "    row_data['Criteria_Week_Profit/Loss'] = pl_criteria_week\n",
        "\n",
        "    trade_count_hour_day, pl_hour_day, win_rate_hour_day = precomputed_stats[('Hour_Day', hour, day_of_month)]\n",
        "    row_data['Hour_Day_Trade Count'] = trade_count_hour_day\n",
        "    row_data['Hour_Day_Win Rate'] = win_rate_hour_day\n",
        "    row_data['Hour_Day_Profit/Loss'] = pl_hour_day\n",
        "\n",
        "    trade_count_hour_week, pl_hour_week, win_rate_hour_week = precomputed_stats[('Hour_Week', hour, week_of_month)]\n",
        "    row_data['Hour_Week_Trade Count'] = trade_count_hour_week\n",
        "    row_data['Hour_Week_Win Rate'] = win_rate_hour_week\n",
        "    row_data['Hour_Week_Profit/Loss'] = pl_hour_week\n",
        "\n",
        "    trade_count_15min_day, pl_15min_day, win_rate_15min_day = precomputed_stats[('15Min_Day', time_15min, day_of_month)]\n",
        "    row_data['15Min_Day_Trade Count'] = trade_count_15min_day\n",
        "    row_data['15Min_Day_Win Rate'] = win_rate_15min_day\n",
        "    row_data['15Min_Day_Profit/Loss'] = pl_15min_day\n",
        "\n",
        "    trade_count_15min_week, pl_15min_week, win_rate_15min_week = precomputed_stats[('15Min_Week', time_15min, week_of_month)]\n",
        "    row_data['15Min_Week_Trade Count'] = trade_count_15min_week\n",
        "    row_data['15Min_Week_Win Rate'] = win_rate_15min_week\n",
        "    row_data['15Min_Week_Profit/Loss'] = pl_15min_week\n",
        "\n",
        "    trade_count_month_day, pl_month_day, win_rate_month_day = precomputed_stats[('Month_Day', month, day_of_month)]\n",
        "    row_data['Month_Day_Trade Count'] = trade_count_month_day\n",
        "    row_data['Month_Day_Win Rate'] = win_rate_month_day\n",
        "    row_data['Month_Day_Profit/Loss'] = pl_month_day\n",
        "\n",
        "    trade_count_month_week, pl_month_week, win_rate_month_week = precomputed_stats[('Month_Week', month, week_of_month)]\n",
        "    row_data['Month_Week_Trade Count'] = trade_count_month_week\n",
        "    row_data['Month_Week_Win Rate'] = win_rate_month_week\n",
        "    row_data['Month_Week_Profit/Loss'] = pl_month_week\n",
        "\n",
        "    trade_count_day_week, pl_day_week, win_rate_day_week = precomputed_stats[('Day_Week', day_of_month, week_of_month)]\n",
        "    row_data['Day_Week_Trade Count'] = trade_count_day_week\n",
        "    row_data['Day_Week_Win Rate'] = win_rate_day_week\n",
        "    row_data['Day_Week_Profit/Loss'] = pl_day_week\n",
        "\n",
        "    return row_data"
      ],
      "metadata": {
        "id": "1zJo1nyIOVqE"
      },
      "execution_count": 21,
      "outputs": []
    },
    {
      "cell_type": "code",
      "source": [
        "def get_train_data_for_input(precomputed_stats, time_input, date_input, criteria_input, training_feature_cols):\n",
        "\n",
        "    # Convert inputs\n",
        "    try:\n",
        "        input_time = datetime.strptime(time_input, '%H:%M').time()\n",
        "    except ValueError:\n",
        "        print(\"Invalid time format. Use HH:MM.\")\n",
        "        return pd.DataFrame()\n",
        "\n",
        "    try:\n",
        "        input_date = datetime.strptime(date_input, '%m/%d/%Y')\n",
        "    except ValueError:\n",
        "        print(\"Invalid date format. Use M/D/YYYY.\")\n",
        "        return pd.DataFrame()\n",
        "\n",
        "    row_data = {}\n",
        "    input_datetime = datetime.combine(input_date, input_time)\n",
        "    time_15min = input_datetime.strftime('%H:%M')\n",
        "    hour = input_datetime.hour\n",
        "    weekday = input_datetime.strftime('%A')\n",
        "    month = input_datetime.strftime('%B')\n",
        "    criteria = criteria_input\n",
        "    day_of_month = input_datetime.day\n",
        "    week_of_month = (input_datetime.day - 1) // 7 + 1\n",
        "\n",
        "    # Retrieve stats from precomputed_stats dictionary\n",
        "    try:\n",
        "        row = {'15Min': time_15min, 'Hour': hour, 'Start_Weekday': weekday, 'Month': month, 'Criteria': criteria, 'Day_of_Month':day_of_month, 'Week_of_Month':week_of_month}\n",
        "        row_data = get_feature_data(precomputed_stats, 0, row)\n",
        "\n",
        "    except KeyError as e:\n",
        "        print(f\"Error: Missing precomputed statistic for key {e}. Ensure create_precomputed_stats covers all combinations you need.\")\n",
        "        return pd.DataFrame()\n",
        "\n",
        "\n",
        "    # Create DataFrame from the calculated row_data\n",
        "    input_features_df = pd.DataFrame([row_data])\n",
        "    # Reindex the input_features_df to match the training columns, filling missing with 0\n",
        "    input_features_df = input_features_df.reindex(columns=training_feature_cols, fill_value=0)\n",
        "\n",
        "    return input_features_df\n"
      ],
      "metadata": {
        "id": "9u1ALKrL9kRT"
      },
      "execution_count": 19,
      "outputs": []
    },
    {
      "cell_type": "markdown",
      "source": [
        "##Show Prediciton"
      ],
      "metadata": {
        "id": "E5V2f13WrWM2"
      }
    },
    {
      "cell_type": "code",
      "source": [
        "def predict_trade_result(model, input_features_df, training_feature_cols):\n",
        "\n",
        "    if input_features_df.empty:\n",
        "        print(\"Cannot predict: Invalid input features.\")\n",
        "        return None, None\n",
        "\n",
        "    # Make prediction\n",
        "    input_features_df = input_features_df[training_feature_cols]\n",
        "    predicted_class = model.predict(input_features_df)[0]\n",
        "    if predicted_class == 0:\n",
        "        predicted_proba = model.predict_proba(input_features_df)\n",
        "    else:\n",
        "        predicted_proba = model.predict_proba(input_features_df)\n",
        "\n",
        "    return predicted_class, predicted_proba"
      ],
      "metadata": {
        "id": "bXjEgBs5UmuC"
      },
      "execution_count": 23,
      "outputs": []
    },
    {
      "cell_type": "code",
      "source": [
        "def show_predictions(time_input, date_input, criteria_input, CL, CW, training_feature_cols,model_names, model_keys, precomputed_stats=None,label_encoder=None, b_models=None, m_models=None, b_acc=None, m_acc=None, Max_R=False, s_print=True, w_threshold=1):\n",
        "    mr = \"_max_r\" if Max_R else \"\"\n",
        "    # Initialize models and their keys\n",
        "    binary_models = b_models if b_models is not None else [globals()[f\"{k}_model{mr}\"] for k in model_keys]\n",
        "    binary_accuracies = b_acc if b_acc is not None else [globals()[f\"{k}_accuracy{mr}\"] for k in model_keys]\n",
        "\n",
        "    multiclass_models = m_models if m_models is not None else [globals()[f\"{k}_model_m{mr}\"] for k in model_keys]\n",
        "    multiclass_accuracies = m_acc if m_acc is not None else [globals()[f\"{k}_accuracy_m{mr}\"] for k in model_keys]\n",
        "\n",
        "    time_input = datetime.strptime(time_input, '%H:%M').strftime('%H:%M')\n",
        "    date_input = datetime.strptime(date_input, '%m/%d/%Y').strftime('%m/%d/%Y')\n",
        "    if s_print:\n",
        "      print(f\"input:{date_input} {time_input} Criteria: {criteria_input} CL: {CL} CW: {CW}\")\n",
        "\n",
        "    input_features = get_train_data_for_input(precomputed_stats, time_input, date_input, criteria_input, training_feature_cols)\n",
        "    input_features['CL'] = [CL]\n",
        "    input_features['CW'] = [CW]\n",
        "    predictions = []\n",
        "    predictions_multi = []\n",
        "    if not input_features.empty:\n",
        "        table_data = []\n",
        "\n",
        "        for i, name in enumerate(model_names):\n",
        "            # Predict binary\n",
        "            pred_bin, prob_bin = predict_trade_result(binary_models[i], input_features, training_feature_cols)\n",
        "            label_bin = 'Win' if pred_bin == 1 else 'Loss'\n",
        "            acc_bin = f\"{binary_accuracies[i]:.2f}\"\n",
        "            bin_str = f\"{label_bin} ({np.max(prob_bin):.2f}), Acc: {acc_bin}\"\n",
        "\n",
        "            # Predict multiclass\n",
        "            pred_multi, prob_multi = predict_trade_result(multiclass_models[i], input_features, training_feature_cols)\n",
        "            acc_multi = f\"{multiclass_accuracies[i]:.2f}\"\n",
        "            multi_str = f\"Class {label_encoder.inverse_transform([pred_multi])[0]} ({np.max(prob_multi):.2f}), Acc: {acc_multi}\"\n",
        "            table_data.append([name, bin_str, multi_str])\n",
        "            predictions.append(pred_bin)\n",
        "            predictions_multi.append(pred_multi)\n",
        "        predicted_win = predictions.count(1)\n",
        "        predicted_loss = predictions.count(0)\n",
        "        predicted_win_multi = len(predictions)-predictions_multi.count(0)\n",
        "        predicted_loss_multi = predictions_multi.count(0)\n",
        "        trade_decision = \"Win\" if predicted_win > w_threshold else \"Loss\"\n",
        "        trade_decision_multi = \"Win\" if predicted_win_multi >= w_threshold else \"Loss\"\n",
        "        predictions_multi = label_encoder.inverse_transform(predictions_multi).tolist()\n",
        "        max_r = \"\" if trade_decision_multi == \"Loss\" else \"- Max R: \"+str(np.max(predictions_multi))\n",
        "        avg_r = \"\" if trade_decision_multi == \"Loss\" else \"- Average R:\"+str(np.mean([x for x in predictions_multi if x>0]))\n",
        "        # Display table\n",
        "        if s_print:\n",
        "            print(f\"\\n--- 📊 Combined Model Predictions for {date_input} {time_input} ({criteria_input}) -{mr} ---\\n\")\n",
        "            print(f\"Overall decision: ---- Binary: ** {trade_decision} **  Multi: ** {trade_decision_multi}** ---- {max_r} {avg_r}\")\n",
        "            print(f\"Binary Models: Win Predicted **{predicted_win} time **    Multi Models: Win Predicted **{predicted_win_multi}**\")\n",
        "            print(tabulate(table_data, headers=[\"Model\", \"📘 Binary (Win/Loss)\", \"📗 Multi-Class (R Bucket)\"], tablefmt=\"fancy_grid\"))\n",
        "        return predictions, predictions_multi\n",
        "\n",
        "    else:\n",
        "        print(\"❌ Prediction could not be made due to invalid inputs or data.\")\n"
      ],
      "metadata": {
        "id": "FMTN_xdyVTPP"
      },
      "execution_count": 17,
      "outputs": []
    },
    {
      "cell_type": "markdown",
      "source": [
        "#Read Require Data"
      ],
      "metadata": {
        "id": "REMqQ7JqUyi-"
      }
    },
    {
      "cell_type": "markdown",
      "source": [
        "##Read Models"
      ],
      "metadata": {
        "id": "ETy_lAgrU44I"
      }
    },
    {
      "cell_type": "markdown",
      "source": [
        "##Read From Drive"
      ],
      "metadata": {
        "id": "1TlL6vo3JhEe"
      }
    },
    {
      "cell_type": "code",
      "source": [
        "# # Mount Google Drive\n",
        "# from google.colab import drive\n",
        "# drive.mount('/content/drive')\n",
        "# %cd /content/\n",
        "# !rm -rf SMC/"
      ],
      "metadata": {
        "id": "MYbNFeahJcm5"
      },
      "execution_count": null,
      "outputs": []
    },
    {
      "cell_type": "code",
      "source": [
        "\n",
        "# !cp -r /content/drive/MyDrive/SMC /content/\n",
        "# %cd /content/SMC\n",
        "\n",
        "# !ls"
      ],
      "metadata": {
        "id": "fF4KtKXOH8JJ"
      },
      "execution_count": null,
      "outputs": []
    },
    {
      "cell_type": "markdown",
      "source": [
        "##Read From Git"
      ],
      "metadata": {
        "id": "8Oo8913xJjcl"
      }
    },
    {
      "cell_type": "code",
      "source": [
        "# # Clone the GitHub repository\n",
        "!git clone https://github.com/MIARD/SMC.git\n",
        "\n",
        "# Move into the cloned directory\n",
        "%cd SMC\n",
        "\n",
        "# List files to confirm\n",
        "!ls"
      ],
      "metadata": {
        "colab": {
          "base_uri": "https://localhost:8080/"
        },
        "id": "ByL4dhZ45eKu",
        "outputId": "cea41d71-a24b-482c-fee8-8e03b60b6d8a"
      },
      "execution_count": 3,
      "outputs": [
        {
          "output_type": "stream",
          "name": "stdout",
          "text": [
            "Cloning into 'SMC'...\n",
            "remote: Enumerating objects: 467, done.\u001b[K\n",
            "remote: Counting objects: 100% (131/131), done.\u001b[K\n",
            "remote: Compressing objects: 100% (69/69), done.\u001b[K\n",
            "remote: Total 467 (delta 89), reused 89 (delta 62), pack-reused 336 (from 1)\u001b[K\n",
            "Receiving objects: 100% (467/467), 78.55 MiB | 22.50 MiB/s, done.\n",
            "Resolving deltas: 100% (325/325), done.\n",
            "Updating files: 100% (102/102), done.\n",
            "/content/SMC\n",
            "cmd_arg.txt    README.md\t\tSMC_ML_APP.ipynb  SSL_T_MR.xlsx\n",
            "Get_EMA.ipynb  saved_models\t\tsmc_ml_app.py\t  SSL_T.xlsx\n",
            "get-pip.py     SMC_Data_Analysis.ipynb\tSMC_ML.ipynb\t  temp_models\n",
            "old_models     smc_data_analysis.py\tsmc_ml.py\n"
          ]
        }
      ]
    },
    {
      "cell_type": "markdown",
      "source": [
        "##Read info"
      ],
      "metadata": {
        "id": "r7DkoswOLCTP"
      }
    },
    {
      "cell_type": "code",
      "source": [
        "def read_accuracy_dataframes(file_dir, s_print=True):\n",
        "    try:\n",
        "      precomputed_stats = joblib.load(f'{file_dir}/precomputed_stats.pkl')\n",
        "      max_r_precomputed_stats = joblib.load(f'{file_dir}/precomputed_stats_max_r.pkl')\n",
        "      training_feature_cols = joblib.load(f'{file_dir}/training_feature_cols.pkl')\n",
        "      regular_accuracies = pd.read_excel(f'{file_dir}/regular_model_accuracies.xlsx')\n",
        "      max_r_accuracies = pd.read_excel(f'{file_dir}/max_r_model_accuracies.xlsx')\n",
        "\n",
        "      if s_print:\n",
        "        print(\"\\n--- Regular Model Accuracies ---\")\n",
        "        print(tabulate(regular_accuracies, headers='keys', tablefmt='psql'))\n",
        "\n",
        "        print(\"\\n--- Max R Model Accuracies ---\")\n",
        "        print(tabulate(max_r_accuracies, headers='keys', tablefmt='psql'))\n",
        "\n",
        "      return precomputed_stats,max_r_precomputed_stats, training_feature_cols, regular_accuracies, max_r_accuracies\n",
        "\n",
        "    except FileNotFoundError:\n",
        "      print(\"Accuracy files not found. Please run the model training section first.\")\n",
        "    except Exception as e:\n",
        "      print(f\"An error occurred while reading the accuracy files: {e}\")"
      ],
      "metadata": {
        "id": "o4dI44CFLBwW"
      },
      "execution_count": 4,
      "outputs": []
    },
    {
      "cell_type": "code",
      "source": [
        "accuracies_dir = 'saved_models/accuracies'\n",
        "precomputed_stats,precomputed_stats_max_r, training_feature_cols, regular_accuracies, max_r_accuracies = read_accuracy_dataframes(accuracies_dir, s_print=False)"
      ],
      "metadata": {
        "id": "PqnqJMERNNIR"
      },
      "execution_count": 14,
      "outputs": []
    },
    {
      "cell_type": "code",
      "source": [
        "old_accuracies_dir = 'old_models/accuracies'\n",
        "old_precomputed_stats,old_precomputed_stats_max_r, old_training_feature_cols, old_regular_accuracies, old_max_r_accuracies = read_accuracy_dataframes(old_accuracies_dir, s_print=False)"
      ],
      "metadata": {
        "colab": {
          "base_uri": "https://localhost:8080/"
        },
        "id": "_Bwz93UQNNl5",
        "outputId": "046c1148-07ad-4fbc-c3d7-a3970cb2c619"
      },
      "execution_count": 15,
      "outputs": [
        {
          "output_type": "stream",
          "name": "stdout",
          "text": [
            "OLD Model:\n"
          ]
        }
      ]
    },
    {
      "cell_type": "markdown",
      "source": [
        "##Loading Models"
      ],
      "metadata": {
        "id": "Vx9wuV6GJoS4"
      }
    },
    {
      "cell_type": "code",
      "source": [
        "def read_models(model_dir):\n",
        "    regular_binary_models = []\n",
        "    regular_multi_models = []\n",
        "    max_r_binary_models = []\n",
        "    max_r_multi_models = []\n",
        "\n",
        "    # List of model base names (keys used in filenames)\n",
        "    model_keys = ['RF', 'XVG', 'LR', 'VC', 'S']\n",
        "\n",
        "    for key in model_keys:\n",
        "        filename = os.path.join(model_dir, f'{key}_model.pkl')\n",
        "        try:\n",
        "            model = joblib.load(filename)\n",
        "            regular_binary_models.append(model)\n",
        "        except FileNotFoundError:\n",
        "            print(f\"Error: {key}_model.pkl not found. Please run the saving section first.\")\n",
        "        except Exception as e:\n",
        "            print(f\"Error loading {key}_model: {e}\")\n",
        "\n",
        "\n",
        "    for key in model_keys:\n",
        "        filename = os.path.join(model_dir, f'{key}_model_m.pkl')\n",
        "        try:\n",
        "            model = joblib.load(filename)\n",
        "            regular_multi_models.append(model)\n",
        "        except FileNotFoundError:\n",
        "            print(f\"Error: {key}_model_m.pkl not found. Please run the saving section first.\")\n",
        "        except Exception as e:\n",
        "            print(f\"Error loading {key}_model_m: {e}\")\n",
        "\n",
        "    for key in model_keys:\n",
        "        filename = os.path.join(model_dir, f'{key}_model_max_r.pkl')\n",
        "        try:\n",
        "            model = joblib.load(filename)\n",
        "            max_r_binary_models.append(model)\n",
        "            print(f\"Loaded {key}_model_max_r\")\n",
        "        except FileNotFoundError:\n",
        "            print(f\"Error: {key}_model_max_r.pkl not found. Please run the saving section first.\")\n",
        "        except Exception as e:\n",
        "            print(f\"Error loading {key}_model_max_r: {e}\")\n",
        "\n",
        "\n",
        "    for key in model_keys:\n",
        "        filename = os.path.join(model_dir, f'{key}_model_m_max_r.pkl')\n",
        "        try:\n",
        "            model = joblib.load(filename)\n",
        "            max_r_multi_models.append(model)\n",
        "        except FileNotFoundError:\n",
        "            print(f\"Error: {key}_model_m_max_r.pkl not found. Please run the saving section first.\")\n",
        "        except Exception as e:\n",
        "            print(f\"Error loading {key}_model_m_max_r: {e}\")\n",
        "\n",
        "    try:\n",
        "        label_encoder = joblib.load(os.path.join(model_dir, 'label_encoder.pkl'))\n",
        "    except FileNotFoundError:\n",
        "        print(\"Error: label_encoder.pkl not found.\")\n",
        "    except Exception as e:\n",
        "        print(f\"Error loading label_encoder: {e}\")\n",
        "\n",
        "    try:\n",
        "        label_encoder_max_r = joblib.load(os.path.join(model_dir, 'label_encoder_max_r.pkl'))\n",
        "    except FileNotFoundError:\n",
        "        print(\"Error: label_encoder_max_r.pkl not found.\")\n",
        "    except Exception as e:\n",
        "        print(f\"Error loading label_encoder_max_r: {e}\")\n",
        "\n",
        "    try:\n",
        "        filename = os.path.join(model_dir, 'model_details.txt')\n",
        "        with open(filename, 'r') as f:\n",
        "          model_details = f.read()\n",
        "    except Exception as e:\n",
        "        print(f\"Error loading model details.txt, {e}\")\n",
        "\n",
        "    return regular_binary_models, regular_multi_models, max_r_binary_models, max_r_multi_models, label_encoder, label_encoder_max_r, model_details"
      ],
      "metadata": {
        "id": "3vtlJirpHqOk"
      },
      "execution_count": 10,
      "outputs": []
    },
    {
      "cell_type": "code",
      "source": [
        "model_dir = 'saved_models'\n",
        "regular_binary_models, regular_multi_models, max_r_binary_models, max_r_multi_models, label_encoder, label_encoder_max_r, regular_model_details = read_models(model_dir)"
      ],
      "metadata": {
        "colab": {
          "base_uri": "https://localhost:8080/"
        },
        "id": "DTDiG0or4TL6",
        "outputId": "3f01d70f-11a8-459a-ead7-7e20aa9ea23d"
      },
      "execution_count": 11,
      "outputs": [
        {
          "output_type": "stream",
          "name": "stdout",
          "text": [
            "Loaded RF_model_max_r\n",
            "Loaded XVG_model_max_r\n",
            "Loaded LR_model_max_r\n",
            "Loaded VC_model_max_r\n",
            "Loaded S_model_max_r\n"
          ]
        }
      ]
    },
    {
      "cell_type": "code",
      "source": [
        "old_models_dir = 'old_models'\n",
        "print('OLD Model:')\n",
        "old_regular_binary_models, old_regular_multi_models, old_max_r_binary_models, old_max_r_multi_models, old_label_encoder, old_label_encoder_max_r, old_model_details = read_models(old_models_dir)"
      ],
      "metadata": {
        "colab": {
          "base_uri": "https://localhost:8080/"
        },
        "id": "kjT1I8RDMpla",
        "outputId": "8c867588-1da8-4541-9fa0-1715512df0e0"
      },
      "execution_count": 12,
      "outputs": [
        {
          "output_type": "stream",
          "name": "stdout",
          "text": [
            "OLD Model:\n",
            "Loaded RF_model_max_r\n",
            "Loaded XVG_model_max_r\n",
            "Loaded LR_model_max_r\n",
            "Loaded VC_model_max_r\n",
            "Loaded S_model_max_r\n"
          ]
        }
      ]
    },
    {
      "cell_type": "code",
      "source": [
        "temp_models_dir = 'temp_models'\n",
        "temp_accuracies_dir = 'temp_models/accuracies'\n",
        "print('Temp Model:')\n",
        "temp_regular_binary_models, temp_regular_multi_models, temp_max_r_binary_models, temp_max_r_multi_models, temp_label_encoder, temp_label_encoder_max_r, temp_model_details = read_models(temp_models_dir)\n",
        "temp_precomputed_stats, temp_precomputed_stats_max_r, temp_training_feature_cols, temp_regular_accuracies, temp_max_r_accuracies = read_accuracy_dataframes(temp_accuracies_dir, s_print=False)"
      ],
      "metadata": {
        "id": "4UAqf2P6pC7L",
        "colab": {
          "base_uri": "https://localhost:8080/"
        },
        "outputId": "d5c98269-1f45-4eb5-e7b9-4875a9b92ce7"
      },
      "execution_count": 13,
      "outputs": [
        {
          "output_type": "stream",
          "name": "stdout",
          "text": [
            "Temp Model:\n",
            "Loaded RF_model_max_r\n",
            "Loaded XVG_model_max_r\n",
            "Loaded LR_model_max_r\n",
            "Loaded VC_model_max_r\n",
            "Loaded S_model_max_r\n"
          ]
        }
      ]
    },
    {
      "cell_type": "markdown",
      "source": [
        "#Prediction App"
      ],
      "metadata": {
        "id": "PWqwfET6E9np"
      }
    },
    {
      "cell_type": "code",
      "source": [
        "time_input = \"15:45\"  #@param {type:\"string\"}\n",
        "date_input = \"7/3/2025\"  #@param {type:\"string\"}\n",
        "criteria_input = \"LW\"  #@param {type:\"string\"}\n",
        "CL = 5 #@param {type:\"integer\"}\n",
        "CW = 0 #@param {type:\"integer\"}\n",
        "\n",
        "\n",
        "model_names = ['Random Forest', 'XGBoost', 'Logistic Regression', 'Voting Classifier', 'Stacking Classifier']\n",
        "model_names_max_r = ['Random Forest', 'XGBoost', 'Logistic Regression', 'Voting Classifier', 'Stacking Classifier']\n",
        "model_keys = ['RF', 'XVG', 'LR', 'VC', 'S']\n",
        "\n",
        "print('...........................New Models...........................')\n",
        "print(regular_model_details)\n",
        "show_predictions(time_input, date_input, criteria_input,  CL, CW, training_feature_cols, model_names, model_keys, precomputed_stats=precomputed_stats, label_encoder=label_encoder, b_models= regular_binary_models, m_models= regular_multi_models, b_acc=regular_accuracies['Binary Accuracy'], m_acc=regular_accuracies['Multi-Class (R Bucket) Accuracy'],\n",
        "                 w_threshold=1)\n",
        "\n",
        "print(\"...........................Old Models...........................\")\n",
        "print(old_model_details)\n",
        "show_predictions(time_input, date_input, criteria_input,  CL, CW, training_feature_cols, model_names, model_keys, precomputed_stats=old_precomputed_stats, label_encoder=old_label_encoder, b_models= old_regular_binary_models, m_models= old_regular_multi_models, b_acc=old_regular_accuracies['Binary Accuracy'], m_acc= old_regular_accuracies['Multi-Class (R Bucket) Accuracy'],\n",
        "                 w_threshold=1)\n",
        "print(\"...........................Testing Models...........................\")\n",
        "print(temp_model_details)\n",
        "show_predictions(time_input, date_input, criteria_input, CL, CW,  training_feature_cols, model_names, model_keys, precomputed_stats=temp_precomputed_stats, label_encoder=temp_label_encoder, b_models= temp_regular_binary_models, m_models= temp_regular_multi_models, b_acc= temp_regular_accuracies['Binary Accuracy'], m_acc=temp_regular_accuracies['Multi-Class (R Bucket) Accuracy'],\n",
        "                 w_threshold=1)"
      ],
      "metadata": {
        "colab": {
          "base_uri": "https://localhost:8080/"
        },
        "outputId": "9f2fed78-57f9-4d99-a901-acf7cd448613",
        "id": "aMMuQpLSE9nq"
      },
      "execution_count": 24,
      "outputs": [
        {
          "output_type": "stream",
          "name": "stdout",
          "text": [
            "...........................New Models...........................\n",
            "Model Training Details\n",
            "Date and Time (UTC): 2025-07-02 11:26:49 UTC\n",
            "Training Set Size: 3073 rows----- Test Set Size: 20 rows ---- Total: 3093 rows in dataset.\n",
            "Number of Features: 83 \n",
            "\n",
            "input:07/03/2025 15:45 Criteria: LW CL: 5 CW: 0\n",
            "\n",
            "--- 📊 Combined Model Predictions for 07/03/2025 15:45 (LW) - ---\n",
            "\n",
            "Overall decision: ---- Binary: ** Loss **  Multi: ** Loss** ----  \n",
            "Binary Models: Win Predicted **0 time **    Multi Models: Win Predicted **0**\n",
            "╒═════════════════════╤════════════════════════╤═════════════════════════════╕\n",
            "│ Model               │ 📘 Binary (Win/Loss)   │ 📗 Multi-Class (R Bucket)   │\n",
            "╞═════════════════════╪════════════════════════╪═════════════════════════════╡\n",
            "│ Random Forest       │ Loss (0.80), Acc: 0.95 │ Class 1 (0.76), Acc: 0.90   │\n",
            "├─────────────────────┼────────────────────────┼─────────────────────────────┤\n",
            "│ XGBoost             │ Loss (1.00), Acc: 0.95 │ Class 1 (1.00), Acc: 0.95   │\n",
            "├─────────────────────┼────────────────────────┼─────────────────────────────┤\n",
            "│ Logistic Regression │ Loss (1.00), Acc: 1.00 │ Class 1 (1.00), Acc: 0.90   │\n",
            "├─────────────────────┼────────────────────────┼─────────────────────────────┤\n",
            "│ Voting Classifier   │ Loss (0.93), Acc: 0.95 │ Class 1 (0.92), Acc: 0.95   │\n",
            "├─────────────────────┼────────────────────────┼─────────────────────────────┤\n",
            "│ Stacking Classifier │ Loss (1.00), Acc: 1.00 │ Class 1 (1.00), Acc: 0.90   │\n",
            "╘═════════════════════╧════════════════════════╧═════════════════════════════╛\n",
            "...........................Old Models...........................\n",
            "Model Training Details\n",
            "Date and Time (UTC): 2025-07-03 16:17:21 UTC\n",
            "Training Set Size: 2803 rows----- Test Set Size: 312 rows ---- Total: 3115 rows in dataset.\n",
            "Train-From S/L: 1 - 2803 Date: 23/10/2024 09:15 - 07/06/2025 08:30\n",
            "Test-From S/L: 2804 - S/L: 3115 Date: 07/06/2025 10:30 - 03/07/2025 11:00\n",
            "\n",
            "input:07/03/2025 15:45 Criteria: LW CL: 5 CW: 0\n",
            "\n",
            "--- 📊 Combined Model Predictions for 07/03/2025 15:45 (LW) - ---\n",
            "\n",
            "Overall decision: ---- Binary: ** Loss **  Multi: ** Loss** ----  \n",
            "Binary Models: Win Predicted **0 time **    Multi Models: Win Predicted **0**\n",
            "╒═════════════════════╤════════════════════════╤═════════════════════════════╕\n",
            "│ Model               │ 📘 Binary (Win/Loss)   │ 📗 Multi-Class (R Bucket)   │\n",
            "╞═════════════════════╪════════════════════════╪═════════════════════════════╡\n",
            "│ Random Forest       │ Loss (0.81), Acc: 0.96 │ Class 1 (0.80), Acc: 0.86   │\n",
            "├─────────────────────┼────────────────────────┼─────────────────────────────┤\n",
            "│ XGBoost             │ Loss (1.00), Acc: 0.96 │ Class 1 (1.00), Acc: 0.88   │\n",
            "├─────────────────────┼────────────────────────┼─────────────────────────────┤\n",
            "│ Logistic Regression │ Loss (1.00), Acc: 0.98 │ Class 1 (1.00), Acc: 0.87   │\n",
            "├─────────────────────┼────────────────────────┼─────────────────────────────┤\n",
            "│ Voting Classifier   │ Loss (0.94), Acc: 0.96 │ Class 1 (0.93), Acc: 0.88   │\n",
            "├─────────────────────┼────────────────────────┼─────────────────────────────┤\n",
            "│ Stacking Classifier │ Loss (1.00), Acc: 0.98 │ Class 1 (1.00), Acc: 0.88   │\n",
            "╘═════════════════════╧════════════════════════╧═════════════════════════════╛\n",
            "...........................Testing Models...........................\n",
            "Model Training Details\n",
            "Date and Time (UTC): 2025-07-03 05:09:24 UTC\n",
            "Training Set Size: 3106 rows----- Test Set Size: 5 rows ---- Total: 3111 rows in dataset.\n",
            "Number of Features: 83 \n",
            "\n",
            "input:07/03/2025 15:45 Criteria: LW CL: 5 CW: 0\n",
            "\n",
            "--- 📊 Combined Model Predictions for 07/03/2025 15:45 (LW) - ---\n",
            "\n",
            "Overall decision: ---- Binary: ** Loss **  Multi: ** Loss** ----  \n",
            "Binary Models: Win Predicted **0 time **    Multi Models: Win Predicted **0**\n",
            "╒═════════════════════╤════════════════════════╤═════════════════════════════╕\n",
            "│ Model               │ 📘 Binary (Win/Loss)   │ 📗 Multi-Class (R Bucket)   │\n",
            "╞═════════════════════╪════════════════════════╪═════════════════════════════╡\n",
            "│ Random Forest       │ Loss (0.89), Acc: 1.00 │ Class 1 (0.83), Acc: 0.80   │\n",
            "├─────────────────────┼────────────────────────┼─────────────────────────────┤\n",
            "│ XGBoost             │ Loss (1.00), Acc: 1.00 │ Class 1 (1.00), Acc: 0.80   │\n",
            "├─────────────────────┼────────────────────────┼─────────────────────────────┤\n",
            "│ Logistic Regression │ Loss (1.00), Acc: 1.00 │ Class 1 (1.00), Acc: 0.80   │\n",
            "├─────────────────────┼────────────────────────┼─────────────────────────────┤\n",
            "│ Voting Classifier   │ Loss (0.96), Acc: 1.00 │ Class 1 (0.94), Acc: 0.80   │\n",
            "├─────────────────────┼────────────────────────┼─────────────────────────────┤\n",
            "│ Stacking Classifier │ Loss (1.00), Acc: 1.00 │ Class 1 (1.00), Acc: 0.80   │\n",
            "╘═════════════════════╧════════════════════════╧═════════════════════════════╛\n"
          ]
        },
        {
          "output_type": "execute_result",
          "data": {
            "text/plain": [
              "([np.int64(0), np.int64(0), np.int64(0), np.int64(0), np.int64(0)],\n",
              " [1, 1, 1, 1, 1])"
            ]
          },
          "metadata": {},
          "execution_count": 24
        }
      ]
    },
    {
      "cell_type": "code",
      "source": [
        "# print('...........................Max R Models...........................')\n",
        "# show_predictions(time_input, date_input, criteria_input, CL, CW, training_feature_cols, model_names_max_r, model_keys,precomputed_stats=precomputed_stats_max_r,label_encoder=label_encoder, b_models=max_r_binary_models, m_models=max_r_multi_models, b_acc=max_r_accuracies['Binary Accuracy'], m_acc=max_r_accuracies['Multi-Class (R Bucket) Accuracy'],\n",
        "#                  Max_R=True, w_threshold=1)\n",
        "# print('...........................Old Max R Models...........................')\n",
        "\n",
        "# show_predictions(time_input, date_input, criteria_input, CL, CW, training_feature_cols, model_names_max_r, model_keys,precomputed_stats=old_precomputed_stats_max_r,label_encoder=old_label_encoder, b_models=old_max_r_binary_models, m_models=old_max_r_multi_models, b_acc=old_max_r_accuracies['Binary Accuracy'], m_acc=old_max_r_accuracies['Multi-Class (R Bucket) Accuracy'],\n",
        "#                  Max_R=True, w_threshold=1)"
      ],
      "metadata": {
        "id": "tL0q1NWwxgAx"
      },
      "execution_count": null,
      "outputs": []
    },
    {
      "cell_type": "code",
      "source": [
        "input_date_comb = \"7/03/2025\"  #@param {type:\"string\"}\n",
        "input_CL_comb = 3 #@param {type:\"integer\"}\n",
        "input_CW_comb = 0 #@param {type:\"integer\"}\n",
        "\n",
        "input_date_comb = datetime.strptime(input_date_comb, '%m/%d/%Y').strftime('%m/%d/%Y')\n",
        "\n",
        "time_values=['17:00', '17:15', '17:30', '17:45', '18:00']\n",
        "criteria_values=None\n",
        "\n",
        "prediction_combinations_df = predict_for_combinations(\n",
        "    input_date_comb,\n",
        "    input_CL_comb,\n",
        "    input_CW_comb,\n",
        "    old_training_feature_cols,\n",
        "    old_regular_binary_models,\n",
        "    model_keys,\n",
        "    model_names,\n",
        "    old_precomputed_stats,\n",
        "    criteria_values,\n",
        "    time_values=time_values\n",
        ")\n",
        "\n",
        "print(\"\\n--- Sum of Binary Predictions for all Time/Criteria Combinations ---\")\n",
        "print(prediction_combinations_df.head()) # Show first few rows\n"
      ],
      "metadata": {
        "colab": {
          "base_uri": "https://localhost:8080/"
        },
        "id": "eEgJfFYuOdMY",
        "outputId": "f05b56d0-bc04-4ea7-8d22-59d224265747"
      },
      "execution_count": 28,
      "outputs": [
        {
          "output_type": "stream",
          "name": "stdout",
          "text": [
            "Unique Criteria: ['3FC', 'BTWT', 'DLTPS', 'DTLT', 'EL', 'EL HL', 'EL LL', 'EL SBPS', 'EL SPS', 'ELBPS', 'ELC', 'ELCI', 'ELUP', 'ELUPF', 'ELUPR', 'ElC', 'LG BPS', 'LG C', 'LG DTLPS', 'LG EL', 'LG ELC', 'LG IPS', 'LG LH', 'LG LL', 'LG PDH', 'LG PDL', 'LG PMH', 'LG PML', 'LG PS', 'LG PWH', 'LG PWL', 'LG RGC', 'LG RGC UP', 'LG RGC UPF', 'LG RGCR', 'LG SBPS', 'LG SHL', 'LG SLH', 'LG SPS', 'LGG EL', 'LGG PDH', 'LGG PWL', 'LW', 'PDHC', 'PDHC + LG PDH', 'PDLC', 'PDLC + LG PDL', 'PMHC', 'PMLC', 'PWHC', 'PWHC + LG PWH', 'PWLC', 'TPWL', 'UTLT', 'lG RGC']\n",
            "Unique 15Min: ['17:00', '17:15', '17:30', '17:45', '18:00']\n",
            "processsing.........: 17:00\n",
            "\n",
            "--- Sum of Binary Predictions for all Time/Criteria Combinations ---\n",
            "    Time Criteria  Binary_Prediction_Sum\n",
            "0  17:00      3FC                      0\n",
            "1  17:00     BTWT                      0\n",
            "2  17:00    DLTPS                      0\n",
            "3  17:00     DTLT                      0\n",
            "4  17:00       EL                      0\n"
          ]
        }
      ]
    },
    {
      "cell_type": "code",
      "source": [
        "heatmap_data=plot_prediction_heatmap(prediction_combinations_df, input_date_comb, invert=True, interactive=False)"
      ],
      "metadata": {
        "colab": {
          "base_uri": "https://localhost:8080/",
          "height": 588
        },
        "id": "bl3EVqhwOg22",
        "outputId": "a6d4658f-7a08-4985-a6cf-413e029da36c"
      },
      "execution_count": 31,
      "outputs": [
        {
          "output_type": "stream",
          "name": "stderr",
          "text": [
            "/tmp/ipython-input-30-1444542797.py:75: UserWarning: Tight layout not applied. The bottom and top margins cannot be made large enough to accommodate all Axes decorations.\n",
            "  plt.tight_layout()\n"
          ]
        },
        {
          "output_type": "display_data",
          "data": {
            "text/plain": [
              "<Figure size 1710x150 with 2 Axes>"
            ],
            "image/png": "[encoded data removed]"
          },
          "metadata": {}
        }
      ]
    },
    {
      "cell_type": "code",
      "source": [],
      "metadata": {
        "id": "_IpoCysxOuJ-"
      },
      "execution_count": null,
      "outputs": []
    }
  ]
}